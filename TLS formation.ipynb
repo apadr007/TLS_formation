{
 "cells": [
  {
   "cell_type": "markdown",
   "metadata": {},
   "source": [
    "# Gillespie Model for inter and intramolecular association preference"
   ]
  },
  {
   "cell_type": "markdown",
   "metadata": {},
   "source": [
    "# Load functions"
   ]
  },
  {
   "cell_type": "code",
   "execution_count": 1,
   "metadata": {},
   "outputs": [],
   "source": [
    "# illegal position generator tells us where NOT to move to"
   ]
  },
  {
   "cell_type": "code",
   "execution_count": 1344,
   "metadata": {},
   "outputs": [],
   "source": [
    "def illegal_position_generator(spaceMax, spaceMin):\n",
    "    from itertools import permutations\n",
    "    boundary = spaceMax + 2\n",
    "    lower_boundary = spaceMin - 1\n",
    "    items = range(lower_boundary, boundary)\n",
    "    moves = {}\n",
    "    i = 0\n",
    "    for p in permutations(items, 2):\n",
    "        moves[i] = p\n",
    "        i += 1\n",
    "\n",
    "    illegal_moves = {}\n",
    "    legal_moves = {}\n",
    "    for key,value in moves.items():\n",
    "        for n,i in enumerate(value):\n",
    "            try:        \n",
    "                if i <= spaceMin or i >= spaceMax:\n",
    "                    illegal_moves[key] = value\n",
    "            except:\n",
    "                continue\n",
    "                \n",
    "    for key, value in illegal_moves.iteritems():\n",
    "        if value in moves.values():\n",
    "            del moves[key]\n",
    "\n",
    "    #This changes values into keys and vice versa\n",
    "    moves = {y:x for x,y in moves.iteritems()}\n",
    "    illegal_moves = {y:x for x,y in illegal_moves.iteritems()}\n",
    "   \n",
    "    # include positions at edges\n",
    "    illegal_moves.update({(spaceMin,spaceMin):10000000, (spaceMax, spaceMax):100000001 })\n",
    "    \n",
    "    return moves, illegal_moves"
   ]
  },
  {
   "cell_type": "code",
   "execution_count": 1345,
   "metadata": {},
   "outputs": [],
   "source": [
    "# layout_gen function randomly places nodes on a NxN grid"
   ]
  },
  {
   "cell_type": "code",
   "execution_count": 1346,
   "metadata": {},
   "outputs": [],
   "source": [
    "def layout_gen(node_number, legal_moves): \n",
    "    import random\n",
    "    \n",
    "    wanted_keys = random.sample(legal_moves.keys(), node_number)\n",
    "    #using dictionary comprehension to subset a dictionary by keys\n",
    "    layout_old = dict((k, legal_moves[k]) for k in wanted_keys if k in legal_moves)\n",
    "    \n",
    "   # #I am going to omit making this dict because I can keep tract of names using the values of layout_old as a name attribute in a graph\n",
    "   # #layout_names = {y:x for x,y in layout_old.iteritems()}\n",
    "    \n",
    "    return layout_old"
   ]
  },
  {
   "cell_type": "markdown",
   "metadata": {},
   "source": [
    "## illegal bounday function"
   ]
  },
  {
   "cell_type": "code",
   "execution_count": 1347,
   "metadata": {},
   "outputs": [],
   "source": [
    "spaceMax = 20\n",
    "spaceMin = 0\n",
    "\n",
    "def illegal_boundaries(spaceMax):\n",
    "    mydict = {}\n",
    "    j = 1\n",
    "    for i in range(spaceMax):\n",
    "        mydict[ (0, i) ] = j\n",
    "        j += 1\n",
    "        mydict[ (i, 0) ] = j\n",
    "        j += 1\n",
    "        mydict[ (i+1, 0)] =j\n",
    "        j += 1\n",
    "        mydict[ (i, 0)] =j\n",
    "        j += 1\n",
    "        mydict[ (-1, i+1) ] = j\n",
    "        j += 1\n",
    "        mydict[ (-1, i) ] = j\n",
    "        j += 1\n",
    "\n",
    "    mydict[ (spaceMax-1, spaceMax-1) ] = 0\n",
    "    \n",
    "    \n",
    "    return mydict\n",
    "\n",
    "illegal_moves = illegal_boundaries(spaceMax)"
   ]
  },
  {
   "cell_type": "markdown",
   "metadata": {},
   "source": [
    "# Initiate node layout"
   ]
  },
  {
   "cell_type": "code",
   "execution_count": 1348,
   "metadata": {},
   "outputs": [],
   "source": [
    "spaceMax = 20\n",
    "spaceMin = 0\n",
    "node_number = 80\n",
    "legal_moves, illegal_moves = illegal_position_generator(spaceMax, spaceMin)\n",
    "layout_old = layout_gen(node_number, legal_moves)"
   ]
  },
  {
   "cell_type": "markdown",
   "metadata": {},
   "source": [
    "## Movement function"
   ]
  },
  {
   "cell_type": "code",
   "execution_count": 1349,
   "metadata": {},
   "outputs": [],
   "source": [
    "import random\n",
    "from operator import add\n",
    "\n",
    "position_selected = random.choice( layout_old.keys() )\n",
    "\n",
    "def Mover(position_selected, layout_old, illegal_moves):\n",
    "    possibilities = {1: (1, 0), 2: (0,1), 3:(-1, 0), 4:(0,-1), 5:(0,0)}\n",
    "    movement_options = 4\n",
    "    \n",
    "    newDir = random.choice(possibilities.values())\n",
    "    new_posit = tuple(map(add, position_selected, newDir))\n",
    "    \n",
    "    new_position_selected = boundary_checker(position_selected, spaceMin, spaceMax)\n",
    "    \n",
    "    if new_position_selected == position_selected:\n",
    "    \n",
    "        if new_posit not in layout_old:        \n",
    "            idx = layout_old.get(position_selected)\n",
    "\n",
    "            del layout_old[position_selected]\n",
    "            layout_old[new_posit] = idx\n",
    "\n",
    "            return layout_old, new_posit\n",
    "        else:\n",
    "            return layout_old, position_selected\n",
    "    else:\n",
    "        if new_position_selected not in layout_old:        \n",
    "            idx = layout_old.get(position_selected)\n",
    "\n",
    "            del layout_old[position_selected]\n",
    "            layout_old[new_position_selected] = idx\n",
    "\n",
    "            return layout_old, new_position_selected\n",
    "        else:\n",
    "            return layout_old, position_selected"
   ]
  },
  {
   "cell_type": "markdown",
   "metadata": {},
   "source": [
    "## movement finder function\n"
   ]
  },
  {
   "cell_type": "code",
   "execution_count": 1350,
   "metadata": {},
   "outputs": [
    {
     "data": {
      "text/plain": [
       "2"
      ]
     },
     "execution_count": 1350,
     "metadata": {},
     "output_type": "execute_result"
    }
   ],
   "source": [
    "from operator import add\n",
    "\n",
    "position_selected = (8, 5)\n",
    "spaceMin = 0\n",
    "spaceMax = 9\n",
    "\n",
    "def movement_finder(position_selected, illegal_moves, layout_old, spaceMin, spaceMax):\n",
    "    total_moves = 4\n",
    "    my_possibilities = {1: (1, 0), 2: (0,1), 3:(-1, 0), 4:(0,-1) }\n",
    "\n",
    "    finding_neighbors = {}\n",
    "    j = 0\n",
    "    for i in my_possibilities.values():\n",
    "        finding_neighbors[tuple(map(add, position_selected, i))] = j\n",
    "        j += 1\n",
    "\n",
    "   \n",
    "    if position_selected[0] == spaceMin and position_selected[1] == spaceMin:\n",
    "        current_moves = 2\n",
    "        sd1 = set(finding_neighbors.keys())\n",
    "        sd2 = set(layout_old.keys())\n",
    "        current_moves = current_moves - len(sd1.intersection(sd2))\n",
    "        return current_moves\n",
    "    if position_selected[0] == spaceMax and position_selected[1] == spaceMax:\n",
    "        current_moves = 2\n",
    "        sd1 = set(finding_neighbors.keys())\n",
    "        sd2 = set(layout_old.keys())\n",
    "        current_moves = current_moves - len(sd1.intersection(sd2))\n",
    "        return current_moves \n",
    "    if position_selected[0] == spaceMin or position_selected[1] == spaceMin:\n",
    "        current_moves = 3\n",
    "        sd1 = set(finding_neighbors.keys())\n",
    "        sd2 = set(layout_old.keys())\n",
    "        current_moves = current_moves - len(sd1.intersection(sd2))\n",
    "        return current_moves\n",
    "    if position_selected[0] == spaceMax or position_selected[1] == spaceMax:\n",
    "        current_moves = 3\n",
    "        sd1 = set(finding_neighbors.keys())\n",
    "        sd2 = set(layout_old.keys())\n",
    "        current_moves = current_moves - len(sd1.intersection(sd2))\n",
    "        return current_moves\n",
    "    else:\n",
    "        sd1 = set(finding_neighbors.keys())\n",
    "        sd2 = set(layout_old.keys())\n",
    "        #sd3 = set(illegal_moves.keys())\n",
    "        current_moves = total_moves - len(sd1.intersection(sd2)) #- len(sd1.intersection(sd3))\n",
    "        return current_moves\n",
    "    \n",
    "movement_finder(position_selected, illegal_moves, layout_old, spaceMin, spaceMax)"
   ]
  },
  {
   "cell_type": "markdown",
   "metadata": {},
   "source": [
    "## define allRxn which decides what reaction to perform next"
   ]
  },
  {
   "cell_type": "code",
   "execution_count": 1351,
   "metadata": {},
   "outputs": [],
   "source": [
    "def allRxn(move, bind, self_bind, dissociate):\n",
    "    \n",
    "    k_0 = move + bind + self_bind + dissociate\n",
    "    \n",
    "    options = numpy.zeros((4, 1))\n",
    "    options[0] = move/k_0\n",
    "    options[1] = bind/k_0\n",
    "    options[2] = self_bind/k_0\n",
    "    options[3] = dissociate/k_0\n",
    "    \n",
    "    random_value = random.uniform(0, 1)\n",
    "    \n",
    "    if 0 <= random_value <= options[0]:\n",
    "        return 'move'\n",
    "    elif options[1] <= random_value < options[2]:\n",
    "        return 'bind'\n",
    "    elif options[2] <= random_value < options[3]:\n",
    "        return 'self_bind'\n",
    "    else:\n",
    "        return 'dissociate'"
   ]
  },
  {
   "cell_type": "code",
   "execution_count": 1352,
   "metadata": {},
   "outputs": [],
   "source": [
    "def allRxn(move, bind, dissociate):\n",
    "    \n",
    "    k_0 = move + bind + dissociate\n",
    "    \n",
    "    options = numpy.zeros((3, 1))\n",
    "    options[0] = move/k_0\n",
    "    options[1] = bind/k_0\n",
    "    options[2] = dissociate/k_0\n",
    "    \n",
    "    myNumber = random.uniform(0, 1)\n",
    "    myList=options\n",
    "    \n",
    "    out_val = min(myList, key=lambda x:abs(x-myNumber))\n",
    "    \n",
    "    #print options\n",
    "    \n",
    "    if out_val == options[0]:\n",
    "        return 'move'\n",
    "    if out_val == options[1]:\n",
    "        return 'bind'\n",
    "    if out_val == options[3]:\n",
    "        return 'dissociate'\n"
   ]
  },
  {
   "cell_type": "code",
   "execution_count": 1353,
   "metadata": {},
   "outputs": [
    {
     "data": {
      "text/plain": [
       "'bind'"
      ]
     },
     "execution_count": 1353,
     "metadata": {},
     "output_type": "execute_result"
    }
   ],
   "source": [
    "allRxn(move_k, bind_k, dissociate_k)"
   ]
  },
  {
   "cell_type": "markdown",
   "metadata": {},
   "source": [
    "## association function"
   ]
  },
  {
   "cell_type": "code",
   "execution_count": 1354,
   "metadata": {},
   "outputs": [],
   "source": [
    "# as a back up just in case…\n",
    "def new_association_function3(x, d, g, new_dict, val):\n",
    "    new_list = []\n",
    "    posit = numpy.array([[1,0], [0,1], [-1, 0], [0,-1] ])\n",
    "    \n",
    "    new_posit = posit + x\n",
    "    for i in new_posit:\n",
    "        b = tuple(i)\n",
    "        if b in d:\n",
    "            new_list.append(b)\n",
    "            new_dict[x] = new_list\n",
    "    try:\n",
    "        # block raising an exception\n",
    "        if x in new_dict and val == True:\n",
    "            options = new_dict[x]\n",
    "            toBind = random.choice(options)\n",
    "            if str(toBind) in g.vs['name']:\n",
    "                v1_position = g.vs['name'].index( str(toBind) )\n",
    "            else:\n",
    "                v1_position = g.vs['name'].index( toBind )\n",
    "            if str(x) in g.vs['name']:\n",
    "                v2_position = g.vs['name'].index( str(x) )\n",
    "            else:\n",
    "                v2_position = g.vs['name'].index( x )\n",
    "            if g.degree(v1_position) < 1 and g.degree(v2_position) < 1:\n",
    "                g.add_edge(v1_position, v2_position)\n",
    "            return new_dict[x]\n",
    "        elif x in new_dict and val == False:\n",
    "            return new_dict[x]\n",
    "        else:\n",
    "            new_dict[x] = 'NaN'\n",
    "            return new_dict[x]\n",
    "    except:\n",
    "        pass # doing nothing on exception\n",
    "\n"
   ]
  },
  {
   "cell_type": "code",
   "execution_count": 1355,
   "metadata": {},
   "outputs": [],
   "source": [
    "# as a back up just in case…\n",
    "def new_association_function2(x, d, g, new_dict, val):\n",
    "    new_list = []\n",
    "    posit = numpy.array([[1,0], [0,1], [-1, 0], [0,-1] ])\n",
    "    \n",
    "    new_posit = posit + x\n",
    "    for i in new_posit:\n",
    "        b = tuple(i)\n",
    "        if b in d:\n",
    "            new_list.append(b)\n",
    "            new_dict[x] = new_list\n",
    "    if x in new_dict and val == True:\n",
    "        options = new_dict[x]\n",
    "        toBind = random.choice(options)\n",
    "        \n",
    "        # exit out of set in loop of these conditions are not met\n",
    "        \n",
    "        if str(toBind) in g.vs['name']:\n",
    "            v1_position = g.vs['name'].index( str(toBind) )\n",
    "        else:\n",
    "            v1_position = g.vs['name'].index( toBind )\n",
    "        if str(x) in g.vs['name']:\n",
    "            v2_position = g.vs['name'].index( str(x) )\n",
    "        else:\n",
    "            v2_position = g.vs['name'].index( x )\n",
    "        if g.degree(v1_position) < 1 and g.degree(v2_position) < 1:\n",
    "            g.add_edge(v1_position, v2_position)\n",
    "        return new_dict[x]\n",
    "    elif x in new_dict and val == False:\n",
    "        return new_dict[x]\n",
    "    else:\n",
    "        new_dict[x] = 'NaN'\n",
    "        return new_dict[x]"
   ]
  },
  {
   "cell_type": "code",
   "execution_count": null,
   "metadata": {},
   "outputs": [],
   "source": []
  },
  {
   "cell_type": "markdown",
   "metadata": {},
   "source": [
    "## define edge selector and boundary checker function"
   ]
  },
  {
   "cell_type": "code",
   "execution_count": 1356,
   "metadata": {},
   "outputs": [
    {
     "data": {
      "text/plain": [
       "TestResults(failed=0, attempted=65)"
      ]
     },
     "execution_count": 1356,
     "metadata": {},
     "output_type": "execute_result"
    }
   ],
   "source": [
    "def edge_selector(neigh_dict):\n",
    "    ''' (dict) -> tuple\n",
    "    \n",
    "    Find a node with neighbors. \n",
    "    \n",
    "    The selected node will be interegated for edge binding with its neighbors\n",
    "    \n",
    "    neigh_dict should be the dict where neigbhors are kept\n",
    "    \n",
    "    \n",
    "    \n",
    "    # test when there are neighbors\n",
    "    >>> neighbor_dic = { (1, 2): [(1, 3)], (5, 5): 'NaN', (1, 3): [(1, 2), (1, 4)], (1, 4): [(1, 3)] }\n",
    "    >>> output = edge_selector(neighbor_dic)\n",
    "    >>> output != 'NaN'\n",
    "    True\n",
    "    \n",
    "    # test to make sure output is a tuple\n",
    "    >>> type(output)\n",
    "    <type 'tuple'>\n",
    "  \n",
    "\n",
    "\n",
    "    # test when there are no neighbors\n",
    "    >>> neighbor_dic2 = { (1, 2): 'NaN', (5, 5): 'NaN', (1, 3): 'NaN', (1, 4): 'NaN' }\n",
    "    >>> output = edge_selector(neighbor_dic2)\n",
    "    >>> output == 'NaN'\n",
    "    True\n",
    "    \n",
    "    \n",
    "    # check that selected node exists in the dict I got it from\n",
    "    >>> neighbor_dic = { (1, 2): [(1, 3)], (5, 5): 'NaN', (1, 3): [(1, 2), (1, 4)], (1, 4): [(1, 3)] }\n",
    "    >>> output = edge_selector(neighbor_dic)\n",
    "    >>> if output in neighbor_dic: print True\n",
    "    True\n",
    "    \n",
    "\n",
    "    '''\n",
    "    \n",
    "    # set up range to loop through (at worst this function is O(n) )\n",
    "    index_options = range(0, len(neigh_dict) )\n",
    "    val = 'NaN'\n",
    "\n",
    "    for t in index_options:\n",
    "        \n",
    "        # randomly collect matched key value pairs\n",
    "        key = random.choice(neigh_dict.keys() )\n",
    "        value = neigh_dict[key]\n",
    "\n",
    "        # if node contains neighbors (i.e, it's not 'NaN'), then choose the node\n",
    "        if value != 'NaN':\n",
    "            val = key\n",
    "            break\n",
    "\n",
    "    return val\n",
    "    \n",
    "doctest.testmod()"
   ]
  },
  {
   "cell_type": "code",
   "execution_count": 1357,
   "metadata": {},
   "outputs": [
    {
     "ename": "SyntaxError",
     "evalue": "'return' outside function (<ipython-input-1357-195a5723e59a>, line 13)",
     "output_type": "error",
     "traceback": [
      "\u001b[0;36m  File \u001b[0;32m\"<ipython-input-1357-195a5723e59a>\"\u001b[0;36m, line \u001b[0;32m13\u001b[0m\n\u001b[0;31m    return val\u001b[0m\n\u001b[0;31mSyntaxError\u001b[0m\u001b[0;31m:\u001b[0m 'return' outside function\n"
     ]
    }
   ],
   "source": [
    "index_options = range(0, len(neighbor_tracking) )\n",
    "val = 'NaN'\n",
    "\n",
    "for t in index_options:\n",
    "    \n",
    "    key = random.choice(neighbor_tracking.keys() )\n",
    "    value = neighbor_tracking[key]\n",
    "    \n",
    "    if value != 'NaN':\n",
    "        val = random.choice(value)\n",
    "        break\n",
    "\n",
    "return val\n",
    "   "
   ]
  },
  {
   "cell_type": "code",
   "execution_count": null,
   "metadata": {},
   "outputs": [],
   "source": []
  },
  {
   "cell_type": "code",
   "execution_count": 1407,
   "metadata": {},
   "outputs": [],
   "source": [
    "\n",
    "def boundary_checker(x, spaceMin, spaceMax):\n",
    "    if spaceMax in x or spaceMin in x:\n",
    "        x = list(x)\n",
    "        if x[0] == spaceMin:\n",
    "            x[0] = spaceMin + 1\n",
    "        elif x[0] == spaceMax:\n",
    "            x[0] = spaceMax - 1\n",
    "        elif x[1] == spaceMin:\n",
    "            x[1] = spaceMin + 1\n",
    "        elif x[1] == spaceMax:\n",
    "            x[1] = spaceMax - 1\n",
    "    return tuple(x)"
   ]
  },
  {
   "cell_type": "code",
   "execution_count": 1359,
   "metadata": {},
   "outputs": [],
   "source": [
    "def self_associate(x, d, g, val):\n",
    "    # this function keeps a running total of the self_loops that have been formed\n",
    "    try:\n",
    "        v_position = g.vs['name'].index( str(x) )\n",
    "   \n",
    "        if g.degree(v_position) < 1:\n",
    "            g.add_edge(v_position, v_position)\n",
    "        \n",
    "        # calculate the number of new self loops made\n",
    "        g2= g.copy()\n",
    "        totals = sum(g.degree())\n",
    "        self_loops = sum(g2.simplify(multiple = False, loops = True, combine_edges=None).degree())\n",
    "        # this requires you to divide by 2 because the edges are not directed and are therefore being counted twice for the same node\n",
    "        self_loops_count = (totals - self_loops)/2\n",
    "        \n",
    "        return self_loops_count\n",
    "        \n",
    "    except:\n",
    "        pass\n",
    "    "
   ]
  },
  {
   "cell_type": "code",
   "execution_count": 1360,
   "metadata": {
    "scrolled": true
   },
   "outputs": [
    {
     "data": {
      "text/plain": [
       "TestResults(failed=0, attempted=65)"
      ]
     },
     "execution_count": 1360,
     "metadata": {},
     "output_type": "execute_result"
    }
   ],
   "source": [
    "## TO DO: FIX THIS FUNCTION\n",
    "# 1) \n",
    "\n",
    "\n",
    "def find_node(node_position, neighbor_tracking, graph):\n",
    "    ''' (tuple, dict, igraph) -> tuple\n",
    "\n",
    "    This function identifies a node to associate with.\n",
    "    1) First, it looks for neighbors for a selected node position.\n",
    "    2) Then, it checks to see if that node has degree < 4\n",
    "    3) If these conditions are met, then the function returns a node to bind to\n",
    "    4) If there are more than 1 available nodes to bind to, a node is randomly selected\n",
    "\n",
    "    # set up\n",
    "    >>> neighbor_dic = { (1, 2): [(1, 3)], (5, 5): 'NaN', (1, 3): [(1, 2), (1, 4)], (1, 4): [(1, 3)] }\n",
    "    >>> G = Graph()\n",
    "    >>> G.add_vertices(4)\n",
    "    >>> G.vs['name'] = ['(1, 2)', '(1, 3)', '(1, 4)', '(5, 5)']\n",
    "    \n",
    "    \n",
    "    # test for finding a node with one neighbor\n",
    "    >>> np = (1, 2)\n",
    "    >>> find_node(np, neighbor_dic, G)\n",
    "    (1, 3)\n",
    "    \n",
    "    # test another position\n",
    "    >>> np = (1, 3)\n",
    "    >>> output = find_node(np, neighbor_dic, G)\n",
    "    >>> if type(output) is tuple: True\n",
    "    True\n",
    "    \n",
    "\n",
    "    '''\n",
    "    \n",
    "    \n",
    "    assert type(node_position) is tuple, 'node_position must be a Tuple'\n",
    "    assert node_position in neighbor_tracking, 'node_position must be in neighbor_tracking dict'\n",
    "\n",
    "    # catch nodes with no neighbors\n",
    "    assert neighbor_tracking[node_position] != 'NaN', 'node_position selected has no neighbors!'\n",
    "    \n",
    "\n",
    "    list_of_neighbors = neighbor_tracking[node_position]\n",
    "\n",
    "    \n",
    "    # edge_selector function is already finding nodes with neighbors. \n",
    "    \n",
    " \n",
    "    \n",
    "\n",
    "    node_names = []\n",
    "    for node in list_of_neighbors:\n",
    "        node_degrees = graph.vs.find(name= str(node) ).degree()\n",
    "\n",
    "        #check to see which node has degree < 4\n",
    "        if node_degrees < 4:\n",
    "            node_names.append(node)\n",
    "        else:\n",
    "            pass\n",
    "\n",
    "    # NOTE: will return initial node position if node_names is empty! \n",
    "    if len(node_names) > 0:\n",
    "        selected_node = random.choice(node_names)\n",
    "    else:\n",
    "        selected_node = node_position\n",
    "    return selected_node\n",
    "\n",
    "    # if there aren't any available neighbors, return the node in question's position\n",
    "    #if list_of_neighbors == 'NaN':\n",
    "    #    return node_position\n",
    "\n",
    "import doctest\n",
    "doctest.testmod()\n"
   ]
  },
  {
   "cell_type": "code",
   "execution_count": 1361,
   "metadata": {},
   "outputs": [],
   "source": [
    "#neighbor_dic = { (1, 2): [(1, 3)], (5, 5): 'NaN', (1, 3): [(1, 2), (1, 4)], (1, 4): [(1, 3)] }\n",
    "#G = Graph()\n",
    "#G.add_vertices(4)\n",
    "#G.vs['name'] = ['(1, 2)', '(1, 3)', '(1, 4)', '(5, 5)']\n",
    "#np = (1, 2)\n",
    "#find_node(np, neighbor_dic, G)"
   ]
  },
  {
   "cell_type": "code",
   "execution_count": null,
   "metadata": {},
   "outputs": [],
   "source": []
  },
  {
   "cell_type": "code",
   "execution_count": 1362,
   "metadata": {},
   "outputs": [
    {
     "data": {
      "text/plain": [
       "TestResults(failed=0, attempted=65)"
      ]
     },
     "execution_count": 1362,
     "metadata": {},
     "output_type": "execute_result"
    }
   ],
   "source": [
    "def bind(node_position, neighbor_position, G):\n",
    "    ''' (tuple, tuple, g) -> NoneType\n",
    "    \n",
    "    Add an edge between two nodes.\n",
    "\n",
    "    # set up\n",
    "    >>> G = Graph()\n",
    "    >>> G.add_vertices(4)\n",
    "    >>> G.vs['name'] = ['(1, 2)', '(1, 3)', '(1, 4)', '(5, 5)']\n",
    "\n",
    "    #test for edge binding\n",
    "    >>> node_position = (1, 2)\n",
    "    >>> neighbor_position = (1, 3)\n",
    "    >>> bind(node_position, neighbor_position, G)\n",
    "    >>> G.degree()\n",
    "    [1, 1, 0, 0]\n",
    "\n",
    "\n",
    "    \n",
    "    '''\n",
    "    \n",
    "    node_1 = G.vs['name'].index( str(node_position) )\n",
    "    node_2 = G.vs['name'].index( str(neighbor_position) )\n",
    "    \n",
    "    G.add_edge(node_1, node_2)\n",
    "\n",
    "doctest.testmod()"
   ]
  },
  {
   "cell_type": "code",
   "execution_count": null,
   "metadata": {},
   "outputs": [],
   "source": []
  },
  {
   "cell_type": "code",
   "execution_count": null,
   "metadata": {},
   "outputs": [],
   "source": []
  },
  {
   "cell_type": "code",
   "execution_count": null,
   "metadata": {
    "scrolled": true
   },
   "outputs": [],
   "source": []
  },
  {
   "cell_type": "code",
   "execution_count": 1363,
   "metadata": {},
   "outputs": [],
   "source": [
    "def initiate_graph_position(g, layout):\n",
    "    ''' (graph, dict) -> NoneType\n",
    "    \n",
    "    This function updates the positions (name attribute) in the graph. \n",
    "    It adds new positions from a layout, such as layout_old.\n",
    "    \n",
    "    NOTE: This function may cause problems because I am not updating the positions by MATCHING the values\n",
    "    I am simply adding new attributes to each node. Will see if this works well to continue forward\n",
    "    and will update accordingly if it breaks or doesn't work the way I want it to\n",
    "    \n",
    "\n",
    "    '''\n",
    "    \n",
    "    i = 0\n",
    "    for key, value in layout.iteritems():\n",
    "        g.vs[i]['name'] = str(key)\n",
    "        g.vs[i]['position'] = key\n",
    "        g.vs[i]['index'] = value\n",
    "        i = i + 1\n",
    "\n"
   ]
  },
  {
   "cell_type": "code",
   "execution_count": 1364,
   "metadata": {
    "scrolled": true
   },
   "outputs": [
    {
     "data": {
      "text/plain": [
       "TestResults(failed=0, attempted=65)"
      ]
     },
     "execution_count": 1364,
     "metadata": {},
     "output_type": "execute_result"
    }
   ],
   "source": [
    "def possible_associations(position, layout):\n",
    "    ''' (tuple, dict, graph, dict, bool) -> NoneType\n",
    "\n",
    "    This function identifies ALL possible node neigbors for EACH node. \n",
    "    This positional information is stored in a dict called: neighbor_tracking\n",
    "\n",
    "    # test for node with one neighbor\n",
    "\n",
    "    >>> layout_dict = {(1, 2): 1, (10, 12): 10, (2, 2): 20, (100, 12): 12}\n",
    "    >>> x = (1, 2)\n",
    "    >>> output = possible_associations(position=x, layout=layout_dict)\n",
    "    >>> output\n",
    "    [(2, 2)]\n",
    "\n",
    "\n",
    "    # test for node with no neighbors    \n",
    "    >>> layout_dict = {(1, 2): 1, (10, 12): 10, (2, 2): 20, (100, 12): 12}\n",
    "    >>> x = (100, 12)\n",
    "    >>> output = possible_associations(x, layout_dict)\n",
    "    >>> output\n",
    "    'NaN'\n",
    "\n",
    "\n",
    "    '''\n",
    "    try:\n",
    "        posit = numpy.array([[1,0], [0,1], [-1, 0], [0,-1] ])\n",
    "        new_posit = posit + position\n",
    "\n",
    "\n",
    "        new_list = []\n",
    "        for i in new_posit:\n",
    "            b = tuple(i)\n",
    "\n",
    "            if b in layout:\n",
    "                new_list.append(b)\n",
    "                #neighbors[position] = new_list\n",
    "\n",
    "        # deal with no neighbors next to node of interest\n",
    "        if len(new_list) == 0:\n",
    "            #neighbors[position] = 'NaN'\n",
    "            new_list = 'NaN'\n",
    "\n",
    "        return new_list\n",
    "    except:\n",
    "        pass\n",
    "\n",
    "import doctest\n",
    "doctest.testmod()\n"
   ]
  },
  {
   "cell_type": "code",
   "execution_count": null,
   "metadata": {},
   "outputs": [],
   "source": []
  },
  {
   "cell_type": "code",
   "execution_count": 1365,
   "metadata": {},
   "outputs": [
    {
     "name": "stdout",
     "output_type": "stream",
     "text": [
      "[[ 1  0]\n",
      " [ 0  1]\n",
      " [-1  0]\n",
      " [ 0 -1]]\n",
      "[[2 2]\n",
      " [1 3]\n",
      " [0 2]\n",
      " [1 1]]\n"
     ]
    }
   ],
   "source": [
    "pp = (1, 2)\n",
    "narr = numpy.array([[1,0], [0,1], [-1, 0], [0,-1] ])\n",
    "sdsd = pp + narr\n",
    "print narr\n",
    "print sdsd"
   ]
  },
  {
   "cell_type": "code",
   "execution_count": null,
   "metadata": {},
   "outputs": [],
   "source": []
  },
  {
   "cell_type": "code",
   "execution_count": null,
   "metadata": {},
   "outputs": [],
   "source": []
  },
  {
   "cell_type": "code",
   "execution_count": null,
   "metadata": {},
   "outputs": [],
   "source": []
  },
  {
   "cell_type": "code",
   "execution_count": null,
   "metadata": {},
   "outputs": [],
   "source": []
  },
  {
   "cell_type": "code",
   "execution_count": 1366,
   "metadata": {
    "scrolled": true
   },
   "outputs": [
    {
     "name": "stdout",
     "output_type": "stream",
     "text": [
      "**********************************************************************\n",
      "File \"__main__\", line 34, in __main__.edge_selector\n",
      "Failed example:\n",
      "    if output in neighbor_dic: print True\n",
      "Expected:\n",
      "    True\n",
      "Got nothing\n",
      "**********************************************************************\n",
      "1 items had failures:\n",
      "   1 of  10 in __main__.edge_selector\n",
      "***Test Failed*** 1 failures.\n"
     ]
    },
    {
     "data": {
      "text/plain": [
       "TestResults(failed=1, attempted=65)"
      ]
     },
     "execution_count": 1366,
     "metadata": {},
     "output_type": "execute_result"
    }
   ],
   "source": [
    "def update_neighbors(oldPosition, newPosition, layout_dict, neighbors_dict):\n",
    "    ''' (tuple, tuple, dict, dict) -> NoneType\n",
    "    \n",
    "    This function updates neighbor tracking dict (neighbor_tracking) based on which nodes \n",
    "    moved in the movement dict (layout_old)\n",
    "    \n",
    "\n",
    "    1) remove node from move_count dict (!!!not updating this for now!!!)\n",
    "    2) remove it from neighbor_tracking dict\n",
    "    3) add it back to neighbor_tracking dict with new position by calling the possible_associations function\n",
    "    \n",
    "    \n",
    "    >>> oldPosi = (1, 2)\n",
    "    >>> newPosi = (2, 2)\n",
    "    >>> n_dict = {(1, 2):'NaN', (3, 2): 'NaN', (5, 5):'NaN', (2, 3): 'NaN'}\n",
    "    >>> lo_dict = { (1, 2): 19, (3, 2): 22, (5, 5): 100, (2, 2): 340, (2, 3): 120 }\n",
    "    \n",
    "    # test for movement to nearby nodes\n",
    "    >>> update(oldPosition=oldPosi, newPosition=newPosi, layout_dict=lo_dict, neighbors_dict=n_dict)\n",
    "    \n",
    "    # test updating the neighbor dict (n_dict) with the new neighbors for the node that moved (newPosi)\n",
    "    >>> n_dict[newPosi]\n",
    "    [(3, 2), (2, 3)]\n",
    "    \n",
    "    # test updating the NEIGHBORS neigbhor in n_dict. If it updated correctly\n",
    "    # then n_dict[(3, 2)] = [(2, 2)] instead of 'NaN'\n",
    "    >>> n_dict[(3, 2)]\n",
    "    [(2, 2)]\n",
    "    \n",
    "    # test for succesfully updating the neighbors of the neighbors\n",
    "    >>> n_dict[(2, 2)]\n",
    "    [(3, 2), (2, 3)]\n",
    "    ''' \n",
    "    \n",
    "\n",
    "    #move_count.pop(oldPosition)\n",
    "    #neighbors_dict.pop(oldPosition)\n",
    "\n",
    "    try:\n",
    "        neighbor_tracking[newPosition] = neighbor_tracking[oldPosition]\n",
    "        del neighbor_tracking[oldPosition]\n",
    "\n",
    "        # I don't need to change layout_old because its being done in the Mover function\n",
    "        #layout_dict.pop(oldPosition)\n",
    "\n",
    "\n",
    "        # update neighbor_tracking dict with new position and neighbors\n",
    "        new_neighbor_positions = possible_associations(position=newPosition, layout=layout_dict)\n",
    "\n",
    "        # update the new node position with the new neighbors\n",
    "        neighbors_dict[newPosition] = new_neighbor_positions\n",
    "\n",
    "        # update the position of the NEIGHBORS neighbors: need to fix\n",
    "        for position in new_neighbor_positions:\n",
    "\n",
    "            new_neighbor_position = possible_associations(position=position, layout=layout_dict)\n",
    "\n",
    "            neighbors_dict[position] = new_neighbor_position    \n",
    "    except:\n",
    "        pass\n",
    "\n",
    "\n",
    "\n",
    "doctest.testmod()"
   ]
  },
  {
   "cell_type": "code",
   "execution_count": 1367,
   "metadata": {},
   "outputs": [
    {
     "ename": "NameError",
     "evalue": "name 'new_neighbor_positions' is not defined",
     "output_type": "error",
     "traceback": [
      "\u001b[0;31m---------------------------------------------------------------------------\u001b[0m",
      "\u001b[0;31mNameError\u001b[0m                                 Traceback (most recent call last)",
      "\u001b[0;32m<ipython-input-1367-b9c4be72ccdb>\u001b[0m in \u001b[0;36m<module>\u001b[0;34m()\u001b[0m\n\u001b[1;32m      1\u001b[0m \u001b[0;31m#\u001b[0m\u001b[0;34m\u001b[0m\u001b[0;34m\u001b[0m\u001b[0m\n\u001b[1;32m      2\u001b[0m \u001b[0;32mif\u001b[0m \u001b[0mposition\u001b[0m \u001b[0;32mnot\u001b[0m \u001b[0;32min\u001b[0m \u001b[0mlayout_dict\u001b[0m\u001b[0;34m:\u001b[0m\u001b[0;34m\u001b[0m\u001b[0m\n\u001b[0;32m----> 3\u001b[0;31m     \u001b[0mnew_neighbor_positions\u001b[0m\u001b[0;34m.\u001b[0m\u001b[0mremove\u001b[0m\u001b[0;34m(\u001b[0m\u001b[0mposition\u001b[0m\u001b[0;34m)\u001b[0m\u001b[0;34m\u001b[0m\u001b[0m\n\u001b[0m\u001b[1;32m      4\u001b[0m \u001b[0;34m\u001b[0m\u001b[0m\n\u001b[1;32m      5\u001b[0m     \u001b[0;32mpass\u001b[0m\u001b[0;34m\u001b[0m\u001b[0m\n",
      "\u001b[0;31mNameError\u001b[0m: name 'new_neighbor_positions' is not defined"
     ]
    }
   ],
   "source": [
    "            # \n",
    "            if position not in layout_dict:\n",
    "                new_neighbor_positions.remove(position)\n",
    "                \n",
    "                pass\n",
    "            if position not in neighbors_dict:\n",
    "                pass\n"
   ]
  },
  {
   "cell_type": "code",
   "execution_count": null,
   "metadata": {},
   "outputs": [],
   "source": []
  },
  {
   "cell_type": "code",
   "execution_count": null,
   "metadata": {},
   "outputs": [],
   "source": []
  },
  {
   "cell_type": "code",
   "execution_count": null,
   "metadata": {},
   "outputs": [],
   "source": []
  },
  {
   "cell_type": "code",
   "execution_count": null,
   "metadata": {},
   "outputs": [],
   "source": []
  },
  {
   "cell_type": "code",
   "execution_count": 1368,
   "metadata": {},
   "outputs": [
    {
     "data": {
      "text/plain": [
       "TestResults(failed=0, attempted=65)"
      ]
     },
     "execution_count": 1368,
     "metadata": {},
     "output_type": "execute_result"
    }
   ],
   "source": [
    "def update_graph(G, layout, new_position, old_position):\n",
    "    ''' (igraph, dict, tuple, tuple) -> NoneType\n",
    "    \n",
    "    Update graph attributes based on the node that has moved. \n",
    "    \n",
    "    This function should run inside the main code. \n",
    "    \n",
    "    The function initiate_graph_position should run at the beginning to initiate the graph attributes\n",
    "    \n",
    "    \n",
    "    \n",
    "    >>> lo_dict = { (1, 2): 19, (3, 2): 22, (5, 5): 100, (2, 2): 340, (2, 3): 120 }\n",
    "    >>> old = (5, 5)\n",
    "    >>> new = (6, 5)\n",
    "    >>> G = Graph()\n",
    "    >>> G.add_vertices(5)\n",
    "    >>> initiate_graph_position(G, lo_dict)\n",
    "    \n",
    "    # \"move\" a node in the layout dict\n",
    "    >>> lo_dict[new] = lo_dict.pop(old) \n",
    "    \n",
    "    # get index of position\n",
    "    >>> old_position_index = G.vs['position'].index(old)\n",
    "    \n",
    "    # check initial values\n",
    "    >>> G.vs[old_position_index]['position']\n",
    "    (5, 5)\n",
    "    >>> G.vs[old_position_index]['name']\n",
    "    '(5, 5)'\n",
    "    >>> G.vs[old_position_index]['index']\n",
    "    100\n",
    "    \n",
    "    # update the attribute using update_graph\n",
    "    >>> update_graph(G=G, layout=lo_dict, new_position=new, old_position=old)\n",
    "    \n",
    "    # test that I get new position\n",
    "    >>> G.vs[old_position_index]['position']\n",
    "    (6, 5)\n",
    "\n",
    "    # test that I get new name\n",
    "    >>> G.vs[old_position_index]['name']\n",
    "    '(6, 5)'\n",
    "\n",
    "    # test that I get new index\n",
    "    >>> G.vs[old_position_index]['index']\n",
    "    100\n",
    "   \n",
    "    '''\n",
    "     \n",
    "    # find the index of the position \n",
    "\n",
    "    graph_index = G.vs['position'].index(old_position)\n",
    "    \n",
    "    # update each attribute\n",
    "    G.vs[graph_index]['name'] = str(new_position)\n",
    "    G.vs[graph_index]['position'] = new_position\n",
    "    G.vs[graph_index]['index'] = layout[new_position]\n",
    "    \n",
    "\n",
    "doctest.testmod()"
   ]
  },
  {
   "cell_type": "code",
   "execution_count": null,
   "metadata": {},
   "outputs": [],
   "source": []
  },
  {
   "cell_type": "code",
   "execution_count": null,
   "metadata": {},
   "outputs": [],
   "source": []
  },
  {
   "cell_type": "code",
   "execution_count": null,
   "metadata": {},
   "outputs": [],
   "source": []
  },
  {
   "cell_type": "code",
   "execution_count": null,
   "metadata": {},
   "outputs": [],
   "source": []
  },
  {
   "cell_type": "markdown",
   "metadata": {},
   "source": [
    "# Initiate Gillespie model"
   ]
  },
  {
   "cell_type": "code",
   "execution_count": 1543,
   "metadata": {
    "scrolled": true
   },
   "outputs": [],
   "source": [
    "##### from igraph import *\n",
    "from operator import add\n",
    "import numpy\n",
    "from igraph import *\n",
    "\n",
    "spaceMax = 30\n",
    "spaceMin = 0\n",
    "node_number = 1\n",
    "legal_moves, illegal_moves = illegal_position_generator(spaceMax, spaceMin)\n",
    "layout_old = layout_gen(node_number, legal_moves)\n",
    "\n",
    "# initiate movement count\n",
    "move_count = {}\n",
    "\n",
    "for k,v in layout_old.items():\n",
    "    val = movement_finder(k, illegal_moves, layout_old, spaceMin, spaceMax)\n",
    "    move_count[k] = val\n",
    "    \n",
    "# initiate neighbor tracking\n",
    "\n",
    "import collections\n",
    "g = Graph(len(layout_old))\n",
    "\n",
    "\n",
    "initiate_graph_position(g, layout_old)    \n",
    "\n",
    "\n",
    "\n",
    "neighbor_tracking = {}\n",
    "for key, value in layout_old.iteritems():\n",
    "    neighbor_tracking[key] = possible_associations(position=key, layout=layout_old)\n",
    "\n",
    "\n",
    "# initiate neighbor edge count\n",
    "bind_count = {}\n",
    "for k,v in neighbor_tracking.items():\n",
    "    bind_count[k] = len(v)\n",
    "\n",
    "# initiate self binding\n",
    "self_bind_count = {}\n",
    "for k, v in layout_old.items():\n",
    "    self_bind_count[k] = v\n",
    "\n",
    "    "
   ]
  },
  {
   "cell_type": "code",
   "execution_count": 1203,
   "metadata": {},
   "outputs": [
    {
     "name": "stdout",
     "output_type": "stream",
     "text": [
      "27\n",
      "(1, 3)\n",
      "53\n",
      "(3, 5)\n",
      "68\n",
      "(4, 8)\n",
      "93\n",
      "(6, 9)\n",
      "115\n",
      "(8, 6)\n"
     ]
    }
   ],
   "source": [
    "import operator\n",
    "for key, value in sorted(layout_old.items(), key=operator.itemgetter(1)):\n",
    "    print value\n",
    "    print key"
   ]
  },
  {
   "cell_type": "code",
   "execution_count": 1223,
   "metadata": {},
   "outputs": [],
   "source": [
    "layout_old[(10, 1)] = 68\n",
    "del layout_old[(4, 8)]"
   ]
  },
  {
   "cell_type": "code",
   "execution_count": 1228,
   "metadata": {},
   "outputs": [
    {
     "name": "stdout",
     "output_type": "stream",
     "text": [
      "   115  27  53  68  93\n",
      "0    8   1   3  10   6\n",
      "2    1   3  10   6   8\n",
      "1    1   3  10   6   8\n",
      "\n",
      "   115  27  53  68  93\n",
      "0    8   1   3  10   6\n",
      "2    1   3  10   6   8\n",
      "1    1   3  10   6   8\n"
     ]
    }
   ],
   "source": []
  },
  {
   "cell_type": "code",
   "execution_count": null,
   "metadata": {},
   "outputs": [],
   "source": []
  },
  {
   "cell_type": "code",
   "execution_count": null,
   "metadata": {},
   "outputs": [],
   "source": []
  },
  {
   "cell_type": "code",
   "execution_count": 1252,
   "metadata": {},
   "outputs": [],
   "source": [
    "# initialize dataframe\n",
    "\n",
    "new_dx = {}\n",
    "new_dy = {}\n",
    "\n",
    "for key, value in sorted(layout_old.items(), key=operator.itemgetter(1)):\n",
    "    # new dict\n",
    "\n",
    "    new_dx[str(value)] = list(key)[0]\n",
    "    new_dy[str(value)] = list(key)[1]\n",
    "\n",
    "    #new dataframe\n",
    "    x = pd.DataFrame(new_dx, index = [0])\n",
    "    y = pd.DataFrame(new_dy, index = [0])\n",
    "\n"
   ]
  },
  {
   "cell_type": "code",
   "execution_count": 1247,
   "metadata": {},
   "outputs": [
    {
     "name": "stdout",
     "output_type": "stream",
     "text": [
      "   115   27  53  68  93\n",
      "0    8  100   3  10  20\n",
      "{(100, 100): 27, (20, 30): 93, (10, 1): 68, (8, 6): 115, (3, 5): 53}\n"
     ]
    }
   ],
   "source": [
    "print x\n",
    "print layout_old\n"
   ]
  },
  {
   "cell_type": "code",
   "execution_count": 1379,
   "metadata": {},
   "outputs": [],
   "source": [
    "def displacement(dic):\n",
    "    ''' (dict) -> two numpy_array\n",
    "    \n",
    "    1. split list into x, y\n",
    "    2. return the split positions (one for each dimension: x, y)\n",
    "\n",
    "    '''\n",
    "    \n",
    "    # set up empty dataframes\n",
    "    #update df \n",
    "    poss_x = []\n",
    "    poss_y = []\n",
    "    for key, value in sorted(dic.items(), key=operator.itemgetter(1)):\n",
    "        x_pos = key[0]\n",
    "        y_pos = key[1]\n",
    "        \n",
    "        \n",
    "        poss_x.append(x_pos)\n",
    "        poss_y.append(y_pos)\n",
    "    \n",
    "    \n",
    "    return poss_x, poss_y\n"
   ]
  },
  {
   "cell_type": "code",
   "execution_count": null,
   "metadata": {},
   "outputs": [],
   "source": []
  },
  {
   "cell_type": "code",
   "execution_count": 1329,
   "metadata": {},
   "outputs": [
    {
     "name": "stdout",
     "output_type": "stream",
     "text": [
      "[1, 2, 4, 6, 9]\n"
     ]
    }
   ],
   "source": [
    "# put into initialization step\n",
    "\n",
    "x, y = displacement(layout_old)\n",
    "print x\n",
    "#print layout_old\n"
   ]
  },
  {
   "cell_type": "code",
   "execution_count": null,
   "metadata": {},
   "outputs": [],
   "source": []
  },
  {
   "cell_type": "markdown",
   "metadata": {},
   "source": [
    "# Run Gillespie"
   ]
  },
  {
   "cell_type": "code",
   "execution_count": null,
   "metadata": {},
   "outputs": [],
   "source": []
  },
  {
   "cell_type": "code",
   "execution_count": 1545,
   "metadata": {
    "scrolled": true
   },
   "outputs": [
    {
     "name": "stdout",
     "output_type": "stream",
     "text": [
      "move\n",
      "move\n",
      "move\n",
      "move\n",
      "move\n",
      "move\n",
      "move\n",
      "move\n",
      "move\n",
      "move\n",
      "move\n",
      "move\n",
      "move\n",
      "move\n",
      "move\n",
      "move\n",
      "move\n",
      "move\n",
      "move\n",
      "move\n",
      "move\n",
      "move\n",
      "move\n",
      "move\n",
      "move\n",
      "move\n",
      "move\n",
      "move\n",
      "move\n",
      "move\n",
      "move\n",
      "move\n",
      "move\n",
      "move\n",
      "move\n",
      "move\n",
      "move\n",
      "move\n",
      "move\n",
      "move\n",
      "move\n",
      "move\n",
      "move\n",
      "move\n",
      "move\n",
      "move\n",
      "move\n",
      "move\n",
      "move\n",
      "move\n",
      "move\n",
      "move\n",
      "move\n",
      "move\n",
      "move\n",
      "move\n",
      "move\n",
      "move\n",
      "move\n",
      "move\n",
      "move\n",
      "move\n",
      "move\n",
      "move\n",
      "move\n",
      "move\n",
      "move\n",
      "move\n",
      "move\n",
      "move\n",
      "move\n",
      "move\n",
      "move\n",
      "move\n",
      "move\n",
      "move\n",
      "move\n",
      "move\n",
      "move\n",
      "move\n",
      "move\n",
      "move\n",
      "move\n",
      "move\n",
      "move\n",
      "move\n",
      "move\n",
      "move\n",
      "move\n",
      "move\n",
      "move\n",
      "move\n",
      "move\n",
      "move\n",
      "move\n",
      "move\n",
      "move\n",
      "move\n",
      "move\n",
      "move\n",
      "move\n"
     ]
    }
   ],
   "source": [
    "from __future__ import division\n",
    "import numpy as np \n",
    "import igraph\n",
    "import random\n",
    "\n",
    "\n",
    "graph_move = []\n",
    "graph_self_bind = []\n",
    "\n",
    "total_time = 100\n",
    "k_move = 1e6\n",
    "k_bind = 1e5\n",
    "k_off = 1e1\n",
    "len_factor = 1\n",
    "tau = 1e-3\n",
    "times = []\n",
    "degree_dist = {}\n",
    "degree_dist_all = {}\n",
    "binding_result = []\n",
    "\n",
    "summarized_results = np.zeros(shape=(total_time+1,2))\n",
    "rxn_results = np.zeros(shape=(total_time+1,3))\n",
    "self_binding_count = 0\n",
    "\n",
    "\n",
    "\n",
    "store_graph = {}\n",
    "store_layout = {}\n",
    "\n",
    "t = 0\n",
    "\n",
    "x_list = []\n",
    "y_list = []\n",
    "while t <= total_time:\n",
    "\n",
    "\n",
    "    ## Calculate all possible reactions\n",
    "\n",
    "    move = sum(move_count.values() )                              # movement\n",
    "    move_k = move * k_move\n",
    "\n",
    "\n",
    "\n",
    "    ################################\n",
    "    # binding\n",
    "    ################################\n",
    "   \n",
    "\n",
    "    #bind = sum(bind_count.values() )                              # binding\n",
    "    bind_k = len(g.get_edgelist()) * k_bind * 0.2\n",
    "\n",
    "\n",
    "\n",
    "    ################################\n",
    "    # dissociate\n",
    "    ################################\n",
    "\n",
    "\n",
    "    dissociate = len(g.get_edgelist())                            # dissociation\n",
    "    dissociate_k = k_off * dissociate\n",
    "\n",
    "    # dissociation\n",
    "    ##dissociate = len(g.get_edgelist())                           \n",
    "    ##dissociate_k = dissociate * k_off * tau\n",
    "\n",
    "    # Time at which the next reaction will take place\n",
    "    rate_sum = move_k + bind_k + dissociate_k                   \n",
    "    total_tau = random.expovariate(lambd=rate_sum)                \n",
    "\n",
    "    if not times:\n",
    "        times.append(total_tau)\n",
    "    else:\n",
    "        total_tau = total_tau + times[t-1]\n",
    "        times.append(total_tau)                                             # Save time as a tuple\n",
    "\n",
    "    \n",
    "    \n",
    "    #reaction = allRxn(move_k, bind_k, dissociate_k)            # Sample from uniform distribution to select next rxn\n",
    "    choices = ['move', 'bind']\n",
    "    reaction = 'move'\n",
    "    #reaction = random.choice(choices)\n",
    "    \n",
    "\n",
    "\n",
    "\n",
    "    if reaction == 'move':\n",
    "        print 'move'\n",
    "        \n",
    "        #store graph \n",
    "        store_layout[t] = layout_old.keys()\n",
    "        store_graph[t] = g.vs['position']\n",
    "        \n",
    "        #store rxn results\n",
    "        rxn_results[t] = (1, 0, 0)\n",
    "\n",
    "        # randomly select a node to move\n",
    "        position_selected = random.choice(layout_old.keys() )                  \n",
    "\n",
    "        if position_selected in layout_old:\n",
    "            #move_count.pop(position_selected)\n",
    "            #neighbor_tracking.pop(position_selected)\n",
    "            \n",
    "\n",
    "            # if position_selected is of degree 0, then move it normally using Mover function            \n",
    "            layout_old, pos = Mover(position_selected, layout_old, illegal_moves)       \n",
    "\n",
    "           \n",
    "            # update graph attributes\n",
    "            update_graph(G=g, layout=layout_old, new_position=pos, old_position=position_selected)\n",
    "\n",
    "           \n",
    "            # update neighbor positions\n",
    "            update_neighbors(oldPosition=position_selected, newPosition=pos, layout_dict=layout_old, neighbors_dict=neighbor_tracking)\n",
    "        \n",
    "         \n",
    "            # update the count of moves the selected object can perform still\n",
    "            move_count[pos] = movement_finder(pos, illegal_moves, layout_old, spaceMin, spaceMax)\n",
    "            \n",
    "            new_association_function3(pos, layout_old, g, neighbor_tracking, False)\n",
    "\n",
    "\n",
    "\n",
    "    if reaction == 'bind':\n",
    "        print 'bind'\n",
    "\n",
    "        #store rxn results\n",
    "        rxn_results[t] = (0, 1, 0)\n",
    "        \n",
    "        # select a node with neighbors randomly for forming an edge\n",
    "        position_selected = edge_selector(neighbor_tracking)                 \n",
    "        \n",
    "    \n",
    "        #move_count.pop(position_selected)\n",
    "        #neighbor_tracking.pop(position_selected)\n",
    "\n",
    "        # bind & update move_count and neighbor_tracking dict\n",
    "        #move_count[position_selected] = movement_finder(position_selected, illegal_moves, layout_old, spaceMin, spaceMax)\n",
    "        \n",
    "        print 'position_selected: {0}'.format(position_selected)\n",
    "\n",
    "        \n",
    "        #find a neighboring node\n",
    "        neighbor_to_bind = find_node(position_selected, neighbor_tracking, g)\n",
    "\n",
    "        print 'neighbor_to_bind: {0}'.format(neighbor_to_bind)\n",
    "        print ''\n",
    "        #bind to a neighboring node by adding edge in graph\n",
    " \n",
    "\n",
    "        bind(position_selected, neighbor_to_bind, g)\n",
    "        #new_association_function3(position_selected, layout_old, g, neighbor_tracking, True)\n",
    "\n",
    "        # simplify the graph \n",
    "        g.simplify(g)\n",
    "\n",
    "\n",
    "        #print 'bind', position_selected\n",
    "        #print g\n",
    "\n",
    "  \n",
    "    if reaction == 'dissociate':\n",
    "        print 'dissociate'\n",
    "        \n",
    "        #store rxn results\n",
    "        rxn_results[t] = (0, 0, 1)\n",
    "\n",
    "        edge_list = g.get_edgelist()\n",
    "\n",
    "        try:\n",
    "            edge_selected = random.choice(edge_list)\n",
    "            g.delete_edges(edge_selected)\n",
    "        except:\n",
    "            pass\n",
    "\n",
    "        \n",
    "\n",
    "\n",
    "    # store graph at each interval\n",
    "      \n",
    "    graph_move.append(move)\n",
    "    graph_self_bind.append(self_binding_count)\n",
    "\n",
    "\n",
    "    for i in range(len(g.get_edgelist() ) ):\n",
    "        # store tuple in online fashion\n",
    "        to_check = g.get_edgelist()[i]\n",
    "        # count the number of times this index repeats. \n",
    "        # If it is once, then it is a higer level binder. If it is two it is a self binder\n",
    "        binding_result.append( to_check.count(to_check[0]) )\n",
    "\n",
    "\n",
    "    ctr = collections.Counter(binding_result)\n",
    "    try:\n",
    "        summarized_results[t] = ctr.values()\n",
    "    except:\n",
    "        pass\n",
    "\n",
    "    ## plot at each step \n",
    "    #dictlist = []\n",
    "    #for key, value in layout_old.iteritems():\n",
    "    #    dictlist.append(key)\n",
    "    \n",
    "    \n",
    "    ## TEMP \n",
    "    neighbor_tracking = {}\n",
    "    for key, value in layout_old.iteritems():\n",
    "        neighbor_tracking[key] = possible_associations(position=key, layout=layout_old)\n",
    "    ### \n",
    "    \n",
    "    x, y = displacement(layout_old)\n",
    "    x_list.append(x)\n",
    "    y_list.append(y)\n",
    "    \n",
    "    t += 1\n",
    "\n",
    "\n",
    "#update the graph\n",
    "#initiate_graph_position(g, layout_old)   \n",
    "\n",
    "    \n",
    "#total_rxn_5[10] = rxn_results.sum(axis=0)\n",
    "#total_rxn_60[10] = rxn_results.sum(axis=0)"
   ]
  },
  {
   "cell_type": "code",
   "execution_count": null,
   "metadata": {},
   "outputs": [],
   "source": []
  },
  {
   "cell_type": "markdown",
   "metadata": {},
   "source": [
    "# Diffusion analysis"
   ]
  },
  {
   "cell_type": "code",
   "execution_count": 1529,
   "metadata": {},
   "outputs": [
    {
     "name": "stdout",
     "output_type": "stream",
     "text": [
      "3.67318474817e-08\n",
      "2.06367602272e-07\n",
      "6.51651332873e-07\n",
      "1.01005750204e-06\n",
      "2.60276667679e-06\n",
      "4.17335759874e-06\n"
     ]
    }
   ],
   "source": [
    "print times[10]\n",
    "print times[100]\n",
    "print times[500]\n",
    "print times[1000]\n",
    "print times[5000]\n",
    "print times[10000]"
   ]
  },
  {
   "cell_type": "code",
   "execution_count": 1465,
   "metadata": {},
   "outputs": [],
   "source": [
    "i = 0\n",
    "displace_list = []\n",
    "while i < len(x_list) - 1:    \n",
    "    displace = map(operator.sub, x_list[i+1] ,x_list[i])\n",
    "    displace_list.append(displace)\n",
    "    i += 1"
   ]
  },
  {
   "cell_type": "code",
   "execution_count": 1471,
   "metadata": {
    "scrolled": true
   },
   "outputs": [],
   "source": [
    "List = np.array(displace_list)\n",
    "# Using numpy sum \n",
    "sum_displacement = np.sum(List, 0) \n",
    "avg_displacement_100 = sum_displacement/100"
   ]
  },
  {
   "cell_type": "code",
   "execution_count": 1472,
   "metadata": {},
   "outputs": [
    {
     "data": {
      "image/png": "[encoded data removed]",
      "text/plain": [
       "<Figure size 432x288 with 1 Axes>"
      ]
     },
     "metadata": {
      "needs_background": "light"
     },
     "output_type": "display_data"
    }
   ],
   "source": [
    "import matplotlib\n",
    "import matplotlib.pyplot as plt\n",
    "%matplotlib inline \n",
    "\n",
    "plt.hist(avg_displacement_100, bins=4)\n",
    "plt.show()"
   ]
  },
  {
   "cell_type": "code",
   "execution_count": 1475,
   "metadata": {},
   "outputs": [
    {
     "data": {
      "image/png": "[encoded data removed]",
      "text/plain": [
       "<Figure size 432x288 with 1 Axes>"
      ]
     },
     "metadata": {
      "needs_background": "light"
     },
     "output_type": "display_data"
    }
   ],
   "source": [
    "i = 0\n",
    "displace_list = []\n",
    "while i < len(x_list) - 1:    \n",
    "    displace = map(operator.sub, x_list[i+1] ,x_list[i])\n",
    "    displace_list.append(displace)\n",
    "    i += 1\n",
    "    \n",
    "List = np.array(displace_list)\n",
    "# Using numpy sum \n",
    "sum_displacement = np.sum(List, 0) \n",
    "avg_displacement_1000 = sum_displacement/100\n",
    "\n",
    "import matplotlib\n",
    "import matplotlib.pyplot as plt\n",
    "%matplotlib inline \n",
    "\n",
    "plt.hist(avg_displacement_1000, bins=8)\n",
    "plt.show()"
   ]
  },
  {
   "cell_type": "code",
   "execution_count": 1511,
   "metadata": {},
   "outputs": [
    {
     "data": {
      "image/png": "[encoded data removed]",
      "text/plain": [
       "<Figure size 432x288 with 1 Axes>"
      ]
     },
     "metadata": {
      "needs_background": "light"
     },
     "output_type": "display_data"
    }
   ],
   "source": [
    "i = 0\n",
    "displace_list = []\n",
    "while i < len(x_list) - 1:    \n",
    "    displace = map(operator.sub, x_list[i+1] ,x_list[i])\n",
    "    displace_list.append(displace)\n",
    "    i += 1\n",
    "    \n",
    "List = np.array(displace_list)\n",
    "# Using numpy sum \n",
    "sum_displacement = np.sum(List, 0) \n",
    "avg_displacement_10 = sum_displacement/100\n",
    "\n",
    "import matplotlib\n",
    "import matplotlib.pyplot as plt\n",
    "%matplotlib inline \n",
    "\n",
    "plt.hist(avg_displacement_10)\n",
    "plt.show()"
   ]
  },
  {
   "cell_type": "code",
   "execution_count": 1516,
   "metadata": {},
   "outputs": [
    {
     "data": {
      "image/png": "[encoded data removed]",
      "text/plain": [
       "<Figure size 432x288 with 1 Axes>"
      ]
     },
     "metadata": {
      "needs_background": "light"
     },
     "output_type": "display_data"
    }
   ],
   "source": [
    "i = 0\n",
    "displace_list = []\n",
    "while i < len(x_list) - 1:    \n",
    "    displace = map(operator.sub, x_list[i+1] ,x_list[i])\n",
    "    displace_list.append(displace)\n",
    "    i += 1\n",
    "    \n",
    "List = np.array(displace_list)\n",
    "# Using numpy sum \n",
    "sum_displacement = np.sum(List, 0) \n",
    "avg_displacement_10000 = sum_displacement/100\n",
    "\n",
    "import matplotlib\n",
    "import matplotlib.pyplot as plt\n",
    "%matplotlib inline \n",
    "\n",
    "plt.hist(avg_displacement_10000)\n",
    "plt.show()"
   ]
  },
  {
   "cell_type": "code",
   "execution_count": 1485,
   "metadata": {},
   "outputs": [
    {
     "data": {
      "image/png": "[encoded data removed]",
      "text/plain": [
       "<Figure size 432x288 with 1 Axes>"
      ]
     },
     "metadata": {
      "needs_background": "light"
     },
     "output_type": "display_data"
    }
   ],
   "source": [
    "i = 0\n",
    "displace_list = []\n",
    "while i < len(x_list) - 1:    \n",
    "    displace = map(operator.sub, x_list[i+1] ,x_list[i])\n",
    "    displace_list.append(displace)\n",
    "    i += 1\n",
    "    \n",
    "List = np.array(displace_list)\n",
    "# Using numpy sum \n",
    "sum_displacement = np.sum(List, 0) \n",
    "avg_displacement_500 = sum_displacement/100\n",
    "\n",
    "import matplotlib\n",
    "import matplotlib.pyplot as plt\n",
    "%matplotlib inline \n",
    "\n",
    "plt.hist(avg_displacement_500, bins=8)\n",
    "plt.show()"
   ]
  },
  {
   "cell_type": "code",
   "execution_count": 1496,
   "metadata": {},
   "outputs": [
    {
     "data": {
      "image/png": "[encoded data removed]",
      "text/plain": [
       "<Figure size 432x288 with 1 Axes>"
      ]
     },
     "metadata": {
      "needs_background": "light"
     },
     "output_type": "display_data"
    }
   ],
   "source": [
    "i = 0\n",
    "displace_list = []\n",
    "while i < len(x_list) - 1:    \n",
    "    displace = map(operator.sub, x_list[i+1] ,x_list[i])\n",
    "    displace_list.append(displace)\n",
    "    i += 1\n",
    "    \n",
    "List = np.array(displace_list)\n",
    "# Using numpy sum \n",
    "sum_displacement = np.sum(List, 0) \n",
    "avg_displacement_5000 = sum_displacement/100\n",
    "\n",
    "import matplotlib\n",
    "import matplotlib.pyplot as plt\n",
    "%matplotlib inline \n",
    "\n",
    "plt.hist(avg_displacement_5000, bins=8)\n",
    "plt.show()"
   ]
  },
  {
   "cell_type": "code",
   "execution_count": 1517,
   "metadata": {},
   "outputs": [
    {
     "data": {
      "image/png": "[encoded data removed]",
      "text/plain": [
       "<Figure size 432x288 with 1 Axes>"
      ]
     },
     "metadata": {
      "needs_background": "light"
     },
     "output_type": "display_data"
    }
   ],
   "source": [
    "from matplotlib import pyplot\n",
    "pyplot.hist(avg_displacement_10, alpha=0.5, label='10')\n",
    "pyplot.hist(avg_displacement_100, alpha=0.5, label='100')\n",
    "pyplot.hist(avg_displacement_500, alpha=0.5, label='500')\n",
    "pyplot.hist(avg_displacement_1000, alpha=0.5, label='1000')\n",
    "pyplot.hist(avg_displacement_5000, alpha=0.5, label='5000')\n",
    "pyplot.hist(avg_displacement_10000, alpha=0.5, label='10000')\n",
    "pyplot.legend(loc='upper right')\n",
    "pyplot.show()"
   ]
  },
  {
   "cell_type": "code",
   "execution_count": 1518,
   "metadata": {},
   "outputs": [],
   "source": [
    "with open('/Users/ganglion/Downloads/avg_displacement_10.txt', 'w') as filehandle:\n",
    "    for listitem in avg_displacement_10:\n",
    "        filehandle.write('%s\\n' % listitem)\n",
    "\n",
    "with open('/Users/ganglion/Downloads/avg_displacement_100.txt', 'w') as filehandle:\n",
    "    for listitem in avg_displacement_100:\n",
    "        filehandle.write('%s\\n' % listitem)\n",
    "\n",
    "with open('/Users/ganglion/Downloads/avg_displacement_500.txt', 'w') as filehandle:\n",
    "    for listitem in avg_displacement_500:\n",
    "        filehandle.write('%s\\n' % listitem)\n",
    "        \n",
    "with open('/Users/ganglion/Downloads/avg_displacement_1000.txt', 'w') as filehandle:\n",
    "    for listitem in avg_displacement_1000:\n",
    "        filehandle.write('%s\\n' % listitem)\n",
    "with open('/Users/ganglion/Downloads/avg_displacement_5000.txt', 'w') as filehandle:\n",
    "    for listitem in avg_displacement_5000:\n",
    "        filehandle.write('%s\\n' % listitem)\n",
    "with open('/Users/ganglion/Downloads/avg_displacement_10000.txt', 'w') as filehandle:\n",
    "    for listitem in avg_displacement_10000:\n",
    "        filehandle.write('%s\\n' % listitem)"
   ]
  },
  {
   "cell_type": "code",
   "execution_count": 1074,
   "metadata": {
    "scrolled": false
   },
   "outputs": [],
   "source": [
    "#print store_layout.values()\n",
    "\n",
    "x_dim = []\n",
    "y_dim = []\n",
    "ref_x = list(store_layout[0][0])[0] \n",
    "ref_y = list(store_layout[0][0])[1]\n",
    "\n",
    "i = 0\n",
    "\n",
    "while i < len(store_layout) -1:\n",
    "    x =  list(store_layout.values()[i][0])[0]\n",
    "    y = list(store_layout.values()[i][0])[1]\n",
    "    \n",
    "    next_x = list(store_layout.values()[i+1][0])[0]\n",
    "    next_y = list(store_layout.values()[i+1][0])[1]\n",
    "    \n",
    "    x_displacement = next_x - x\n",
    "    y_displacement = next_y - y\n",
    "    \n",
    "    x_dim.append(x_displacement)\n",
    "    y_dim.append(y_displacement)\n",
    "    \n",
    "    i += 1\n",
    "\n",
    "    \n"
   ]
  },
  {
   "cell_type": "code",
   "execution_count": 1080,
   "metadata": {},
   "outputs": [],
   "source": [
    "with open('/Users/ganglion/Downloads/x_dim.txt', 'w') as filehandle:\n",
    "    for listitem in x_dim:\n",
    "        filehandle.write('%s\\n' % listitem)\n",
    "\n",
    "with open('/Users/ganglion/Downloads/y_dim.txt', 'w') as filehandle:\n",
    "    for listitem in y_dim:\n",
    "        filehandle.write('%s\\n' % listitem)\n",
    "    \n"
   ]
  },
  {
   "cell_type": "code",
   "execution_count": 1094,
   "metadata": {},
   "outputs": [
    {
     "data": {
      "image/png": "[encoded data removed]",
      "text/plain": [
       "<Figure size 432x288 with 1 Axes>"
      ]
     },
     "metadata": {
      "needs_background": "light"
     },
     "output_type": "display_data"
    }
   ],
   "source": [
    "import matplotlib\n",
    "import matplotlib.pyplot as plt\n",
    "%matplotlib inline \n",
    "\n",
    "#n_bins = 5\n",
    "\n",
    "#fig, axs = plt.subplots(1, 2, sharey=True)\n",
    "\n",
    "# We can set the number of bins with the `bins` kwarg\n",
    "#axs[0].hist(x_dim)\n",
    "#axs[1].hist(y_dim)\n",
    "\n",
    "plt.xlim(-2, 2)\n",
    "plt.hist(x_dim)\n",
    "plt.show()"
   ]
  },
  {
   "cell_type": "code",
   "execution_count": 1096,
   "metadata": {},
   "outputs": [
    {
     "data": {
      "image/png": "[encoded data removed]",
      "text/plain": [
       "<Figure size 432x288 with 1 Axes>"
      ]
     },
     "metadata": {
      "needs_background": "light"
     },
     "output_type": "display_data"
    }
   ],
   "source": [
    "plt.xlim(-2, 2)\n",
    "plt.hist(y_dim)\n",
    "plt.show()"
   ]
  },
  {
   "cell_type": "code",
   "execution_count": null,
   "metadata": {},
   "outputs": [],
   "source": []
  },
  {
   "cell_type": "code",
   "execution_count": 996,
   "metadata": {
    "scrolled": true
   },
   "outputs": [
    {
     "data": {
      "image/svg+xml": [
       "<?xml version=\"1.0\" encoding=\"UTF-8\"?>\n",
       "<svg xmlns=\"http://www.w3.org/2000/svg\" xmlns:xlink=\"http://www.w3.org/1999/xlink\" width=\"600pt\" height=\"600pt\" viewBox=\"0 0 600 600\" version=\"1.1\">\n",
       "<defs>\n",
       "<g>\n",
       "<symbol overflow=\"visible\" id=\"glyph0-0\">\n",
       "<path style=\"stroke:none;\" d=\"M 0.453125 0 L 0.453125 -10.042969 L 8.421875 -10.042969 L 8.421875 0 Z M 7.164062 -1.257812 L 7.164062 -8.785156 L 1.710938 -8.785156 L 1.710938 -1.257812 Z M 7.164062 -1.257812 \"/>\n",
       "</symbol>\n",
       "<symbol overflow=\"visible\" id=\"glyph0-1\">\n",
       "<path style=\"stroke:none;\" d=\"M 4.140625 -10.207031 C 3.425781 -8.816406 2.960938 -7.792969 2.75 -7.136719 C 2.425781 -6.140625 2.261719 -4.984375 2.261719 -3.679688 C 2.261719 -2.355469 2.445312 -1.148438 2.816406 -0.0546875 C 3.042969 0.621094 3.492188 1.589844 4.164062 2.859375 L 3.335938 2.859375 C 2.671875 1.820312 2.257812 1.15625 2.097656 0.867188 C 1.9375 0.582031 1.765625 0.191406 1.578125 -0.300781 C 1.324219 -0.976562 1.144531 -1.695312 1.046875 -2.460938 C 0.996094 -2.859375 0.96875 -3.234375 0.96875 -3.59375 C 0.96875 -4.945312 1.183594 -6.144531 1.605469 -7.199219 C 1.875 -7.867188 2.4375 -8.871094 3.289062 -10.207031 Z M 4.140625 -10.207031 \"/>\n",
       "</symbol>\n",
       "<symbol overflow=\"visible\" id=\"glyph0-2\">\n",
       "<path style=\"stroke:none;\" d=\"M 4.628906 -3.464844 L 4.628906 -7.902344 L 1.492188 -3.464844 Z M 4.648438 0 L 4.648438 -2.390625 L 0.355469 -2.390625 L 0.355469 -3.59375 L 4.839844 -9.816406 L 5.878906 -9.816406 L 5.878906 -3.464844 L 7.320312 -3.464844 L 7.320312 -2.390625 L 5.878906 -2.390625 L 5.878906 0 Z M 4.648438 0 \"/>\n",
       "</symbol>\n",
       "<symbol overflow=\"visible\" id=\"glyph0-3\">\n",
       "<path style=\"stroke:none;\" d=\"M 1.164062 1.429688 C 1.476562 1.375 1.699219 1.152344 1.824219 0.765625 C 1.894531 0.5625 1.929688 0.363281 1.929688 0.171875 C 1.929688 0.140625 1.925781 0.109375 1.925781 0.0859375 C 1.921875 0.0625 1.917969 0.03125 1.90625 0 L 1.164062 0 L 1.164062 -1.492188 L 2.625 -1.492188 L 2.625 -0.109375 C 2.625 0.433594 2.515625 0.910156 2.296875 1.320312 C 2.078125 1.730469 1.699219 1.984375 1.164062 2.078125 Z M 1.164062 1.429688 \"/>\n",
       "</symbol>\n",
       "<symbol overflow=\"visible\" id=\"glyph0-4\">\n",
       "<g>\n",
       "</g>\n",
       "</symbol>\n",
       "<symbol overflow=\"visible\" id=\"glyph0-5\">\n",
       "<path style=\"stroke:none;\" d=\"M 0.4375 0 C 0.484375 -0.84375 0.65625 -1.578125 0.960938 -2.203125 C 1.265625 -2.828125 1.855469 -3.394531 2.734375 -3.902344 L 4.046875 -4.664062 C 4.632812 -5.003906 5.046875 -5.296875 5.285156 -5.539062 C 5.65625 -5.914062 5.84375 -6.347656 5.84375 -6.835938 C 5.84375 -7.40625 5.671875 -7.859375 5.332031 -8.191406 C 4.992188 -8.527344 4.535156 -8.695312 3.964844 -8.695312 C 3.121094 -8.695312 2.539062 -8.375 2.214844 -7.738281 C 2.042969 -7.398438 1.945312 -6.921875 1.929688 -6.316406 L 0.675781 -6.316406 C 0.691406 -7.167969 0.847656 -7.863281 1.148438 -8.402344 C 1.679688 -9.351562 2.621094 -9.824219 3.972656 -9.824219 C 5.09375 -9.824219 5.910156 -9.519531 6.429688 -8.914062 C 6.945312 -8.308594 7.203125 -7.632812 7.203125 -6.890625 C 7.203125 -6.105469 6.929688 -5.4375 6.378906 -4.882812 C 6.058594 -4.558594 5.488281 -4.164062 4.664062 -3.703125 L 3.726562 -3.1875 C 3.28125 -2.941406 2.929688 -2.703125 2.671875 -2.480469 C 2.21875 -2.085938 1.929688 -1.644531 1.8125 -1.164062 L 7.15625 -1.164062 L 7.15625 0 Z M 0.4375 0 \"/>\n",
       "</symbol>\n",
       "<symbol overflow=\"visible\" id=\"glyph0-6\">\n",
       "<path style=\"stroke:none;\" d=\"M 0.484375 2.859375 C 1.210938 1.445312 1.675781 0.414062 1.886719 -0.234375 C 2.207031 -1.210938 2.367188 -2.359375 2.367188 -3.679688 C 2.367188 -4.996094 2.179688 -6.199219 1.8125 -7.292969 C 1.585938 -7.96875 1.132812 -8.9375 0.464844 -10.207031 L 1.292969 -10.207031 C 1.992188 -9.085938 2.417969 -8.394531 2.566406 -8.132812 C 2.714844 -7.871094 2.875 -7.507812 3.046875 -7.046875 C 3.265625 -6.476562 3.421875 -5.914062 3.515625 -5.359375 C 3.609375 -4.804688 3.65625 -4.269531 3.65625 -3.753906 C 3.65625 -2.40625 3.441406 -1.199219 3.015625 -0.144531 C 2.746094 0.535156 2.1875 1.535156 1.339844 2.859375 Z M 0.484375 2.859375 \"/>\n",
       "</symbol>\n",
       "</g>\n",
       "</defs>\n",
       "<g id=\"surface1673\">\n",
       "<rect x=\"0\" y=\"0\" width=\"600\" height=\"600\" style=\"fill:rgb(100%,100%,100%);fill-opacity:1;stroke:none;\"/>\n",
       "<path style=\"fill-rule:nonzero;fill:rgb(100%,0%,0%);fill-opacity:1;stroke-width:1;stroke-linecap:butt;stroke-linejoin:miter;stroke:rgb(0%,0%,0%);stroke-opacity:1;stroke-miterlimit:10;\" d=\"M 310 300 C 310 305.523438 305.523438 310 300 310 C 294.476562 310 290 305.523438 290 300 C 290 294.476562 294.476562 290 300 290 C 305.523438 290 310 294.476562 310 300 \"/>\n",
       "<g style=\"fill:rgb(0%,0%,0%);fill-opacity:1;\">\n",
       "  <use xlink:href=\"#glyph0-1\" x=\"283.679688\" y=\"306.710938\"/>\n",
       "  <use xlink:href=\"#glyph0-2\" x=\"288.341797\" y=\"306.710938\"/>\n",
       "  <use xlink:href=\"#glyph0-3\" x=\"296.12793\" y=\"306.710938\"/>\n",
       "  <use xlink:href=\"#glyph0-4\" x=\"300.017578\" y=\"306.710938\"/>\n",
       "  <use xlink:href=\"#glyph0-5\" x=\"303.907227\" y=\"306.710938\"/>\n",
       "  <use xlink:href=\"#glyph0-6\" x=\"311.693359\" y=\"306.710938\"/>\n",
       "</g>\n",
       "</g>\n",
       "</svg>\n"
      ],
      "text/plain": [
       "<igraph.drawing.Plot at 0x110d71910>"
      ]
     },
     "execution_count": 996,
     "metadata": {},
     "output_type": "execute_result"
    }
   ],
   "source": [
    "igraph.plot(g, layout=g.vs['position'], vertex_label=g.vs['name'] )"
   ]
  },
  {
   "cell_type": "markdown",
   "metadata": {},
   "source": [
    "# Autocorrelation analysis"
   ]
  },
  {
   "cell_type": "code",
   "execution_count": 1556,
   "metadata": {},
   "outputs": [
    {
     "data": {
      "image/png": "[encoded data removed]",
      "text/plain": [
       "<Figure size 432x288 with 1 Axes>"
      ]
     },
     "metadata": {
      "needs_background": "light"
     },
     "output_type": "display_data"
    }
   ],
   "source": [
    "from random import seed\n",
    "from random import random\n",
    "from matplotlib import pyplot\n",
    "from pandas.plotting import autocorrelation_plot\n",
    "#from statsmodels.graphics.tsaplots import plot_acf\n",
    "\n",
    "fig = autocorrelation_plot(x_list)\n",
    "\n",
    "#pyplot.show()\n",
    "plt.savefig(\"/Users/ganglion/Downloads/autocorrelation_t100.pdf\")"
   ]
  },
  {
   "cell_type": "code",
   "execution_count": 1550,
   "metadata": {},
   "outputs": [],
   "source": [
    "with open('/Users/ganglion/Downloads/x_list.txt', 'w') as filehandle:\n",
    "    for listitem in x_list:\n",
    "        filehandle.write('%s\\n' % listitem)"
   ]
  },
  {
   "cell_type": "code",
   "execution_count": null,
   "metadata": {},
   "outputs": [],
   "source": []
  },
  {
   "cell_type": "markdown",
   "metadata": {},
   "source": [
    "# testing graph plotting"
   ]
  },
  {
   "cell_type": "code",
   "execution_count": 25,
   "metadata": {
    "scrolled": false
   },
   "outputs": [
    {
     "data": {
      "image/svg+xml": [
       "<?xml version=\"1.0\" encoding=\"UTF-8\"?>\n",
       "<svg xmlns=\"http://www.w3.org/2000/svg\" xmlns:xlink=\"http://www.w3.org/1999/xlink\" width=\"600pt\" height=\"600pt\" viewBox=\"0 0 600 600\" version=\"1.1\">\n",
       "<defs>\n",
       "<g>\n",
       "<symbol overflow=\"visible\" id=\"glyph0-0\">\n",
       "<path style=\"stroke:none;\" d=\"M 0.453125 0 L 0.453125 -10.042969 L 8.421875 -10.042969 L 8.421875 0 Z M 7.164062 -1.257812 L 7.164062 -8.785156 L 1.710938 -8.785156 L 1.710938 -1.257812 Z M 7.164062 -1.257812 \"/>\n",
       "</symbol>\n",
       "<symbol overflow=\"visible\" id=\"glyph0-1\">\n",
       "<path style=\"stroke:none;\" d=\"M 4.140625 -10.207031 C 3.425781 -8.816406 2.960938 -7.792969 2.75 -7.136719 C 2.425781 -6.140625 2.261719 -4.984375 2.261719 -3.679688 C 2.261719 -2.355469 2.445312 -1.148438 2.816406 -0.0546875 C 3.042969 0.621094 3.492188 1.589844 4.164062 2.859375 L 3.335938 2.859375 C 2.671875 1.820312 2.257812 1.15625 2.097656 0.867188 C 1.9375 0.582031 1.765625 0.191406 1.578125 -0.300781 C 1.324219 -0.976562 1.144531 -1.695312 1.046875 -2.460938 C 0.996094 -2.859375 0.96875 -3.234375 0.96875 -3.59375 C 0.96875 -4.945312 1.183594 -6.144531 1.605469 -7.199219 C 1.875 -7.867188 2.4375 -8.871094 3.289062 -10.207031 Z M 4.140625 -10.207031 \"/>\n",
       "</symbol>\n",
       "<symbol overflow=\"visible\" id=\"glyph0-2\">\n",
       "<path style=\"stroke:none;\" d=\"M 1.339844 -6.929688 L 1.339844 -7.875 C 2.226562 -7.960938 2.847656 -8.105469 3.199219 -8.308594 C 3.550781 -8.511719 3.8125 -8.992188 3.984375 -9.75 L 4.957031 -9.75 L 4.957031 0 L 3.644531 0 L 3.644531 -6.929688 Z M 1.339844 -6.929688 \"/>\n",
       "</symbol>\n",
       "<symbol overflow=\"visible\" id=\"glyph0-3\">\n",
       "<path style=\"stroke:none;\" d=\"M 4.628906 -3.464844 L 4.628906 -7.902344 L 1.492188 -3.464844 Z M 4.648438 0 L 4.648438 -2.390625 L 0.355469 -2.390625 L 0.355469 -3.59375 L 4.839844 -9.816406 L 5.878906 -9.816406 L 5.878906 -3.464844 L 7.320312 -3.464844 L 7.320312 -2.390625 L 5.878906 -2.390625 L 5.878906 0 Z M 4.648438 0 \"/>\n",
       "</symbol>\n",
       "<symbol overflow=\"visible\" id=\"glyph0-4\">\n",
       "<path style=\"stroke:none;\" d=\"M 1.164062 1.429688 C 1.476562 1.375 1.699219 1.152344 1.824219 0.765625 C 1.894531 0.5625 1.929688 0.363281 1.929688 0.171875 C 1.929688 0.140625 1.925781 0.109375 1.925781 0.0859375 C 1.921875 0.0625 1.917969 0.03125 1.90625 0 L 1.164062 0 L 1.164062 -1.492188 L 2.625 -1.492188 L 2.625 -0.109375 C 2.625 0.433594 2.515625 0.910156 2.296875 1.320312 C 2.078125 1.730469 1.699219 1.984375 1.164062 2.078125 Z M 1.164062 1.429688 \"/>\n",
       "</symbol>\n",
       "<symbol overflow=\"visible\" id=\"glyph0-5\">\n",
       "<g>\n",
       "</g>\n",
       "</symbol>\n",
       "<symbol overflow=\"visible\" id=\"glyph0-6\">\n",
       "<path style=\"stroke:none;\" d=\"M 7.320312 -9.625 L 7.320312 -8.550781 C 7.007812 -8.246094 6.589844 -7.714844 6.066406 -6.960938 C 5.546875 -6.203125 5.082031 -5.386719 4.683594 -4.511719 C 4.285156 -3.660156 3.984375 -2.882812 3.78125 -2.179688 C 3.648438 -1.730469 3.476562 -1.003906 3.265625 0 L 1.90625 0 C 2.21875 -1.867188 2.902344 -3.726562 3.957031 -5.578125 C 4.582031 -6.664062 5.238281 -7.597656 5.925781 -8.386719 L 0.511719 -8.386719 L 0.511719 -9.625 Z M 7.320312 -9.625 \"/>\n",
       "</symbol>\n",
       "<symbol overflow=\"visible\" id=\"glyph0-7\">\n",
       "<path style=\"stroke:none;\" d=\"M 0.484375 2.859375 C 1.210938 1.445312 1.675781 0.414062 1.886719 -0.234375 C 2.207031 -1.210938 2.367188 -2.359375 2.367188 -3.679688 C 2.367188 -4.996094 2.179688 -6.199219 1.8125 -7.292969 C 1.585938 -7.96875 1.132812 -8.9375 0.464844 -10.207031 L 1.292969 -10.207031 C 1.992188 -9.085938 2.417969 -8.394531 2.566406 -8.132812 C 2.714844 -7.871094 2.875 -7.507812 3.046875 -7.046875 C 3.265625 -6.476562 3.421875 -5.914062 3.515625 -5.359375 C 3.609375 -4.804688 3.65625 -4.269531 3.65625 -3.753906 C 3.65625 -2.40625 3.441406 -1.199219 3.015625 -0.144531 C 2.746094 0.535156 2.1875 1.535156 1.339844 2.859375 Z M 0.484375 2.859375 \"/>\n",
       "</symbol>\n",
       "<symbol overflow=\"visible\" id=\"glyph0-8\">\n",
       "<path style=\"stroke:none;\" d=\"M 3.636719 0.265625 C 2.480469 0.265625 1.640625 -0.0507812 1.117188 -0.6875 C 0.59375 -1.324219 0.335938 -2.097656 0.335938 -3.007812 L 1.621094 -3.007812 C 1.675781 -2.375 1.792969 -1.914062 1.976562 -1.625 C 2.296875 -1.109375 2.871094 -0.855469 3.703125 -0.855469 C 4.351562 -0.855469 4.871094 -1.027344 5.265625 -1.375 C 5.65625 -1.71875 5.851562 -2.167969 5.851562 -2.714844 C 5.851562 -3.390625 5.644531 -3.859375 5.234375 -4.128906 C 4.820312 -4.398438 4.246094 -4.53125 3.515625 -4.53125 C 3.433594 -4.53125 3.347656 -4.53125 3.265625 -4.527344 C 3.179688 -4.527344 3.09375 -4.523438 3.007812 -4.519531 L 3.007812 -5.605469 C 3.136719 -5.59375 3.242188 -5.582031 3.328125 -5.578125 C 3.414062 -5.574219 3.507812 -5.570312 3.609375 -5.570312 C 4.070312 -5.570312 4.449219 -5.644531 4.742188 -5.789062 C 5.261719 -6.046875 5.523438 -6.5 5.523438 -7.15625 C 5.523438 -7.644531 5.351562 -8.019531 5.003906 -8.285156 C 4.65625 -8.550781 4.253906 -8.679688 3.792969 -8.679688 C 2.972656 -8.679688 2.40625 -8.40625 2.09375 -7.859375 C 1.917969 -7.558594 1.820312 -7.132812 1.796875 -6.578125 L 0.582031 -6.578125 C 0.582031 -7.304688 0.726562 -7.925781 1.019531 -8.4375 C 1.519531 -9.347656 2.402344 -9.804688 3.664062 -9.804688 C 4.664062 -9.804688 5.433594 -9.582031 5.980469 -9.136719 C 6.527344 -8.691406 6.800781 -8.046875 6.800781 -7.203125 C 6.800781 -6.601562 6.640625 -6.117188 6.316406 -5.742188 C 6.117188 -5.507812 5.855469 -5.328125 5.539062 -5.195312 C 6.054688 -5.054688 6.453125 -4.78125 6.742188 -4.378906 C 7.03125 -3.976562 7.179688 -3.480469 7.179688 -2.898438 C 7.179688 -1.964844 6.871094 -1.203125 6.253906 -0.617188 C 5.640625 -0.0273438 4.765625 0.265625 3.636719 0.265625 Z M 3.636719 0.265625 \"/>\n",
       "</symbol>\n",
       "<symbol overflow=\"visible\" id=\"glyph0-9\">\n",
       "<path style=\"stroke:none;\" d=\"M 0.4375 0 C 0.484375 -0.84375 0.65625 -1.578125 0.960938 -2.203125 C 1.265625 -2.828125 1.855469 -3.394531 2.734375 -3.902344 L 4.046875 -4.664062 C 4.632812 -5.003906 5.046875 -5.296875 5.285156 -5.539062 C 5.65625 -5.914062 5.84375 -6.347656 5.84375 -6.835938 C 5.84375 -7.40625 5.671875 -7.859375 5.332031 -8.191406 C 4.992188 -8.527344 4.535156 -8.695312 3.964844 -8.695312 C 3.121094 -8.695312 2.539062 -8.375 2.214844 -7.738281 C 2.042969 -7.398438 1.945312 -6.921875 1.929688 -6.316406 L 0.675781 -6.316406 C 0.691406 -7.167969 0.847656 -7.863281 1.148438 -8.402344 C 1.679688 -9.351562 2.621094 -9.824219 3.972656 -9.824219 C 5.09375 -9.824219 5.910156 -9.519531 6.429688 -8.914062 C 6.945312 -8.308594 7.203125 -7.632812 7.203125 -6.890625 C 7.203125 -6.105469 6.929688 -5.4375 6.378906 -4.882812 C 6.058594 -4.558594 5.488281 -4.164062 4.664062 -3.703125 L 3.726562 -3.1875 C 3.28125 -2.941406 2.929688 -2.703125 2.671875 -2.480469 C 2.21875 -2.085938 1.929688 -1.644531 1.8125 -1.164062 L 7.15625 -1.164062 L 7.15625 0 Z M 0.4375 0 \"/>\n",
       "</symbol>\n",
       "<symbol overflow=\"visible\" id=\"glyph0-10\">\n",
       "<path style=\"stroke:none;\" d=\"M 4.09375 -9.828125 C 5.1875 -9.828125 5.949219 -9.546875 6.382812 -8.980469 C 6.8125 -8.414062 7.027344 -7.828125 7.027344 -7.226562 L 5.8125 -7.226562 C 5.738281 -7.613281 5.621094 -7.914062 5.460938 -8.132812 C 5.164062 -8.542969 4.71875 -8.75 4.117188 -8.75 C 3.429688 -8.75 2.878906 -8.433594 2.476562 -7.796875 C 2.070312 -7.160156 1.84375 -6.25 1.796875 -5.066406 C 2.078125 -5.480469 2.4375 -5.789062 2.863281 -5.996094 C 3.257812 -6.179688 3.695312 -6.269531 4.175781 -6.269531 C 4.996094 -6.269531 5.710938 -6.007812 6.324219 -5.484375 C 6.933594 -4.960938 7.238281 -4.175781 7.238281 -3.136719 C 7.238281 -2.25 6.949219 -1.460938 6.371094 -0.777344 C 5.792969 -0.0898438 4.96875 0.253906 3.898438 0.253906 C 2.980469 0.253906 2.191406 -0.09375 1.523438 -0.789062 C 0.859375 -1.484375 0.527344 -2.65625 0.527344 -4.300781 C 0.527344 -5.515625 0.675781 -6.546875 0.96875 -7.398438 C 1.539062 -9.019531 2.582031 -9.828125 4.09375 -9.828125 Z M 4.007812 -0.839844 C 4.652344 -0.839844 5.136719 -1.058594 5.457031 -1.492188 C 5.78125 -1.929688 5.941406 -2.441406 5.941406 -3.035156 C 5.941406 -3.535156 5.796875 -4.015625 5.507812 -4.46875 C 5.222656 -4.921875 4.699219 -5.148438 3.945312 -5.148438 C 3.414062 -5.148438 2.953125 -4.972656 2.554688 -4.621094 C 2.15625 -4.269531 1.953125 -3.742188 1.953125 -3.035156 C 1.953125 -2.414062 2.136719 -1.894531 2.5 -1.472656 C 2.859375 -1.050781 3.363281 -0.839844 4.007812 -0.839844 Z M 4.007812 -0.839844 \"/>\n",
       "</symbol>\n",
       "<symbol overflow=\"visible\" id=\"glyph0-11\">\n",
       "<path style=\"stroke:none;\" d=\"M 1.859375 -2.367188 C 1.894531 -1.6875 2.15625 -1.21875 2.644531 -0.957031 C 2.894531 -0.820312 3.179688 -0.75 3.492188 -0.75 C 4.082031 -0.75 4.582031 -0.996094 4.996094 -1.488281 C 5.410156 -1.976562 5.707031 -2.972656 5.878906 -4.46875 C 5.605469 -4.039062 5.265625 -3.734375 4.863281 -3.558594 C 4.460938 -3.382812 4.027344 -3.296875 3.5625 -3.296875 C 2.617188 -3.296875 1.871094 -3.589844 1.324219 -4.175781 C 0.773438 -4.765625 0.5 -5.519531 0.5 -6.445312 C 0.5 -7.335938 0.769531 -8.117188 1.3125 -8.789062 C 1.855469 -9.464844 2.65625 -9.804688 3.710938 -9.804688 C 5.136719 -9.804688 6.121094 -9.160156 6.664062 -7.875 C 6.964844 -7.167969 7.117188 -6.285156 7.117188 -5.222656 C 7.117188 -4.023438 6.9375 -2.960938 6.578125 -2.039062 C 5.980469 -0.496094 4.96875 0.273438 3.539062 0.273438 C 2.582031 0.273438 1.855469 0.0234375 1.359375 -0.476562 C 0.863281 -0.980469 0.617188 -1.609375 0.617188 -2.367188 Z M 3.726562 -4.375 C 4.214844 -4.375 4.660156 -4.535156 5.0625 -4.855469 C 5.464844 -5.179688 5.667969 -5.738281 5.667969 -6.542969 C 5.667969 -7.261719 5.484375 -7.796875 5.125 -8.152344 C 4.761719 -8.503906 4.300781 -8.679688 3.738281 -8.679688 C 3.136719 -8.679688 2.660156 -8.480469 2.308594 -8.078125 C 1.953125 -7.671875 1.777344 -7.132812 1.777344 -6.460938 C 1.777344 -5.820312 1.933594 -5.316406 2.242188 -4.9375 C 2.550781 -4.5625 3.046875 -4.375 3.726562 -4.375 Z M 3.726562 -4.375 \"/>\n",
       "</symbol>\n",
       "<symbol overflow=\"visible\" id=\"glyph0-12\">\n",
       "<path style=\"stroke:none;\" d=\"M 1.730469 -2.496094 C 1.8125 -1.792969 2.136719 -1.308594 2.707031 -1.039062 C 3 -0.902344 3.335938 -0.835938 3.71875 -0.835938 C 4.449219 -0.835938 4.988281 -1.066406 5.339844 -1.53125 C 5.691406 -1.996094 5.867188 -2.511719 5.867188 -3.078125 C 5.867188 -3.761719 5.65625 -4.289062 5.238281 -4.664062 C 4.820312 -5.035156 4.324219 -5.222656 3.738281 -5.222656 C 3.316406 -5.222656 2.953125 -5.140625 2.648438 -4.976562 C 2.34375 -4.8125 2.085938 -4.585938 1.875 -4.292969 L 0.804688 -4.355469 L 1.550781 -9.625 L 6.636719 -9.625 L 6.636719 -8.4375 L 2.476562 -8.4375 L 2.058594 -5.714844 C 2.285156 -5.886719 2.5 -6.019531 2.707031 -6.105469 C 3.070312 -6.253906 3.492188 -6.328125 3.972656 -6.328125 C 4.871094 -6.328125 5.628906 -6.039062 6.253906 -5.460938 C 6.878906 -4.882812 7.191406 -4.148438 7.191406 -3.261719 C 7.191406 -2.335938 6.90625 -1.519531 6.332031 -0.8125 C 5.761719 -0.105469 4.847656 0.246094 3.59375 0.246094 C 2.796875 0.246094 2.09375 0.0234375 1.480469 -0.425781 C 0.867188 -0.875 0.523438 -1.566406 0.453125 -2.496094 Z M 1.730469 -2.496094 \"/>\n",
       "</symbol>\n",
       "<symbol overflow=\"visible\" id=\"glyph0-13\">\n",
       "<path style=\"stroke:none;\" d=\"M 3.808594 -5.6875 C 4.351562 -5.6875 4.773438 -5.839844 5.078125 -6.140625 C 5.382812 -6.445312 5.539062 -6.804688 5.539062 -7.226562 C 5.539062 -7.589844 5.390625 -7.925781 5.101562 -8.230469 C 4.808594 -8.535156 4.363281 -8.6875 3.765625 -8.6875 C 3.171875 -8.6875 2.746094 -8.535156 2.480469 -8.230469 C 2.21875 -7.925781 2.085938 -7.566406 2.085938 -7.15625 C 2.085938 -6.695312 2.257812 -6.335938 2.597656 -6.078125 C 2.9375 -5.816406 3.34375 -5.6875 3.808594 -5.6875 Z M 3.882812 -0.839844 C 4.453125 -0.839844 4.925781 -0.996094 5.300781 -1.300781 C 5.675781 -1.609375 5.867188 -2.070312 5.867188 -2.679688 C 5.867188 -3.3125 5.671875 -3.792969 5.285156 -4.121094 C 4.898438 -4.449219 4.398438 -4.613281 3.792969 -4.613281 C 3.207031 -4.613281 2.726562 -4.445312 2.355469 -4.113281 C 1.984375 -3.777344 1.796875 -3.3125 1.796875 -2.71875 C 1.796875 -2.210938 1.96875 -1.769531 2.308594 -1.398438 C 2.648438 -1.027344 3.171875 -0.839844 3.882812 -0.839844 Z M 2.132812 -5.214844 C 1.789062 -5.359375 1.523438 -5.53125 1.332031 -5.726562 C 0.972656 -6.09375 0.792969 -6.566406 0.792969 -7.148438 C 0.792969 -7.878906 1.058594 -8.507812 1.585938 -9.03125 C 2.113281 -9.554688 2.863281 -9.816406 3.835938 -9.816406 C 4.773438 -9.816406 5.507812 -9.570312 6.042969 -9.074219 C 6.578125 -8.578125 6.84375 -8.003906 6.84375 -7.34375 C 6.84375 -6.730469 6.6875 -6.238281 6.378906 -5.859375 C 6.203125 -5.644531 5.9375 -5.433594 5.570312 -5.230469 C 5.976562 -5.042969 6.296875 -4.828125 6.527344 -4.585938 C 6.960938 -4.132812 7.179688 -3.539062 7.179688 -2.808594 C 7.179688 -1.949219 6.886719 -1.21875 6.308594 -0.617188 C 5.730469 -0.0195312 4.914062 0.28125 3.855469 0.28125 C 2.902344 0.28125 2.097656 0.0234375 1.4375 -0.496094 C 0.78125 -1.011719 0.453125 -1.765625 0.453125 -2.75 C 0.453125 -3.328125 0.59375 -3.828125 0.875 -4.25 C 1.15625 -4.671875 1.578125 -4.992188 2.132812 -5.214844 Z M 2.132812 -5.214844 \"/>\n",
       "</symbol>\n",
       "<symbol overflow=\"visible\" id=\"glyph0-14\">\n",
       "<path style=\"stroke:none;\" d=\"M 3.789062 -9.789062 C 5.054688 -9.789062 5.96875 -9.265625 6.535156 -8.222656 C 6.972656 -7.417969 7.191406 -6.3125 7.191406 -4.90625 C 7.191406 -3.578125 6.992188 -2.476562 6.597656 -1.605469 C 6.023438 -0.359375 5.082031 0.265625 3.78125 0.265625 C 2.605469 0.265625 1.730469 -0.242188 1.15625 -1.265625 C 0.675781 -2.117188 0.4375 -3.261719 0.4375 -4.695312 C 0.4375 -5.808594 0.582031 -6.761719 0.867188 -7.5625 C 1.40625 -9.046875 2.378906 -9.789062 3.789062 -9.789062 Z M 3.773438 -0.855469 C 4.410156 -0.855469 4.917969 -1.136719 5.296875 -1.703125 C 5.675781 -2.265625 5.867188 -3.320312 5.867188 -4.859375 C 5.867188 -5.972656 5.726562 -6.886719 5.453125 -7.605469 C 5.179688 -8.324219 4.652344 -8.679688 3.863281 -8.679688 C 3.136719 -8.679688 2.609375 -8.339844 2.273438 -7.660156 C 1.9375 -6.976562 1.769531 -5.976562 1.769531 -4.648438 C 1.769531 -3.648438 1.878906 -2.847656 2.09375 -2.242188 C 2.421875 -1.316406 2.980469 -0.855469 3.773438 -0.855469 Z M 3.773438 -0.855469 \"/>\n",
       "</symbol>\n",
       "</g>\n",
       "</defs>\n",
       "<g id=\"surface503\">\n",
       "<rect x=\"0\" y=\"0\" width=\"600\" height=\"600\" style=\"fill:rgb(100%,100%,100%);fill-opacity:1;stroke:none;\"/>\n",
       "<path style=\"fill:none;stroke-width:1;stroke-linecap:butt;stroke-linejoin:miter;stroke:rgb(26.666667%,26.666667%,26.666667%);stroke-opacity:1;stroke-miterlimit:10;\" d=\"M 104.554688 121.394531 C 104.554688 129.675781 97.839844 136.394531 89.554688 136.394531 C 81.269531 136.394531 74.554688 129.675781 74.554688 121.394531 C 74.554688 113.109375 81.269531 106.394531 89.554688 106.394531 C 97.839844 106.394531 104.554688 113.109375 104.554688 121.394531 \"/>\n",
       "<path style=\"fill:none;stroke-width:1;stroke-linecap:butt;stroke-linejoin:miter;stroke:rgb(26.666667%,26.666667%,26.666667%);stroke-opacity:1;stroke-miterlimit:10;\" d=\"M 576.132812 317.394531 C 576.132812 325.675781 569.417969 332.394531 561.132812 332.394531 C 552.847656 332.394531 546.132812 325.675781 546.132812 317.394531 C 546.132812 309.109375 552.847656 302.394531 561.132812 302.394531 C 569.417969 302.394531 576.132812 309.109375 576.132812 317.394531 \"/>\n",
       "<path style=\"fill:none;stroke-width:1;stroke-linecap:butt;stroke-linejoin:miter;stroke:rgb(26.666667%,26.666667%,26.666667%);stroke-opacity:1;stroke-miterlimit:10;\" d=\"M 428.765625 121.394531 C 428.765625 129.675781 422.046875 136.394531 413.765625 136.394531 C 405.480469 136.394531 398.765625 129.675781 398.765625 121.394531 C 398.765625 113.109375 405.480469 106.394531 413.765625 106.394531 C 422.046875 106.394531 428.765625 113.109375 428.765625 121.394531 \"/>\n",
       "<path style=\"fill:none;stroke-width:1;stroke-linecap:butt;stroke-linejoin:miter;stroke:rgb(26.666667%,26.666667%,26.666667%);stroke-opacity:1;stroke-miterlimit:10;\" d=\"M 251.921875 9.394531 C 251.921875 17.675781 245.207031 24.394531 236.921875 24.394531 C 228.636719 24.394531 221.921875 17.675781 221.921875 9.394531 C 221.921875 1.109375 228.636719 -5.605469 236.921875 -5.605469 C 245.207031 -5.605469 251.921875 1.109375 251.921875 9.394531 \"/>\n",
       "<path style=\"fill:none;stroke-width:1;stroke-linecap:butt;stroke-linejoin:miter;stroke:rgb(26.666667%,26.666667%,26.666667%);stroke-opacity:1;stroke-miterlimit:10;\" d=\"M 369.816406 317.394531 C 369.816406 325.675781 363.101562 332.394531 354.816406 332.394531 C 346.53125 332.394531 339.816406 325.675781 339.816406 317.394531 C 339.816406 309.109375 346.53125 302.394531 354.816406 302.394531 C 363.101562 302.394531 369.816406 309.109375 369.816406 317.394531 \"/>\n",
       "<path style=\"fill:none;stroke-width:1;stroke-linecap:butt;stroke-linejoin:miter;stroke:rgb(26.666667%,26.666667%,26.666667%);stroke-opacity:1;stroke-miterlimit:10;\" d=\"M 108.421875 440 L 432.632812 216 \"/>\n",
       "<path style=\"fill:none;stroke-width:1;stroke-linecap:butt;stroke-linejoin:miter;stroke:rgb(26.666667%,26.666667%,26.666667%);stroke-opacity:1;stroke-miterlimit:10;\" d=\"M 462.105469 76 L 78.949219 412 \"/>\n",
       "<path style=\"fill:none;stroke-width:1;stroke-linecap:butt;stroke-linejoin:miter;stroke:rgb(26.666667%,26.666667%,26.666667%);stroke-opacity:1;stroke-miterlimit:10;\" d=\"M 167.367188 132 L 314.738281 524 \"/>\n",
       "<path style=\"fill:none;stroke-width:1;stroke-linecap:butt;stroke-linejoin:miter;stroke:rgb(26.666667%,26.666667%,26.666667%);stroke-opacity:1;stroke-miterlimit:10;\" d=\"M 137.894531 244 L 344.210938 524 \"/>\n",
       "<path style=\"fill:none;stroke-width:1;stroke-linecap:butt;stroke-linejoin:miter;stroke:rgb(26.666667%,26.666667%,26.666667%);stroke-opacity:1;stroke-miterlimit:10;\" d=\"M 167.367188 552 L 344.210938 412 \"/>\n",
       "<path style=\"fill:none;stroke-width:1;stroke-linecap:butt;stroke-linejoin:miter;stroke:rgb(26.666667%,26.666667%,26.666667%);stroke-opacity:1;stroke-miterlimit:10;\" d=\"M 255.789062 468 L 432.632812 244 \"/>\n",
       "<path style=\"fill:none;stroke-width:1;stroke-linecap:butt;stroke-linejoin:miter;stroke:rgb(26.666667%,26.666667%,26.666667%);stroke-opacity:1;stroke-miterlimit:10;\" d=\"M 344.210938 356 L 344.210938 496 \"/>\n",
       "<path style=\"fill:none;stroke-width:1;stroke-linecap:butt;stroke-linejoin:miter;stroke:rgb(26.666667%,26.666667%,26.666667%);stroke-opacity:1;stroke-miterlimit:10;\" d=\"M 78.949219 216 L 462.105469 356 \"/>\n",
       "<path style=\"fill:none;stroke-width:1;stroke-linecap:butt;stroke-linejoin:miter;stroke:rgb(26.666667%,26.666667%,26.666667%);stroke-opacity:1;stroke-miterlimit:10;\" d=\"M 226.316406 384 L 167.367188 160 \"/>\n",
       "<path style=\"fill:none;stroke-width:1;stroke-linecap:butt;stroke-linejoin:miter;stroke:rgb(26.666667%,26.666667%,26.666667%);stroke-opacity:1;stroke-miterlimit:10;\" d=\"M 403.15625 496 L 285.261719 412 \"/>\n",
       "<path style=\"fill:none;stroke-width:1;stroke-linecap:butt;stroke-linejoin:miter;stroke:rgb(26.666667%,26.666667%,26.666667%);stroke-opacity:1;stroke-miterlimit:10;\" d=\"M 255.789062 552 L 462.105469 300 \"/>\n",
       "<path style=\"fill-rule:nonzero;fill:rgb(100%,0%,0%);fill-opacity:1;stroke-width:1;stroke-linecap:butt;stroke-linejoin:miter;stroke:rgb(0%,0%,0%);stroke-opacity:1;stroke-miterlimit:10;\" d=\"M 413.15625 496 C 413.15625 501.523438 408.679688 506 403.15625 506 C 397.636719 506 393.15625 501.523438 393.15625 496 C 393.15625 490.476562 397.636719 486 403.15625 486 C 408.679688 486 413.15625 490.476562 413.15625 496 \"/>\n",
       "<path style=\"fill-rule:nonzero;fill:rgb(100%,0%,0%);fill-opacity:1;stroke-width:1;stroke-linecap:butt;stroke-linejoin:miter;stroke:rgb(0%,0%,0%);stroke-opacity:1;stroke-miterlimit:10;\" d=\"M 413.15625 132 C 413.15625 137.523438 408.679688 142 403.15625 142 C 397.636719 142 393.15625 137.523438 393.15625 132 C 393.15625 126.476562 397.636719 122 403.15625 122 C 408.679688 122 413.15625 126.476562 413.15625 132 \"/>\n",
       "<path style=\"fill-rule:nonzero;fill:rgb(100%,0%,0%);fill-opacity:1;stroke-width:1;stroke-linecap:butt;stroke-linejoin:miter;stroke:rgb(0%,0%,0%);stroke-opacity:1;stroke-miterlimit:10;\" d=\"M 383.683594 132 C 383.683594 137.523438 379.207031 142 373.683594 142 C 368.160156 142 363.683594 137.523438 363.683594 132 C 363.683594 126.476562 368.160156 122 373.683594 122 C 379.207031 122 383.683594 126.476562 383.683594 132 \"/>\n",
       "<path style=\"fill-rule:nonzero;fill:rgb(100%,0%,0%);fill-opacity:1;stroke-width:1;stroke-linecap:butt;stroke-linejoin:miter;stroke:rgb(0%,0%,0%);stroke-opacity:1;stroke-miterlimit:10;\" d=\"M 354.210938 356 C 354.210938 361.523438 349.734375 366 344.210938 366 C 338.6875 366 334.210938 361.523438 334.210938 356 C 334.210938 350.476562 338.6875 346 344.210938 346 C 349.734375 346 354.210938 350.476562 354.210938 356 \"/>\n",
       "<path style=\"fill-rule:nonzero;fill:rgb(100%,0%,0%);fill-opacity:1;stroke-width:1;stroke-linecap:butt;stroke-linejoin:miter;stroke:rgb(0%,0%,0%);stroke-opacity:1;stroke-miterlimit:10;\" d=\"M 177.367188 272 C 177.367188 277.523438 172.890625 282 167.367188 282 C 161.84375 282 157.367188 277.523438 157.367188 272 C 157.367188 266.476562 161.84375 262 167.367188 262 C 172.890625 262 177.367188 266.476562 177.367188 272 \"/>\n",
       "<path style=\"fill-rule:nonzero;fill:rgb(100%,0%,0%);fill-opacity:1;stroke-width:1;stroke-linecap:butt;stroke-linejoin:miter;stroke:rgb(0%,0%,0%);stroke-opacity:1;stroke-miterlimit:10;\" d=\"M 88.949219 216 C 88.949219 221.523438 84.46875 226 78.949219 226 C 73.425781 226 68.949219 221.523438 68.949219 216 C 68.949219 210.476562 73.425781 206 78.949219 206 C 84.46875 206 88.949219 210.476562 88.949219 216 \"/>\n",
       "<path style=\"fill-rule:nonzero;fill:rgb(100%,0%,0%);fill-opacity:1;stroke-width:1;stroke-linecap:butt;stroke-linejoin:miter;stroke:rgb(0%,0%,0%);stroke-opacity:1;stroke-miterlimit:10;\" d=\"M 147.894531 244 C 147.894531 249.523438 143.417969 254 137.894531 254 C 132.371094 254 127.894531 249.523438 127.894531 244 C 127.894531 238.476562 132.371094 234 137.894531 234 C 143.417969 234 147.894531 238.476562 147.894531 244 \"/>\n",
       "<path style=\"fill-rule:nonzero;fill:rgb(100%,0%,0%);fill-opacity:1;stroke-width:1;stroke-linecap:butt;stroke-linejoin:miter;stroke:rgb(0%,0%,0%);stroke-opacity:1;stroke-miterlimit:10;\" d=\"M 147.894531 160 C 147.894531 165.523438 143.417969 170 137.894531 170 C 132.371094 170 127.894531 165.523438 127.894531 160 C 127.894531 154.476562 132.371094 150 137.894531 150 C 143.417969 150 147.894531 154.476562 147.894531 160 \"/>\n",
       "<path style=\"fill-rule:nonzero;fill:rgb(100%,0%,0%);fill-opacity:1;stroke-width:1;stroke-linecap:butt;stroke-linejoin:miter;stroke:rgb(0%,0%,0%);stroke-opacity:1;stroke-miterlimit:10;\" d=\"M 354.210938 496 C 354.210938 501.523438 349.734375 506 344.210938 506 C 338.6875 506 334.210938 501.523438 334.210938 496 C 334.210938 490.476562 338.6875 486 344.210938 486 C 349.734375 486 354.210938 490.476562 354.210938 496 \"/>\n",
       "<path style=\"fill-rule:nonzero;fill:rgb(100%,0%,0%);fill-opacity:1;stroke-width:1;stroke-linecap:butt;stroke-linejoin:miter;stroke:rgb(0%,0%,0%);stroke-opacity:1;stroke-miterlimit:10;\" d=\"M 236.316406 440 C 236.316406 445.523438 231.839844 450 226.316406 450 C 220.792969 450 216.316406 445.523438 216.316406 440 C 216.316406 434.476562 220.792969 430 226.316406 430 C 231.839844 430 236.316406 434.476562 236.316406 440 \"/>\n",
       "<path style=\"fill-rule:nonzero;fill:rgb(100%,0%,0%);fill-opacity:1;stroke-width:1;stroke-linecap:butt;stroke-linejoin:miter;stroke:rgb(0%,0%,0%);stroke-opacity:1;stroke-miterlimit:10;\" d=\"M 295.261719 384 C 295.261719 389.523438 290.785156 394 285.261719 394 C 279.742188 394 275.261719 389.523438 275.261719 384 C 275.261719 378.476562 279.742188 374 285.261719 374 C 290.785156 374 295.261719 378.476562 295.261719 384 \"/>\n",
       "<path style=\"fill-rule:nonzero;fill:rgb(100%,0%,0%);fill-opacity:1;stroke-width:1;stroke-linecap:butt;stroke-linejoin:miter;stroke:rgb(0%,0%,0%);stroke-opacity:1;stroke-miterlimit:10;\" d=\"M 265.789062 468 C 265.789062 473.523438 261.3125 478 255.789062 478 C 250.265625 478 245.789062 473.523438 245.789062 468 C 245.789062 462.476562 250.265625 458 255.789062 458 C 261.3125 458 265.789062 462.476562 265.789062 468 \"/>\n",
       "<path style=\"fill-rule:nonzero;fill:rgb(100%,0%,0%);fill-opacity:1;stroke-width:1;stroke-linecap:butt;stroke-linejoin:miter;stroke:rgb(0%,0%,0%);stroke-opacity:1;stroke-miterlimit:10;\" d=\"M 354.210938 328 C 354.210938 333.523438 349.734375 338 344.210938 338 C 338.6875 338 334.210938 333.523438 334.210938 328 C 334.210938 322.476562 338.6875 318 344.210938 318 C 349.734375 318 354.210938 322.476562 354.210938 328 \"/>\n",
       "<path style=\"fill-rule:nonzero;fill:rgb(100%,0%,0%);fill-opacity:1;stroke-width:1;stroke-linecap:butt;stroke-linejoin:miter;stroke:rgb(0%,0%,0%);stroke-opacity:1;stroke-miterlimit:10;\" d=\"M 88.949219 356 C 88.949219 361.523438 84.46875 366 78.949219 366 C 73.425781 366 68.949219 361.523438 68.949219 356 C 68.949219 350.476562 73.425781 346 78.949219 346 C 84.46875 346 88.949219 350.476562 88.949219 356 \"/>\n",
       "<path style=\"fill-rule:nonzero;fill:rgb(100%,0%,0%);fill-opacity:1;stroke-width:1;stroke-linecap:butt;stroke-linejoin:miter;stroke:rgb(0%,0%,0%);stroke-opacity:1;stroke-miterlimit:10;\" d=\"M 118.421875 440 C 118.421875 445.523438 113.945312 450 108.421875 450 C 102.898438 450 98.421875 445.523438 98.421875 440 C 98.421875 434.476562 102.898438 430 108.421875 430 C 113.945312 430 118.421875 434.476562 118.421875 440 \"/>\n",
       "<path style=\"fill-rule:nonzero;fill:rgb(100%,0%,0%);fill-opacity:1;stroke-width:1;stroke-linecap:butt;stroke-linejoin:miter;stroke:rgb(0%,0%,0%);stroke-opacity:1;stroke-miterlimit:10;\" d=\"M 265.789062 272 C 265.789062 277.523438 261.3125 282 255.789062 282 C 250.265625 282 245.789062 277.523438 245.789062 272 C 245.789062 266.476562 250.265625 262 255.789062 262 C 261.3125 262 265.789062 266.476562 265.789062 272 \"/>\n",
       "<path style=\"fill-rule:nonzero;fill:rgb(100%,0%,0%);fill-opacity:1;stroke-width:1;stroke-linecap:butt;stroke-linejoin:miter;stroke:rgb(0%,0%,0%);stroke-opacity:1;stroke-miterlimit:10;\" d=\"M 295.261719 412 C 295.261719 417.523438 290.785156 422 285.261719 422 C 279.742188 422 275.261719 417.523438 275.261719 412 C 275.261719 406.476562 279.742188 402 285.261719 402 C 290.785156 402 295.261719 406.476562 295.261719 412 \"/>\n",
       "<path style=\"fill-rule:nonzero;fill:rgb(100%,0%,0%);fill-opacity:1;stroke-width:1;stroke-linecap:butt;stroke-linejoin:miter;stroke:rgb(0%,0%,0%);stroke-opacity:1;stroke-miterlimit:10;\" d=\"M 265.789062 552 C 265.789062 557.523438 261.3125 562 255.789062 562 C 250.265625 562 245.789062 557.523438 245.789062 552 C 245.789062 546.476562 250.265625 542 255.789062 542 C 261.3125 542 265.789062 546.476562 265.789062 552 \"/>\n",
       "<path style=\"fill-rule:nonzero;fill:rgb(100%,0%,0%);fill-opacity:1;stroke-width:1;stroke-linecap:butt;stroke-linejoin:miter;stroke:rgb(0%,0%,0%);stroke-opacity:1;stroke-miterlimit:10;\" d=\"M 354.210938 244 C 354.210938 249.523438 349.734375 254 344.210938 254 C 338.6875 254 334.210938 249.523438 334.210938 244 C 334.210938 238.476562 338.6875 234 344.210938 234 C 349.734375 234 354.210938 238.476562 354.210938 244 \"/>\n",
       "<path style=\"fill-rule:nonzero;fill:rgb(100%,0%,0%);fill-opacity:1;stroke-width:1;stroke-linecap:butt;stroke-linejoin:miter;stroke:rgb(0%,0%,0%);stroke-opacity:1;stroke-miterlimit:10;\" d=\"M 30 440 C 30 445.523438 25.523438 450 20 450 C 14.476562 450 10 445.523438 10 440 C 10 434.476562 14.476562 430 20 430 C 25.523438 430 30 434.476562 30 440 \"/>\n",
       "<path style=\"fill-rule:nonzero;fill:rgb(100%,0%,0%);fill-opacity:1;stroke-width:1;stroke-linecap:butt;stroke-linejoin:miter;stroke:rgb(0%,0%,0%);stroke-opacity:1;stroke-miterlimit:10;\" d=\"M 236.316406 272 C 236.316406 277.523438 231.839844 282 226.316406 282 C 220.792969 282 216.316406 277.523438 216.316406 272 C 216.316406 266.476562 220.792969 262 226.316406 262 C 231.839844 262 236.316406 266.476562 236.316406 272 \"/>\n",
       "<path style=\"fill-rule:nonzero;fill:rgb(100%,0%,0%);fill-opacity:1;stroke-width:1;stroke-linecap:butt;stroke-linejoin:miter;stroke:rgb(0%,0%,0%);stroke-opacity:1;stroke-miterlimit:10;\" d=\"M 118.421875 356 C 118.421875 361.523438 113.945312 366 108.421875 366 C 102.898438 366 98.421875 361.523438 98.421875 356 C 98.421875 350.476562 102.898438 346 108.421875 346 C 113.945312 346 118.421875 350.476562 118.421875 356 \"/>\n",
       "<path style=\"fill-rule:nonzero;fill:rgb(100%,0%,0%);fill-opacity:1;stroke-width:1;stroke-linecap:butt;stroke-linejoin:miter;stroke:rgb(0%,0%,0%);stroke-opacity:1;stroke-miterlimit:10;\" d=\"M 88.949219 496 C 88.949219 501.523438 84.46875 506 78.949219 506 C 73.425781 506 68.949219 501.523438 68.949219 496 C 68.949219 490.476562 73.425781 486 78.949219 486 C 84.46875 486 88.949219 490.476562 88.949219 496 \"/>\n",
       "<path style=\"fill-rule:nonzero;fill:rgb(100%,0%,0%);fill-opacity:1;stroke-width:1;stroke-linecap:butt;stroke-linejoin:miter;stroke:rgb(0%,0%,0%);stroke-opacity:1;stroke-miterlimit:10;\" d=\"M 472.105469 216 C 472.105469 221.523438 467.628906 226 462.105469 226 C 456.582031 226 452.105469 221.523438 452.105469 216 C 452.105469 210.476562 456.582031 206 462.105469 206 C 467.628906 206 472.105469 210.476562 472.105469 216 \"/>\n",
       "<path style=\"fill-rule:nonzero;fill:rgb(100%,0%,0%);fill-opacity:1;stroke-width:1;stroke-linecap:butt;stroke-linejoin:miter;stroke:rgb(0%,0%,0%);stroke-opacity:1;stroke-miterlimit:10;\" d=\"M 472.105469 300 C 472.105469 305.523438 467.628906 310 462.105469 310 C 456.582031 310 452.105469 305.523438 452.105469 300 C 452.105469 294.476562 456.582031 290 462.105469 290 C 467.628906 290 472.105469 294.476562 472.105469 300 \"/>\n",
       "<path style=\"fill-rule:nonzero;fill:rgb(100%,0%,0%);fill-opacity:1;stroke-width:1;stroke-linecap:butt;stroke-linejoin:miter;stroke:rgb(0%,0%,0%);stroke-opacity:1;stroke-miterlimit:10;\" d=\"M 413.15625 160 C 413.15625 165.523438 408.679688 170 403.15625 170 C 397.636719 170 393.15625 165.523438 393.15625 160 C 393.15625 154.476562 397.636719 150 403.15625 150 C 408.679688 150 413.15625 154.476562 413.15625 160 \"/>\n",
       "<path style=\"fill-rule:nonzero;fill:rgb(100%,0%,0%);fill-opacity:1;stroke-width:1;stroke-linecap:butt;stroke-linejoin:miter;stroke:rgb(0%,0%,0%);stroke-opacity:1;stroke-miterlimit:10;\" d=\"M 560.527344 328 C 560.527344 333.523438 556.050781 338 550.527344 338 C 545.003906 338 540.527344 333.523438 540.527344 328 C 540.527344 322.476562 545.003906 318 550.527344 318 C 556.050781 318 560.527344 322.476562 560.527344 328 \"/>\n",
       "<path style=\"fill-rule:nonzero;fill:rgb(100%,0%,0%);fill-opacity:1;stroke-width:1;stroke-linecap:butt;stroke-linejoin:miter;stroke:rgb(0%,0%,0%);stroke-opacity:1;stroke-miterlimit:10;\" d=\"M 531.050781 468 C 531.050781 473.523438 526.574219 478 521.050781 478 C 515.53125 478 511.050781 473.523438 511.050781 468 C 511.050781 462.476562 515.53125 458 521.050781 458 C 526.574219 458 531.050781 462.476562 531.050781 468 \"/>\n",
       "<path style=\"fill-rule:nonzero;fill:rgb(100%,0%,0%);fill-opacity:1;stroke-width:1;stroke-linecap:butt;stroke-linejoin:miter;stroke:rgb(0%,0%,0%);stroke-opacity:1;stroke-miterlimit:10;\" d=\"M 30 300 C 30 305.523438 25.523438 310 20 310 C 14.476562 310 10 305.523438 10 300 C 10 294.476562 14.476562 290 20 290 C 25.523438 290 30 294.476562 30 300 \"/>\n",
       "<path style=\"fill-rule:nonzero;fill:rgb(100%,0%,0%);fill-opacity:1;stroke-width:1;stroke-linecap:butt;stroke-linejoin:miter;stroke:rgb(0%,0%,0%);stroke-opacity:1;stroke-miterlimit:10;\" d=\"M 177.367188 132 C 177.367188 137.523438 172.890625 142 167.367188 142 C 161.84375 142 157.367188 137.523438 157.367188 132 C 157.367188 126.476562 161.84375 122 167.367188 122 C 172.890625 122 177.367188 126.476562 177.367188 132 \"/>\n",
       "<path style=\"fill-rule:nonzero;fill:rgb(100%,0%,0%);fill-opacity:1;stroke-width:1;stroke-linecap:butt;stroke-linejoin:miter;stroke:rgb(0%,0%,0%);stroke-opacity:1;stroke-miterlimit:10;\" d=\"M 354.210938 524 C 354.210938 529.523438 349.734375 534 344.210938 534 C 338.6875 534 334.210938 529.523438 334.210938 524 C 334.210938 518.476562 338.6875 514 344.210938 514 C 349.734375 514 354.210938 518.476562 354.210938 524 \"/>\n",
       "<path style=\"fill-rule:nonzero;fill:rgb(100%,0%,0%);fill-opacity:1;stroke-width:1;stroke-linecap:butt;stroke-linejoin:miter;stroke:rgb(0%,0%,0%);stroke-opacity:1;stroke-miterlimit:10;\" d=\"M 442.632812 216 C 442.632812 221.523438 438.15625 226 432.632812 226 C 427.109375 226 422.632812 221.523438 422.632812 216 C 422.632812 210.476562 427.109375 206 432.632812 206 C 438.15625 206 442.632812 210.476562 442.632812 216 \"/>\n",
       "<path style=\"fill-rule:nonzero;fill:rgb(100%,0%,0%);fill-opacity:1;stroke-width:1;stroke-linecap:butt;stroke-linejoin:miter;stroke:rgb(0%,0%,0%);stroke-opacity:1;stroke-miterlimit:10;\" d=\"M 147.894531 300 C 147.894531 305.523438 143.417969 310 137.894531 310 C 132.371094 310 127.894531 305.523438 127.894531 300 C 127.894531 294.476562 132.371094 290 137.894531 290 C 143.417969 290 147.894531 294.476562 147.894531 300 \"/>\n",
       "<path style=\"fill-rule:nonzero;fill:rgb(100%,0%,0%);fill-opacity:1;stroke-width:1;stroke-linecap:butt;stroke-linejoin:miter;stroke:rgb(0%,0%,0%);stroke-opacity:1;stroke-miterlimit:10;\" d=\"M 118.421875 496 C 118.421875 501.523438 113.945312 506 108.421875 506 C 102.898438 506 98.421875 501.523438 98.421875 496 C 98.421875 490.476562 102.898438 486 108.421875 486 C 113.945312 486 118.421875 490.476562 118.421875 496 \"/>\n",
       "<path style=\"fill-rule:nonzero;fill:rgb(100%,0%,0%);fill-opacity:1;stroke-width:1;stroke-linecap:butt;stroke-linejoin:miter;stroke:rgb(0%,0%,0%);stroke-opacity:1;stroke-miterlimit:10;\" d=\"M 413.15625 356 C 413.15625 361.523438 408.679688 366 403.15625 366 C 397.636719 366 393.15625 361.523438 393.15625 356 C 393.15625 350.476562 397.636719 346 403.15625 346 C 408.679688 346 413.15625 350.476562 413.15625 356 \"/>\n",
       "<path style=\"fill-rule:nonzero;fill:rgb(100%,0%,0%);fill-opacity:1;stroke-width:1;stroke-linecap:butt;stroke-linejoin:miter;stroke:rgb(0%,0%,0%);stroke-opacity:1;stroke-miterlimit:10;\" d=\"M 324.738281 580 C 324.738281 585.523438 320.257812 590 314.738281 590 C 309.214844 590 304.738281 585.523438 304.738281 580 C 304.738281 574.476562 309.214844 570 314.738281 570 C 320.257812 570 324.738281 574.476562 324.738281 580 \"/>\n",
       "<path style=\"fill-rule:nonzero;fill:rgb(100%,0%,0%);fill-opacity:1;stroke-width:1;stroke-linecap:butt;stroke-linejoin:miter;stroke:rgb(0%,0%,0%);stroke-opacity:1;stroke-miterlimit:10;\" d=\"M 560.527344 48 C 560.527344 53.523438 556.050781 58 550.527344 58 C 545.003906 58 540.527344 53.523438 540.527344 48 C 540.527344 42.476562 545.003906 38 550.527344 38 C 556.050781 38 560.527344 42.476562 560.527344 48 \"/>\n",
       "<path style=\"fill-rule:nonzero;fill:rgb(100%,0%,0%);fill-opacity:1;stroke-width:1;stroke-linecap:butt;stroke-linejoin:miter;stroke:rgb(0%,0%,0%);stroke-opacity:1;stroke-miterlimit:10;\" d=\"M 560.527344 244 C 560.527344 249.523438 556.050781 254 550.527344 254 C 545.003906 254 540.527344 249.523438 540.527344 244 C 540.527344 238.476562 545.003906 234 550.527344 234 C 556.050781 234 560.527344 238.476562 560.527344 244 \"/>\n",
       "<path style=\"fill-rule:nonzero;fill:rgb(100%,0%,0%);fill-opacity:1;stroke-width:1;stroke-linecap:butt;stroke-linejoin:miter;stroke:rgb(0%,0%,0%);stroke-opacity:1;stroke-miterlimit:10;\" d=\"M 236.316406 384 C 236.316406 389.523438 231.839844 394 226.316406 394 C 220.792969 394 216.316406 389.523438 216.316406 384 C 216.316406 378.476562 220.792969 374 226.316406 374 C 231.839844 374 236.316406 378.476562 236.316406 384 \"/>\n",
       "<path style=\"fill-rule:nonzero;fill:rgb(100%,0%,0%);fill-opacity:1;stroke-width:1;stroke-linecap:butt;stroke-linejoin:miter;stroke:rgb(0%,0%,0%);stroke-opacity:1;stroke-miterlimit:10;\" d=\"M 236.316406 20 C 236.316406 25.523438 231.839844 30 226.316406 30 C 220.792969 30 216.316406 25.523438 216.316406 20 C 216.316406 14.476562 220.792969 10 226.316406 10 C 231.839844 10 236.316406 14.476562 236.316406 20 \"/>\n",
       "<path style=\"fill-rule:nonzero;fill:rgb(100%,0%,0%);fill-opacity:1;stroke-width:1;stroke-linecap:butt;stroke-linejoin:miter;stroke:rgb(0%,0%,0%);stroke-opacity:1;stroke-miterlimit:10;\" d=\"M 531.050781 48 C 531.050781 53.523438 526.574219 58 521.050781 58 C 515.53125 58 511.050781 53.523438 511.050781 48 C 511.050781 42.476562 515.53125 38 521.050781 38 C 526.574219 38 531.050781 42.476562 531.050781 48 \"/>\n",
       "<path style=\"fill-rule:nonzero;fill:rgb(100%,0%,0%);fill-opacity:1;stroke-width:1;stroke-linecap:butt;stroke-linejoin:miter;stroke:rgb(0%,0%,0%);stroke-opacity:1;stroke-miterlimit:10;\" d=\"M 59.472656 552 C 59.472656 557.523438 54.996094 562 49.472656 562 C 43.949219 562 39.472656 557.523438 39.472656 552 C 39.472656 546.476562 43.949219 542 49.472656 542 C 54.996094 542 59.472656 546.476562 59.472656 552 \"/>\n",
       "<path style=\"fill-rule:nonzero;fill:rgb(100%,0%,0%);fill-opacity:1;stroke-width:1;stroke-linecap:butt;stroke-linejoin:miter;stroke:rgb(0%,0%,0%);stroke-opacity:1;stroke-miterlimit:10;\" d=\"M 206.84375 552 C 206.84375 557.523438 202.363281 562 196.84375 562 C 191.320312 562 186.84375 557.523438 186.84375 552 C 186.84375 546.476562 191.320312 542 196.84375 542 C 202.363281 542 206.84375 546.476562 206.84375 552 \"/>\n",
       "<path style=\"fill-rule:nonzero;fill:rgb(100%,0%,0%);fill-opacity:1;stroke-width:1;stroke-linecap:butt;stroke-linejoin:miter;stroke:rgb(0%,0%,0%);stroke-opacity:1;stroke-miterlimit:10;\" d=\"M 118.421875 384 C 118.421875 389.523438 113.945312 394 108.421875 394 C 102.898438 394 98.421875 389.523438 98.421875 384 C 98.421875 378.476562 102.898438 374 108.421875 374 C 113.945312 374 118.421875 378.476562 118.421875 384 \"/>\n",
       "<path style=\"fill-rule:nonzero;fill:rgb(100%,0%,0%);fill-opacity:1;stroke-width:1;stroke-linecap:butt;stroke-linejoin:miter;stroke:rgb(0%,0%,0%);stroke-opacity:1;stroke-miterlimit:10;\" d=\"M 472.105469 356 C 472.105469 361.523438 467.628906 366 462.105469 366 C 456.582031 366 452.105469 361.523438 452.105469 356 C 452.105469 350.476562 456.582031 346 462.105469 346 C 467.628906 346 472.105469 350.476562 472.105469 356 \"/>\n",
       "<path style=\"fill-rule:nonzero;fill:rgb(100%,0%,0%);fill-opacity:1;stroke-width:1;stroke-linecap:butt;stroke-linejoin:miter;stroke:rgb(0%,0%,0%);stroke-opacity:1;stroke-miterlimit:10;\" d=\"M 177.367188 440 C 177.367188 445.523438 172.890625 450 167.367188 450 C 161.84375 450 157.367188 445.523438 157.367188 440 C 157.367188 434.476562 161.84375 430 167.367188 430 C 172.890625 430 177.367188 434.476562 177.367188 440 \"/>\n",
       "<path style=\"fill-rule:nonzero;fill:rgb(100%,0%,0%);fill-opacity:1;stroke-width:1;stroke-linecap:butt;stroke-linejoin:miter;stroke:rgb(0%,0%,0%);stroke-opacity:1;stroke-miterlimit:10;\" d=\"M 324.738281 384 C 324.738281 389.523438 320.257812 394 314.738281 394 C 309.214844 394 304.738281 389.523438 304.738281 384 C 304.738281 378.476562 309.214844 374 314.738281 374 C 320.257812 374 324.738281 378.476562 324.738281 384 \"/>\n",
       "<path style=\"fill-rule:nonzero;fill:rgb(100%,0%,0%);fill-opacity:1;stroke-width:1;stroke-linecap:butt;stroke-linejoin:miter;stroke:rgb(0%,0%,0%);stroke-opacity:1;stroke-miterlimit:10;\" d=\"M 177.367188 552 C 177.367188 557.523438 172.890625 562 167.367188 562 C 161.84375 562 157.367188 557.523438 157.367188 552 C 157.367188 546.476562 161.84375 542 167.367188 542 C 172.890625 542 177.367188 546.476562 177.367188 552 \"/>\n",
       "<path style=\"fill-rule:nonzero;fill:rgb(100%,0%,0%);fill-opacity:1;stroke-width:1;stroke-linecap:butt;stroke-linejoin:miter;stroke:rgb(0%,0%,0%);stroke-opacity:1;stroke-miterlimit:10;\" d=\"M 206.84375 412 C 206.84375 417.523438 202.363281 422 196.84375 422 C 191.320312 422 186.84375 417.523438 186.84375 412 C 186.84375 406.476562 191.320312 402 196.84375 402 C 202.363281 402 206.84375 406.476562 206.84375 412 \"/>\n",
       "<path style=\"fill-rule:nonzero;fill:rgb(100%,0%,0%);fill-opacity:1;stroke-width:1;stroke-linecap:butt;stroke-linejoin:miter;stroke:rgb(0%,0%,0%);stroke-opacity:1;stroke-miterlimit:10;\" d=\"M 354.210938 412 C 354.210938 417.523438 349.734375 422 344.210938 422 C 338.6875 422 334.210938 417.523438 334.210938 412 C 334.210938 406.476562 338.6875 402 344.210938 402 C 349.734375 402 354.210938 406.476562 354.210938 412 \"/>\n",
       "<path style=\"fill-rule:nonzero;fill:rgb(100%,0%,0%);fill-opacity:1;stroke-width:1;stroke-linecap:butt;stroke-linejoin:miter;stroke:rgb(0%,0%,0%);stroke-opacity:1;stroke-miterlimit:10;\" d=\"M 472.105469 76 C 472.105469 81.523438 467.628906 86 462.105469 86 C 456.582031 86 452.105469 81.523438 452.105469 76 C 452.105469 70.476562 456.582031 66 462.105469 66 C 467.628906 66 472.105469 70.476562 472.105469 76 \"/>\n",
       "<path style=\"fill-rule:nonzero;fill:rgb(100%,0%,0%);fill-opacity:1;stroke-width:1;stroke-linecap:butt;stroke-linejoin:miter;stroke:rgb(0%,0%,0%);stroke-opacity:1;stroke-miterlimit:10;\" d=\"M 177.367188 160 C 177.367188 165.523438 172.890625 170 167.367188 170 C 161.84375 170 157.367188 165.523438 157.367188 160 C 157.367188 154.476562 161.84375 150 167.367188 150 C 172.890625 150 177.367188 154.476562 177.367188 160 \"/>\n",
       "<path style=\"fill-rule:nonzero;fill:rgb(100%,0%,0%);fill-opacity:1;stroke-width:1;stroke-linecap:butt;stroke-linejoin:miter;stroke:rgb(0%,0%,0%);stroke-opacity:1;stroke-miterlimit:10;\" d=\"M 147.894531 104 C 147.894531 109.523438 143.417969 114 137.894531 114 C 132.371094 114 127.894531 109.523438 127.894531 104 C 127.894531 98.476562 132.371094 94 137.894531 94 C 143.417969 94 147.894531 98.476562 147.894531 104 \"/>\n",
       "<path style=\"fill-rule:nonzero;fill:rgb(100%,0%,0%);fill-opacity:1;stroke-width:1;stroke-linecap:butt;stroke-linejoin:miter;stroke:rgb(0%,0%,0%);stroke-opacity:1;stroke-miterlimit:10;\" d=\"M 295.261719 160 C 295.261719 165.523438 290.785156 170 285.261719 170 C 279.742188 170 275.261719 165.523438 275.261719 160 C 275.261719 154.476562 279.742188 150 285.261719 150 C 290.785156 150 295.261719 154.476562 295.261719 160 \"/>\n",
       "<path style=\"fill-rule:nonzero;fill:rgb(100%,0%,0%);fill-opacity:1;stroke-width:1;stroke-linecap:butt;stroke-linejoin:miter;stroke:rgb(0%,0%,0%);stroke-opacity:1;stroke-miterlimit:10;\" d=\"M 236.316406 468 C 236.316406 473.523438 231.839844 478 226.316406 478 C 220.792969 478 216.316406 473.523438 216.316406 468 C 216.316406 462.476562 220.792969 458 226.316406 458 C 231.839844 458 236.316406 462.476562 236.316406 468 \"/>\n",
       "<path style=\"fill-rule:nonzero;fill:rgb(100%,0%,0%);fill-opacity:1;stroke-width:1;stroke-linecap:butt;stroke-linejoin:miter;stroke:rgb(0%,0%,0%);stroke-opacity:1;stroke-miterlimit:10;\" d=\"M 324.738281 244 C 324.738281 249.523438 320.257812 254 314.738281 254 C 309.214844 254 304.738281 249.523438 304.738281 244 C 304.738281 238.476562 309.214844 234 314.738281 234 C 320.257812 234 324.738281 238.476562 324.738281 244 \"/>\n",
       "<path style=\"fill-rule:nonzero;fill:rgb(100%,0%,0%);fill-opacity:1;stroke-width:1;stroke-linecap:butt;stroke-linejoin:miter;stroke:rgb(0%,0%,0%);stroke-opacity:1;stroke-miterlimit:10;\" d=\"M 472.105469 244 C 472.105469 249.523438 467.628906 254 462.105469 254 C 456.582031 254 452.105469 249.523438 452.105469 244 C 452.105469 238.476562 456.582031 234 462.105469 234 C 467.628906 234 472.105469 238.476562 472.105469 244 \"/>\n",
       "<path style=\"fill-rule:nonzero;fill:rgb(100%,0%,0%);fill-opacity:1;stroke-width:1;stroke-linecap:butt;stroke-linejoin:miter;stroke:rgb(0%,0%,0%);stroke-opacity:1;stroke-miterlimit:10;\" d=\"M 560.527344 160 C 560.527344 165.523438 556.050781 170 550.527344 170 C 545.003906 170 540.527344 165.523438 540.527344 160 C 540.527344 154.476562 545.003906 150 550.527344 150 C 556.050781 150 560.527344 154.476562 560.527344 160 \"/>\n",
       "<path style=\"fill-rule:nonzero;fill:rgb(100%,0%,0%);fill-opacity:1;stroke-width:1;stroke-linecap:butt;stroke-linejoin:miter;stroke:rgb(0%,0%,0%);stroke-opacity:1;stroke-miterlimit:10;\" d=\"M 30 524 C 30 529.523438 25.523438 534 20 534 C 14.476562 534 10 529.523438 10 524 C 10 518.476562 14.476562 514 20 514 C 25.523438 514 30 518.476562 30 524 \"/>\n",
       "<path style=\"fill-rule:nonzero;fill:rgb(100%,0%,0%);fill-opacity:1;stroke-width:1;stroke-linecap:butt;stroke-linejoin:miter;stroke:rgb(0%,0%,0%);stroke-opacity:1;stroke-miterlimit:10;\" d=\"M 442.632812 188 C 442.632812 193.523438 438.15625 198 432.632812 198 C 427.109375 198 422.632812 193.523438 422.632812 188 C 422.632812 182.476562 427.109375 178 432.632812 178 C 438.15625 178 442.632812 182.476562 442.632812 188 \"/>\n",
       "<path style=\"fill-rule:nonzero;fill:rgb(100%,0%,0%);fill-opacity:1;stroke-width:1;stroke-linecap:butt;stroke-linejoin:miter;stroke:rgb(0%,0%,0%);stroke-opacity:1;stroke-miterlimit:10;\" d=\"M 30 216 C 30 221.523438 25.523438 226 20 226 C 14.476562 226 10 221.523438 10 216 C 10 210.476562 14.476562 206 20 206 C 25.523438 206 30 210.476562 30 216 \"/>\n",
       "<path style=\"fill-rule:nonzero;fill:rgb(100%,0%,0%);fill-opacity:1;stroke-width:1;stroke-linecap:butt;stroke-linejoin:miter;stroke:rgb(0%,0%,0%);stroke-opacity:1;stroke-miterlimit:10;\" d=\"M 88.949219 132 C 88.949219 137.523438 84.46875 142 78.949219 142 C 73.425781 142 68.949219 137.523438 68.949219 132 C 68.949219 126.476562 73.425781 122 78.949219 122 C 84.46875 122 88.949219 126.476562 88.949219 132 \"/>\n",
       "<path style=\"fill-rule:nonzero;fill:rgb(100%,0%,0%);fill-opacity:1;stroke-width:1;stroke-linecap:butt;stroke-linejoin:miter;stroke:rgb(0%,0%,0%);stroke-opacity:1;stroke-miterlimit:10;\" d=\"M 118.421875 216 C 118.421875 221.523438 113.945312 226 108.421875 226 C 102.898438 226 98.421875 221.523438 98.421875 216 C 98.421875 210.476562 102.898438 206 108.421875 206 C 113.945312 206 118.421875 210.476562 118.421875 216 \"/>\n",
       "<path style=\"fill-rule:nonzero;fill:rgb(100%,0%,0%);fill-opacity:1;stroke-width:1;stroke-linecap:butt;stroke-linejoin:miter;stroke:rgb(0%,0%,0%);stroke-opacity:1;stroke-miterlimit:10;\" d=\"M 501.578125 160 C 501.578125 165.523438 497.101562 170 491.578125 170 C 486.054688 170 481.578125 165.523438 481.578125 160 C 481.578125 154.476562 486.054688 150 491.578125 150 C 497.101562 150 501.578125 154.476562 501.578125 160 \"/>\n",
       "<path style=\"fill-rule:nonzero;fill:rgb(100%,0%,0%);fill-opacity:1;stroke-width:1;stroke-linecap:butt;stroke-linejoin:miter;stroke:rgb(0%,0%,0%);stroke-opacity:1;stroke-miterlimit:10;\" d=\"M 118.421875 524 C 118.421875 529.523438 113.945312 534 108.421875 534 C 102.898438 534 98.421875 529.523438 98.421875 524 C 98.421875 518.476562 102.898438 514 108.421875 514 C 113.945312 514 118.421875 518.476562 118.421875 524 \"/>\n",
       "<path style=\"fill-rule:nonzero;fill:rgb(100%,0%,0%);fill-opacity:1;stroke-width:1;stroke-linecap:butt;stroke-linejoin:miter;stroke:rgb(0%,0%,0%);stroke-opacity:1;stroke-miterlimit:10;\" d=\"M 324.738281 76 C 324.738281 81.523438 320.257812 86 314.738281 86 C 309.214844 86 304.738281 81.523438 304.738281 76 C 304.738281 70.476562 309.214844 66 314.738281 66 C 320.257812 66 324.738281 70.476562 324.738281 76 \"/>\n",
       "<path style=\"fill-rule:nonzero;fill:rgb(100%,0%,0%);fill-opacity:1;stroke-width:1;stroke-linecap:butt;stroke-linejoin:miter;stroke:rgb(0%,0%,0%);stroke-opacity:1;stroke-miterlimit:10;\" d=\"M 501.578125 104 C 501.578125 109.523438 497.101562 114 491.578125 114 C 486.054688 114 481.578125 109.523438 481.578125 104 C 481.578125 98.476562 486.054688 94 491.578125 94 C 497.101562 94 501.578125 98.476562 501.578125 104 \"/>\n",
       "<path style=\"fill-rule:nonzero;fill:rgb(100%,0%,0%);fill-opacity:1;stroke-width:1;stroke-linecap:butt;stroke-linejoin:miter;stroke:rgb(0%,0%,0%);stroke-opacity:1;stroke-miterlimit:10;\" d=\"M 442.632812 244 C 442.632812 249.523438 438.15625 254 432.632812 254 C 427.109375 254 422.632812 249.523438 422.632812 244 C 422.632812 238.476562 427.109375 234 432.632812 234 C 438.15625 234 442.632812 238.476562 442.632812 244 \"/>\n",
       "<path style=\"fill-rule:nonzero;fill:rgb(100%,0%,0%);fill-opacity:1;stroke-width:1;stroke-linecap:butt;stroke-linejoin:miter;stroke:rgb(0%,0%,0%);stroke-opacity:1;stroke-miterlimit:10;\" d=\"M 383.683594 244 C 383.683594 249.523438 379.207031 254 373.683594 254 C 368.160156 254 363.683594 249.523438 363.683594 244 C 363.683594 238.476562 368.160156 234 373.683594 234 C 379.207031 234 383.683594 238.476562 383.683594 244 \"/>\n",
       "<path style=\"fill-rule:nonzero;fill:rgb(100%,0%,0%);fill-opacity:1;stroke-width:1;stroke-linecap:butt;stroke-linejoin:miter;stroke:rgb(0%,0%,0%);stroke-opacity:1;stroke-miterlimit:10;\" d=\"M 88.949219 412 C 88.949219 417.523438 84.46875 422 78.949219 422 C 73.425781 422 68.949219 417.523438 68.949219 412 C 68.949219 406.476562 73.425781 402 78.949219 402 C 84.46875 402 88.949219 406.476562 88.949219 412 \"/>\n",
       "<path style=\"fill-rule:nonzero;fill:rgb(100%,0%,0%);fill-opacity:1;stroke-width:1;stroke-linecap:butt;stroke-linejoin:miter;stroke:rgb(0%,0%,0%);stroke-opacity:1;stroke-miterlimit:10;\" d=\"M 442.632812 524 C 442.632812 529.523438 438.15625 534 432.632812 534 C 427.109375 534 422.632812 529.523438 422.632812 524 C 422.632812 518.476562 427.109375 514 432.632812 514 C 438.15625 514 442.632812 518.476562 442.632812 524 \"/>\n",
       "<path style=\"fill-rule:nonzero;fill:rgb(100%,0%,0%);fill-opacity:1;stroke-width:1;stroke-linecap:butt;stroke-linejoin:miter;stroke:rgb(0%,0%,0%);stroke-opacity:1;stroke-miterlimit:10;\" d=\"M 324.738281 524 C 324.738281 529.523438 320.257812 534 314.738281 534 C 309.214844 534 304.738281 529.523438 304.738281 524 C 304.738281 518.476562 309.214844 514 314.738281 514 C 320.257812 514 324.738281 518.476562 324.738281 524 \"/>\n",
       "<path style=\"fill-rule:nonzero;fill:rgb(100%,0%,0%);fill-opacity:1;stroke-width:1;stroke-linecap:butt;stroke-linejoin:miter;stroke:rgb(0%,0%,0%);stroke-opacity:1;stroke-miterlimit:10;\" d=\"M 590 384 C 590 389.523438 585.523438 394 580 394 C 574.476562 394 570 389.523438 570 384 C 570 378.476562 574.476562 374 580 374 C 585.523438 374 590 378.476562 590 384 \"/>\n",
       "<path style=\"fill-rule:nonzero;fill:rgb(100%,0%,0%);fill-opacity:1;stroke-width:1;stroke-linecap:butt;stroke-linejoin:miter;stroke:rgb(0%,0%,0%);stroke-opacity:1;stroke-miterlimit:10;\" d=\"M 265.789062 300 C 265.789062 305.523438 261.3125 310 255.789062 310 C 250.265625 310 245.789062 305.523438 245.789062 300 C 245.789062 294.476562 250.265625 290 255.789062 290 C 261.3125 290 265.789062 294.476562 265.789062 300 \"/>\n",
       "<path style=\"fill-rule:nonzero;fill:rgb(100%,0%,0%);fill-opacity:1;stroke-width:1;stroke-linecap:butt;stroke-linejoin:miter;stroke:rgb(0%,0%,0%);stroke-opacity:1;stroke-miterlimit:10;\" d=\"M 236.316406 496 C 236.316406 501.523438 231.839844 506 226.316406 506 C 220.792969 506 216.316406 501.523438 216.316406 496 C 216.316406 490.476562 220.792969 486 226.316406 486 C 231.839844 486 236.316406 490.476562 236.316406 496 \"/>\n",
       "<path style=\"fill-rule:nonzero;fill:rgb(100%,0%,0%);fill-opacity:1;stroke-width:1;stroke-linecap:butt;stroke-linejoin:miter;stroke:rgb(0%,0%,0%);stroke-opacity:1;stroke-miterlimit:10;\" d=\"M 206.84375 440 C 206.84375 445.523438 202.363281 450 196.84375 450 C 191.320312 450 186.84375 445.523438 186.84375 440 C 186.84375 434.476562 191.320312 430 196.84375 430 C 202.363281 430 206.84375 434.476562 206.84375 440 \"/>\n",
       "<path style=\"fill-rule:nonzero;fill:rgb(100%,0%,0%);fill-opacity:1;stroke-width:1;stroke-linecap:butt;stroke-linejoin:miter;stroke:rgb(0%,0%,0%);stroke-opacity:1;stroke-miterlimit:10;\" d=\"M 413.15625 328 C 413.15625 333.523438 408.679688 338 403.15625 338 C 397.636719 338 393.15625 333.523438 393.15625 328 C 393.15625 322.476562 397.636719 318 403.15625 318 C 408.679688 318 413.15625 322.476562 413.15625 328 \"/>\n",
       "<path style=\"fill-rule:nonzero;fill:rgb(100%,0%,0%);fill-opacity:1;stroke-width:1;stroke-linecap:butt;stroke-linejoin:miter;stroke:rgb(0%,0%,0%);stroke-opacity:1;stroke-miterlimit:10;\" d=\"M 324.738281 496 C 324.738281 501.523438 320.257812 506 314.738281 506 C 309.214844 506 304.738281 501.523438 304.738281 496 C 304.738281 490.476562 309.214844 486 314.738281 486 C 320.257812 486 324.738281 490.476562 324.738281 496 \"/>\n",
       "<path style=\"fill-rule:nonzero;fill:rgb(100%,0%,0%);fill-opacity:1;stroke-width:1;stroke-linecap:butt;stroke-linejoin:miter;stroke:rgb(0%,0%,0%);stroke-opacity:1;stroke-miterlimit:10;\" d=\"M 118.421875 104 C 118.421875 109.523438 113.945312 114 108.421875 114 C 102.898438 114 98.421875 109.523438 98.421875 104 C 98.421875 98.476562 102.898438 94 108.421875 94 C 113.945312 94 118.421875 98.476562 118.421875 104 \"/>\n",
       "<path style=\"fill-rule:nonzero;fill:rgb(100%,0%,0%);fill-opacity:1;stroke-width:1;stroke-linecap:butt;stroke-linejoin:miter;stroke:rgb(0%,0%,0%);stroke-opacity:1;stroke-miterlimit:10;\" d=\"M 59.472656 440 C 59.472656 445.523438 54.996094 450 49.472656 450 C 43.949219 450 39.472656 445.523438 39.472656 440 C 39.472656 434.476562 43.949219 430 49.472656 430 C 54.996094 430 59.472656 434.476562 59.472656 440 \"/>\n",
       "<g style=\"fill:rgb(0%,0%,0%);fill-opacity:1;\">\n",
       "  <use xlink:href=\"#glyph0-1\" x=\"379.050781\" y=\"502.710938\"/>\n",
       "  <use xlink:href=\"#glyph0-2\" x=\"383.712891\" y=\"502.710938\"/>\n",
       "  <use xlink:href=\"#glyph0-3\" x=\"391.499023\" y=\"502.710938\"/>\n",
       "  <use xlink:href=\"#glyph0-4\" x=\"399.285156\" y=\"502.710938\"/>\n",
       "  <use xlink:href=\"#glyph0-5\" x=\"403.174805\" y=\"502.710938\"/>\n",
       "  <use xlink:href=\"#glyph0-2\" x=\"407.064453\" y=\"502.710938\"/>\n",
       "  <use xlink:href=\"#glyph0-6\" x=\"414.850586\" y=\"502.710938\"/>\n",
       "  <use xlink:href=\"#glyph0-7\" x=\"422.636719\" y=\"502.710938\"/>\n",
       "</g>\n",
       "<g style=\"fill:rgb(0%,0%,0%);fill-opacity:1;\">\n",
       "  <use xlink:href=\"#glyph0-1\" x=\"382.945312\" y=\"138.710938\"/>\n",
       "  <use xlink:href=\"#glyph0-2\" x=\"387.607422\" y=\"138.710938\"/>\n",
       "  <use xlink:href=\"#glyph0-3\" x=\"395.393555\" y=\"138.710938\"/>\n",
       "  <use xlink:href=\"#glyph0-4\" x=\"403.179688\" y=\"138.710938\"/>\n",
       "  <use xlink:href=\"#glyph0-5\" x=\"407.069336\" y=\"138.710938\"/>\n",
       "  <use xlink:href=\"#glyph0-3\" x=\"410.958984\" y=\"138.710938\"/>\n",
       "  <use xlink:href=\"#glyph0-7\" x=\"418.745117\" y=\"138.710938\"/>\n",
       "</g>\n",
       "<g style=\"fill:rgb(0%,0%,0%);fill-opacity:1;\">\n",
       "  <use xlink:href=\"#glyph0-1\" x=\"353.46875\" y=\"138.710938\"/>\n",
       "  <use xlink:href=\"#glyph0-2\" x=\"358.130859\" y=\"138.710938\"/>\n",
       "  <use xlink:href=\"#glyph0-8\" x=\"365.916992\" y=\"138.710938\"/>\n",
       "  <use xlink:href=\"#glyph0-4\" x=\"373.703125\" y=\"138.710938\"/>\n",
       "  <use xlink:href=\"#glyph0-5\" x=\"377.592773\" y=\"138.710938\"/>\n",
       "  <use xlink:href=\"#glyph0-3\" x=\"381.482422\" y=\"138.710938\"/>\n",
       "  <use xlink:href=\"#glyph0-7\" x=\"389.268555\" y=\"138.710938\"/>\n",
       "</g>\n",
       "<g style=\"fill:rgb(0%,0%,0%);fill-opacity:1;\">\n",
       "  <use xlink:href=\"#glyph0-1\" x=\"320.105469\" y=\"362.710938\"/>\n",
       "  <use xlink:href=\"#glyph0-2\" x=\"324.767578\" y=\"362.710938\"/>\n",
       "  <use xlink:href=\"#glyph0-9\" x=\"332.553711\" y=\"362.710938\"/>\n",
       "  <use xlink:href=\"#glyph0-4\" x=\"340.339844\" y=\"362.710938\"/>\n",
       "  <use xlink:href=\"#glyph0-5\" x=\"344.229492\" y=\"362.710938\"/>\n",
       "  <use xlink:href=\"#glyph0-2\" x=\"348.119141\" y=\"362.710938\"/>\n",
       "  <use xlink:href=\"#glyph0-9\" x=\"355.905273\" y=\"362.710938\"/>\n",
       "  <use xlink:href=\"#glyph0-7\" x=\"363.691406\" y=\"362.710938\"/>\n",
       "</g>\n",
       "<g style=\"fill:rgb(0%,0%,0%);fill-opacity:1;\">\n",
       "  <use xlink:href=\"#glyph0-1\" x=\"151.046875\" y=\"278.710938\"/>\n",
       "  <use xlink:href=\"#glyph0-10\" x=\"155.708984\" y=\"278.710938\"/>\n",
       "  <use xlink:href=\"#glyph0-4\" x=\"163.495117\" y=\"278.710938\"/>\n",
       "  <use xlink:href=\"#glyph0-5\" x=\"167.384766\" y=\"278.710938\"/>\n",
       "  <use xlink:href=\"#glyph0-11\" x=\"171.274414\" y=\"278.710938\"/>\n",
       "  <use xlink:href=\"#glyph0-7\" x=\"179.060547\" y=\"278.710938\"/>\n",
       "</g>\n",
       "<g style=\"fill:rgb(0%,0%,0%);fill-opacity:1;\">\n",
       "  <use xlink:href=\"#glyph0-1\" x=\"62.625\" y=\"222.710938\"/>\n",
       "  <use xlink:href=\"#glyph0-8\" x=\"67.287109\" y=\"222.710938\"/>\n",
       "  <use xlink:href=\"#glyph0-4\" x=\"75.073242\" y=\"222.710938\"/>\n",
       "  <use xlink:href=\"#glyph0-5\" x=\"78.962891\" y=\"222.710938\"/>\n",
       "  <use xlink:href=\"#glyph0-6\" x=\"82.852539\" y=\"222.710938\"/>\n",
       "  <use xlink:href=\"#glyph0-7\" x=\"90.638672\" y=\"222.710938\"/>\n",
       "</g>\n",
       "<g style=\"fill:rgb(0%,0%,0%);fill-opacity:1;\">\n",
       "  <use xlink:href=\"#glyph0-1\" x=\"121.574219\" y=\"250.710938\"/>\n",
       "  <use xlink:href=\"#glyph0-12\" x=\"126.236328\" y=\"250.710938\"/>\n",
       "  <use xlink:href=\"#glyph0-4\" x=\"134.022461\" y=\"250.710938\"/>\n",
       "  <use xlink:href=\"#glyph0-5\" x=\"137.912109\" y=\"250.710938\"/>\n",
       "  <use xlink:href=\"#glyph0-13\" x=\"141.801758\" y=\"250.710938\"/>\n",
       "  <use xlink:href=\"#glyph0-7\" x=\"149.587891\" y=\"250.710938\"/>\n",
       "</g>\n",
       "<g style=\"fill:rgb(0%,0%,0%);fill-opacity:1;\">\n",
       "  <use xlink:href=\"#glyph0-1\" x=\"121.574219\" y=\"166.710938\"/>\n",
       "  <use xlink:href=\"#glyph0-12\" x=\"126.236328\" y=\"166.710938\"/>\n",
       "  <use xlink:href=\"#glyph0-4\" x=\"134.022461\" y=\"166.710938\"/>\n",
       "  <use xlink:href=\"#glyph0-5\" x=\"137.912109\" y=\"166.710938\"/>\n",
       "  <use xlink:href=\"#glyph0-12\" x=\"141.801758\" y=\"166.710938\"/>\n",
       "  <use xlink:href=\"#glyph0-7\" x=\"149.587891\" y=\"166.710938\"/>\n",
       "</g>\n",
       "<g style=\"fill:rgb(0%,0%,0%);fill-opacity:1;\">\n",
       "  <use xlink:href=\"#glyph0-1\" x=\"320.105469\" y=\"502.710938\"/>\n",
       "  <use xlink:href=\"#glyph0-2\" x=\"324.767578\" y=\"502.710938\"/>\n",
       "  <use xlink:href=\"#glyph0-9\" x=\"332.553711\" y=\"502.710938\"/>\n",
       "  <use xlink:href=\"#glyph0-4\" x=\"340.339844\" y=\"502.710938\"/>\n",
       "  <use xlink:href=\"#glyph0-5\" x=\"344.229492\" y=\"502.710938\"/>\n",
       "  <use xlink:href=\"#glyph0-2\" x=\"348.119141\" y=\"502.710938\"/>\n",
       "  <use xlink:href=\"#glyph0-6\" x=\"355.905273\" y=\"502.710938\"/>\n",
       "  <use xlink:href=\"#glyph0-7\" x=\"363.691406\" y=\"502.710938\"/>\n",
       "</g>\n",
       "<g style=\"fill:rgb(0%,0%,0%);fill-opacity:1;\">\n",
       "  <use xlink:href=\"#glyph0-1\" x=\"206.101562\" y=\"446.710938\"/>\n",
       "  <use xlink:href=\"#glyph0-13\" x=\"210.763672\" y=\"446.710938\"/>\n",
       "  <use xlink:href=\"#glyph0-4\" x=\"218.549805\" y=\"446.710938\"/>\n",
       "  <use xlink:href=\"#glyph0-5\" x=\"222.439453\" y=\"446.710938\"/>\n",
       "  <use xlink:href=\"#glyph0-2\" x=\"226.329102\" y=\"446.710938\"/>\n",
       "  <use xlink:href=\"#glyph0-12\" x=\"234.115234\" y=\"446.710938\"/>\n",
       "  <use xlink:href=\"#glyph0-7\" x=\"241.901367\" y=\"446.710938\"/>\n",
       "</g>\n",
       "<g style=\"fill:rgb(0%,0%,0%);fill-opacity:1;\">\n",
       "  <use xlink:href=\"#glyph0-1\" x=\"261.15625\" y=\"390.710938\"/>\n",
       "  <use xlink:href=\"#glyph0-2\" x=\"265.818359\" y=\"390.710938\"/>\n",
       "  <use xlink:href=\"#glyph0-14\" x=\"273.604492\" y=\"390.710938\"/>\n",
       "  <use xlink:href=\"#glyph0-4\" x=\"281.390625\" y=\"390.710938\"/>\n",
       "  <use xlink:href=\"#glyph0-5\" x=\"285.280273\" y=\"390.710938\"/>\n",
       "  <use xlink:href=\"#glyph0-2\" x=\"289.169922\" y=\"390.710938\"/>\n",
       "  <use xlink:href=\"#glyph0-8\" x=\"296.956055\" y=\"390.710938\"/>\n",
       "  <use xlink:href=\"#glyph0-7\" x=\"304.742188\" y=\"390.710938\"/>\n",
       "</g>\n",
       "<g style=\"fill:rgb(0%,0%,0%);fill-opacity:1;\">\n",
       "  <use xlink:href=\"#glyph0-1\" x=\"235.574219\" y=\"474.710938\"/>\n",
       "  <use xlink:href=\"#glyph0-11\" x=\"240.236328\" y=\"474.710938\"/>\n",
       "  <use xlink:href=\"#glyph0-4\" x=\"248.022461\" y=\"474.710938\"/>\n",
       "  <use xlink:href=\"#glyph0-5\" x=\"251.912109\" y=\"474.710938\"/>\n",
       "  <use xlink:href=\"#glyph0-2\" x=\"255.801758\" y=\"474.710938\"/>\n",
       "  <use xlink:href=\"#glyph0-10\" x=\"263.587891\" y=\"474.710938\"/>\n",
       "  <use xlink:href=\"#glyph0-7\" x=\"271.374023\" y=\"474.710938\"/>\n",
       "</g>\n",
       "<g style=\"fill:rgb(0%,0%,0%);fill-opacity:1;\">\n",
       "  <use xlink:href=\"#glyph0-1\" x=\"320.105469\" y=\"334.710938\"/>\n",
       "  <use xlink:href=\"#glyph0-2\" x=\"324.767578\" y=\"334.710938\"/>\n",
       "  <use xlink:href=\"#glyph0-9\" x=\"332.553711\" y=\"334.710938\"/>\n",
       "  <use xlink:href=\"#glyph0-4\" x=\"340.339844\" y=\"334.710938\"/>\n",
       "  <use xlink:href=\"#glyph0-5\" x=\"344.229492\" y=\"334.710938\"/>\n",
       "  <use xlink:href=\"#glyph0-2\" x=\"348.119141\" y=\"334.710938\"/>\n",
       "  <use xlink:href=\"#glyph0-2\" x=\"355.905273\" y=\"334.710938\"/>\n",
       "  <use xlink:href=\"#glyph0-7\" x=\"363.691406\" y=\"334.710938\"/>\n",
       "</g>\n",
       "<g style=\"fill:rgb(0%,0%,0%);fill-opacity:1;\">\n",
       "  <use xlink:href=\"#glyph0-1\" x=\"58.734375\" y=\"362.710938\"/>\n",
       "  <use xlink:href=\"#glyph0-8\" x=\"63.396484\" y=\"362.710938\"/>\n",
       "  <use xlink:href=\"#glyph0-4\" x=\"71.182617\" y=\"362.710938\"/>\n",
       "  <use xlink:href=\"#glyph0-5\" x=\"75.072266\" y=\"362.710938\"/>\n",
       "  <use xlink:href=\"#glyph0-2\" x=\"78.961914\" y=\"362.710938\"/>\n",
       "  <use xlink:href=\"#glyph0-9\" x=\"86.748047\" y=\"362.710938\"/>\n",
       "  <use xlink:href=\"#glyph0-7\" x=\"94.53418\" y=\"362.710938\"/>\n",
       "</g>\n",
       "<g style=\"fill:rgb(0%,0%,0%);fill-opacity:1;\">\n",
       "  <use xlink:href=\"#glyph0-1\" x=\"88.207031\" y=\"446.710938\"/>\n",
       "  <use xlink:href=\"#glyph0-3\" x=\"92.869141\" y=\"446.710938\"/>\n",
       "  <use xlink:href=\"#glyph0-4\" x=\"100.655273\" y=\"446.710938\"/>\n",
       "  <use xlink:href=\"#glyph0-5\" x=\"104.544922\" y=\"446.710938\"/>\n",
       "  <use xlink:href=\"#glyph0-2\" x=\"108.43457\" y=\"446.710938\"/>\n",
       "  <use xlink:href=\"#glyph0-12\" x=\"116.220703\" y=\"446.710938\"/>\n",
       "  <use xlink:href=\"#glyph0-7\" x=\"124.006836\" y=\"446.710938\"/>\n",
       "</g>\n",
       "<g style=\"fill:rgb(0%,0%,0%);fill-opacity:1;\">\n",
       "  <use xlink:href=\"#glyph0-1\" x=\"239.46875\" y=\"278.710938\"/>\n",
       "  <use xlink:href=\"#glyph0-11\" x=\"244.130859\" y=\"278.710938\"/>\n",
       "  <use xlink:href=\"#glyph0-4\" x=\"251.916992\" y=\"278.710938\"/>\n",
       "  <use xlink:href=\"#glyph0-5\" x=\"255.806641\" y=\"278.710938\"/>\n",
       "  <use xlink:href=\"#glyph0-11\" x=\"259.696289\" y=\"278.710938\"/>\n",
       "  <use xlink:href=\"#glyph0-7\" x=\"267.482422\" y=\"278.710938\"/>\n",
       "</g>\n",
       "<g style=\"fill:rgb(0%,0%,0%);fill-opacity:1;\">\n",
       "  <use xlink:href=\"#glyph0-1\" x=\"261.15625\" y=\"418.710938\"/>\n",
       "  <use xlink:href=\"#glyph0-2\" x=\"265.818359\" y=\"418.710938\"/>\n",
       "  <use xlink:href=\"#glyph0-14\" x=\"273.604492\" y=\"418.710938\"/>\n",
       "  <use xlink:href=\"#glyph0-4\" x=\"281.390625\" y=\"418.710938\"/>\n",
       "  <use xlink:href=\"#glyph0-5\" x=\"285.280273\" y=\"418.710938\"/>\n",
       "  <use xlink:href=\"#glyph0-2\" x=\"289.169922\" y=\"418.710938\"/>\n",
       "  <use xlink:href=\"#glyph0-3\" x=\"296.956055\" y=\"418.710938\"/>\n",
       "  <use xlink:href=\"#glyph0-7\" x=\"304.742188\" y=\"418.710938\"/>\n",
       "</g>\n",
       "<g style=\"fill:rgb(0%,0%,0%);fill-opacity:1;\">\n",
       "  <use xlink:href=\"#glyph0-1\" x=\"235.574219\" y=\"558.710938\"/>\n",
       "  <use xlink:href=\"#glyph0-11\" x=\"240.236328\" y=\"558.710938\"/>\n",
       "  <use xlink:href=\"#glyph0-4\" x=\"248.022461\" y=\"558.710938\"/>\n",
       "  <use xlink:href=\"#glyph0-5\" x=\"251.912109\" y=\"558.710938\"/>\n",
       "  <use xlink:href=\"#glyph0-2\" x=\"255.801758\" y=\"558.710938\"/>\n",
       "  <use xlink:href=\"#glyph0-11\" x=\"263.587891\" y=\"558.710938\"/>\n",
       "  <use xlink:href=\"#glyph0-7\" x=\"271.374023\" y=\"558.710938\"/>\n",
       "</g>\n",
       "<g style=\"fill:rgb(0%,0%,0%);fill-opacity:1;\">\n",
       "  <use xlink:href=\"#glyph0-1\" x=\"323.996094\" y=\"250.710938\"/>\n",
       "  <use xlink:href=\"#glyph0-2\" x=\"328.658203\" y=\"250.710938\"/>\n",
       "  <use xlink:href=\"#glyph0-9\" x=\"336.444336\" y=\"250.710938\"/>\n",
       "  <use xlink:href=\"#glyph0-4\" x=\"344.230469\" y=\"250.710938\"/>\n",
       "  <use xlink:href=\"#glyph0-5\" x=\"348.120117\" y=\"250.710938\"/>\n",
       "  <use xlink:href=\"#glyph0-13\" x=\"352.009766\" y=\"250.710938\"/>\n",
       "  <use xlink:href=\"#glyph0-7\" x=\"359.795898\" y=\"250.710938\"/>\n",
       "</g>\n",
       "<g style=\"fill:rgb(0%,0%,0%);fill-opacity:1;\">\n",
       "  <use xlink:href=\"#glyph0-1\" x=\"-0.214844\" y=\"446.710938\"/>\n",
       "  <use xlink:href=\"#glyph0-2\" x=\"4.447266\" y=\"446.710938\"/>\n",
       "  <use xlink:href=\"#glyph0-4\" x=\"12.233398\" y=\"446.710938\"/>\n",
       "  <use xlink:href=\"#glyph0-5\" x=\"16.123047\" y=\"446.710938\"/>\n",
       "  <use xlink:href=\"#glyph0-2\" x=\"20.012695\" y=\"446.710938\"/>\n",
       "  <use xlink:href=\"#glyph0-12\" x=\"27.798828\" y=\"446.710938\"/>\n",
       "  <use xlink:href=\"#glyph0-7\" x=\"35.584961\" y=\"446.710938\"/>\n",
       "</g>\n",
       "<g style=\"fill:rgb(0%,0%,0%);fill-opacity:1;\">\n",
       "  <use xlink:href=\"#glyph0-1\" x=\"209.996094\" y=\"278.710938\"/>\n",
       "  <use xlink:href=\"#glyph0-13\" x=\"214.658203\" y=\"278.710938\"/>\n",
       "  <use xlink:href=\"#glyph0-4\" x=\"222.444336\" y=\"278.710938\"/>\n",
       "  <use xlink:href=\"#glyph0-5\" x=\"226.333984\" y=\"278.710938\"/>\n",
       "  <use xlink:href=\"#glyph0-11\" x=\"230.223633\" y=\"278.710938\"/>\n",
       "  <use xlink:href=\"#glyph0-7\" x=\"238.009766\" y=\"278.710938\"/>\n",
       "</g>\n",
       "<g style=\"fill:rgb(0%,0%,0%);fill-opacity:1;\">\n",
       "  <use xlink:href=\"#glyph0-1\" x=\"88.207031\" y=\"362.710938\"/>\n",
       "  <use xlink:href=\"#glyph0-3\" x=\"92.869141\" y=\"362.710938\"/>\n",
       "  <use xlink:href=\"#glyph0-4\" x=\"100.655273\" y=\"362.710938\"/>\n",
       "  <use xlink:href=\"#glyph0-5\" x=\"104.544922\" y=\"362.710938\"/>\n",
       "  <use xlink:href=\"#glyph0-2\" x=\"108.43457\" y=\"362.710938\"/>\n",
       "  <use xlink:href=\"#glyph0-9\" x=\"116.220703\" y=\"362.710938\"/>\n",
       "  <use xlink:href=\"#glyph0-7\" x=\"124.006836\" y=\"362.710938\"/>\n",
       "</g>\n",
       "<g style=\"fill:rgb(0%,0%,0%);fill-opacity:1;\">\n",
       "  <use xlink:href=\"#glyph0-1\" x=\"58.734375\" y=\"502.710938\"/>\n",
       "  <use xlink:href=\"#glyph0-8\" x=\"63.396484\" y=\"502.710938\"/>\n",
       "  <use xlink:href=\"#glyph0-4\" x=\"71.182617\" y=\"502.710938\"/>\n",
       "  <use xlink:href=\"#glyph0-5\" x=\"75.072266\" y=\"502.710938\"/>\n",
       "  <use xlink:href=\"#glyph0-2\" x=\"78.961914\" y=\"502.710938\"/>\n",
       "  <use xlink:href=\"#glyph0-6\" x=\"86.748047\" y=\"502.710938\"/>\n",
       "  <use xlink:href=\"#glyph0-7\" x=\"94.53418\" y=\"502.710938\"/>\n",
       "</g>\n",
       "<g style=\"fill:rgb(0%,0%,0%);fill-opacity:1;\">\n",
       "  <use xlink:href=\"#glyph0-1\" x=\"441.890625\" y=\"222.710938\"/>\n",
       "  <use xlink:href=\"#glyph0-2\" x=\"446.552734\" y=\"222.710938\"/>\n",
       "  <use xlink:href=\"#glyph0-10\" x=\"454.338867\" y=\"222.710938\"/>\n",
       "  <use xlink:href=\"#glyph0-4\" x=\"462.125\" y=\"222.710938\"/>\n",
       "  <use xlink:href=\"#glyph0-5\" x=\"466.014648\" y=\"222.710938\"/>\n",
       "  <use xlink:href=\"#glyph0-6\" x=\"469.904297\" y=\"222.710938\"/>\n",
       "  <use xlink:href=\"#glyph0-7\" x=\"477.69043\" y=\"222.710938\"/>\n",
       "</g>\n",
       "<g style=\"fill:rgb(0%,0%,0%);fill-opacity:1;\">\n",
       "  <use xlink:href=\"#glyph0-1\" x=\"438\" y=\"306.710938\"/>\n",
       "  <use xlink:href=\"#glyph0-2\" x=\"442.662109\" y=\"306.710938\"/>\n",
       "  <use xlink:href=\"#glyph0-10\" x=\"450.448242\" y=\"306.710938\"/>\n",
       "  <use xlink:href=\"#glyph0-4\" x=\"458.234375\" y=\"306.710938\"/>\n",
       "  <use xlink:href=\"#glyph0-5\" x=\"462.124023\" y=\"306.710938\"/>\n",
       "  <use xlink:href=\"#glyph0-2\" x=\"466.013672\" y=\"306.710938\"/>\n",
       "  <use xlink:href=\"#glyph0-14\" x=\"473.799805\" y=\"306.710938\"/>\n",
       "  <use xlink:href=\"#glyph0-7\" x=\"481.585938\" y=\"306.710938\"/>\n",
       "</g>\n",
       "<g style=\"fill:rgb(0%,0%,0%);fill-opacity:1;\">\n",
       "  <use xlink:href=\"#glyph0-1\" x=\"382.945312\" y=\"166.710938\"/>\n",
       "  <use xlink:href=\"#glyph0-2\" x=\"387.607422\" y=\"166.710938\"/>\n",
       "  <use xlink:href=\"#glyph0-3\" x=\"395.393555\" y=\"166.710938\"/>\n",
       "  <use xlink:href=\"#glyph0-4\" x=\"403.179688\" y=\"166.710938\"/>\n",
       "  <use xlink:href=\"#glyph0-5\" x=\"407.069336\" y=\"166.710938\"/>\n",
       "  <use xlink:href=\"#glyph0-12\" x=\"410.958984\" y=\"166.710938\"/>\n",
       "  <use xlink:href=\"#glyph0-7\" x=\"418.745117\" y=\"166.710938\"/>\n",
       "</g>\n",
       "<g style=\"fill:rgb(0%,0%,0%);fill-opacity:1;\">\n",
       "  <use xlink:href=\"#glyph0-1\" x=\"526.417969\" y=\"334.710938\"/>\n",
       "  <use xlink:href=\"#glyph0-2\" x=\"531.080078\" y=\"334.710938\"/>\n",
       "  <use xlink:href=\"#glyph0-11\" x=\"538.866211\" y=\"334.710938\"/>\n",
       "  <use xlink:href=\"#glyph0-4\" x=\"546.652344\" y=\"334.710938\"/>\n",
       "  <use xlink:href=\"#glyph0-5\" x=\"550.541992\" y=\"334.710938\"/>\n",
       "  <use xlink:href=\"#glyph0-2\" x=\"554.431641\" y=\"334.710938\"/>\n",
       "  <use xlink:href=\"#glyph0-2\" x=\"562.217773\" y=\"334.710938\"/>\n",
       "  <use xlink:href=\"#glyph0-7\" x=\"570.003906\" y=\"334.710938\"/>\n",
       "</g>\n",
       "<g style=\"fill:rgb(0%,0%,0%);fill-opacity:1;\">\n",
       "  <use xlink:href=\"#glyph0-1\" x=\"496.945312\" y=\"474.710938\"/>\n",
       "  <use xlink:href=\"#glyph0-2\" x=\"501.607422\" y=\"474.710938\"/>\n",
       "  <use xlink:href=\"#glyph0-13\" x=\"509.393555\" y=\"474.710938\"/>\n",
       "  <use xlink:href=\"#glyph0-4\" x=\"517.179688\" y=\"474.710938\"/>\n",
       "  <use xlink:href=\"#glyph0-5\" x=\"521.069336\" y=\"474.710938\"/>\n",
       "  <use xlink:href=\"#glyph0-2\" x=\"524.958984\" y=\"474.710938\"/>\n",
       "  <use xlink:href=\"#glyph0-10\" x=\"532.745117\" y=\"474.710938\"/>\n",
       "  <use xlink:href=\"#glyph0-7\" x=\"540.53125\" y=\"474.710938\"/>\n",
       "</g>\n",
       "<g style=\"fill:rgb(0%,0%,0%);fill-opacity:1;\">\n",
       "  <use xlink:href=\"#glyph0-1\" x=\"-0.214844\" y=\"306.710938\"/>\n",
       "  <use xlink:href=\"#glyph0-2\" x=\"4.447266\" y=\"306.710938\"/>\n",
       "  <use xlink:href=\"#glyph0-4\" x=\"12.233398\" y=\"306.710938\"/>\n",
       "  <use xlink:href=\"#glyph0-5\" x=\"16.123047\" y=\"306.710938\"/>\n",
       "  <use xlink:href=\"#glyph0-2\" x=\"20.012695\" y=\"306.710938\"/>\n",
       "  <use xlink:href=\"#glyph0-14\" x=\"27.798828\" y=\"306.710938\"/>\n",
       "  <use xlink:href=\"#glyph0-7\" x=\"35.584961\" y=\"306.710938\"/>\n",
       "</g>\n",
       "<g style=\"fill:rgb(0%,0%,0%);fill-opacity:1;\">\n",
       "  <use xlink:href=\"#glyph0-1\" x=\"151.046875\" y=\"138.710938\"/>\n",
       "  <use xlink:href=\"#glyph0-10\" x=\"155.708984\" y=\"138.710938\"/>\n",
       "  <use xlink:href=\"#glyph0-4\" x=\"163.495117\" y=\"138.710938\"/>\n",
       "  <use xlink:href=\"#glyph0-5\" x=\"167.384766\" y=\"138.710938\"/>\n",
       "  <use xlink:href=\"#glyph0-3\" x=\"171.274414\" y=\"138.710938\"/>\n",
       "  <use xlink:href=\"#glyph0-7\" x=\"179.060547\" y=\"138.710938\"/>\n",
       "</g>\n",
       "<g style=\"fill:rgb(0%,0%,0%);fill-opacity:1;\">\n",
       "  <use xlink:href=\"#glyph0-1\" x=\"320.105469\" y=\"530.710938\"/>\n",
       "  <use xlink:href=\"#glyph0-2\" x=\"324.767578\" y=\"530.710938\"/>\n",
       "  <use xlink:href=\"#glyph0-9\" x=\"332.553711\" y=\"530.710938\"/>\n",
       "  <use xlink:href=\"#glyph0-4\" x=\"340.339844\" y=\"530.710938\"/>\n",
       "  <use xlink:href=\"#glyph0-5\" x=\"344.229492\" y=\"530.710938\"/>\n",
       "  <use xlink:href=\"#glyph0-2\" x=\"348.119141\" y=\"530.710938\"/>\n",
       "  <use xlink:href=\"#glyph0-13\" x=\"355.905273\" y=\"530.710938\"/>\n",
       "  <use xlink:href=\"#glyph0-7\" x=\"363.691406\" y=\"530.710938\"/>\n",
       "</g>\n",
       "<g style=\"fill:rgb(0%,0%,0%);fill-opacity:1;\">\n",
       "  <use xlink:href=\"#glyph0-1\" x=\"412.417969\" y=\"222.710938\"/>\n",
       "  <use xlink:href=\"#glyph0-2\" x=\"417.080078\" y=\"222.710938\"/>\n",
       "  <use xlink:href=\"#glyph0-12\" x=\"424.866211\" y=\"222.710938\"/>\n",
       "  <use xlink:href=\"#glyph0-4\" x=\"432.652344\" y=\"222.710938\"/>\n",
       "  <use xlink:href=\"#glyph0-5\" x=\"436.541992\" y=\"222.710938\"/>\n",
       "  <use xlink:href=\"#glyph0-6\" x=\"440.431641\" y=\"222.710938\"/>\n",
       "  <use xlink:href=\"#glyph0-7\" x=\"448.217773\" y=\"222.710938\"/>\n",
       "</g>\n",
       "<g style=\"fill:rgb(0%,0%,0%);fill-opacity:1;\">\n",
       "  <use xlink:href=\"#glyph0-1\" x=\"117.679688\" y=\"306.710938\"/>\n",
       "  <use xlink:href=\"#glyph0-12\" x=\"122.341797\" y=\"306.710938\"/>\n",
       "  <use xlink:href=\"#glyph0-4\" x=\"130.12793\" y=\"306.710938\"/>\n",
       "  <use xlink:href=\"#glyph0-5\" x=\"134.017578\" y=\"306.710938\"/>\n",
       "  <use xlink:href=\"#glyph0-2\" x=\"137.907227\" y=\"306.710938\"/>\n",
       "  <use xlink:href=\"#glyph0-14\" x=\"145.693359\" y=\"306.710938\"/>\n",
       "  <use xlink:href=\"#glyph0-7\" x=\"153.479492\" y=\"306.710938\"/>\n",
       "</g>\n",
       "<g style=\"fill:rgb(0%,0%,0%);fill-opacity:1;\">\n",
       "  <use xlink:href=\"#glyph0-1\" x=\"88.207031\" y=\"502.710938\"/>\n",
       "  <use xlink:href=\"#glyph0-3\" x=\"92.869141\" y=\"502.710938\"/>\n",
       "  <use xlink:href=\"#glyph0-4\" x=\"100.655273\" y=\"502.710938\"/>\n",
       "  <use xlink:href=\"#glyph0-5\" x=\"104.544922\" y=\"502.710938\"/>\n",
       "  <use xlink:href=\"#glyph0-2\" x=\"108.43457\" y=\"502.710938\"/>\n",
       "  <use xlink:href=\"#glyph0-6\" x=\"116.220703\" y=\"502.710938\"/>\n",
       "  <use xlink:href=\"#glyph0-7\" x=\"124.006836\" y=\"502.710938\"/>\n",
       "</g>\n",
       "<g style=\"fill:rgb(0%,0%,0%);fill-opacity:1;\">\n",
       "  <use xlink:href=\"#glyph0-1\" x=\"379.050781\" y=\"362.710938\"/>\n",
       "  <use xlink:href=\"#glyph0-2\" x=\"383.712891\" y=\"362.710938\"/>\n",
       "  <use xlink:href=\"#glyph0-3\" x=\"391.499023\" y=\"362.710938\"/>\n",
       "  <use xlink:href=\"#glyph0-4\" x=\"399.285156\" y=\"362.710938\"/>\n",
       "  <use xlink:href=\"#glyph0-5\" x=\"403.174805\" y=\"362.710938\"/>\n",
       "  <use xlink:href=\"#glyph0-2\" x=\"407.064453\" y=\"362.710938\"/>\n",
       "  <use xlink:href=\"#glyph0-9\" x=\"414.850586\" y=\"362.710938\"/>\n",
       "  <use xlink:href=\"#glyph0-7\" x=\"422.636719\" y=\"362.710938\"/>\n",
       "</g>\n",
       "<g style=\"fill:rgb(0%,0%,0%);fill-opacity:1;\">\n",
       "  <use xlink:href=\"#glyph0-1\" x=\"290.628906\" y=\"586.710938\"/>\n",
       "  <use xlink:href=\"#glyph0-2\" x=\"295.291016\" y=\"586.710938\"/>\n",
       "  <use xlink:href=\"#glyph0-2\" x=\"303.077148\" y=\"586.710938\"/>\n",
       "  <use xlink:href=\"#glyph0-4\" x=\"310.863281\" y=\"586.710938\"/>\n",
       "  <use xlink:href=\"#glyph0-5\" x=\"314.75293\" y=\"586.710938\"/>\n",
       "  <use xlink:href=\"#glyph0-9\" x=\"318.642578\" y=\"586.710938\"/>\n",
       "  <use xlink:href=\"#glyph0-14\" x=\"326.428711\" y=\"586.710938\"/>\n",
       "  <use xlink:href=\"#glyph0-7\" x=\"334.214844\" y=\"586.710938\"/>\n",
       "</g>\n",
       "<g style=\"fill:rgb(0%,0%,0%);fill-opacity:1;\">\n",
       "  <use xlink:href=\"#glyph0-1\" x=\"530.3125\" y=\"54.710938\"/>\n",
       "  <use xlink:href=\"#glyph0-2\" x=\"534.974609\" y=\"54.710938\"/>\n",
       "  <use xlink:href=\"#glyph0-11\" x=\"542.760742\" y=\"54.710938\"/>\n",
       "  <use xlink:href=\"#glyph0-4\" x=\"550.546875\" y=\"54.710938\"/>\n",
       "  <use xlink:href=\"#glyph0-5\" x=\"554.436523\" y=\"54.710938\"/>\n",
       "  <use xlink:href=\"#glyph0-2\" x=\"558.326172\" y=\"54.710938\"/>\n",
       "  <use xlink:href=\"#glyph0-7\" x=\"566.112305\" y=\"54.710938\"/>\n",
       "</g>\n",
       "<g style=\"fill:rgb(0%,0%,0%);fill-opacity:1;\">\n",
       "  <use xlink:href=\"#glyph0-1\" x=\"530.3125\" y=\"250.710938\"/>\n",
       "  <use xlink:href=\"#glyph0-2\" x=\"534.974609\" y=\"250.710938\"/>\n",
       "  <use xlink:href=\"#glyph0-11\" x=\"542.760742\" y=\"250.710938\"/>\n",
       "  <use xlink:href=\"#glyph0-4\" x=\"550.546875\" y=\"250.710938\"/>\n",
       "  <use xlink:href=\"#glyph0-5\" x=\"554.436523\" y=\"250.710938\"/>\n",
       "  <use xlink:href=\"#glyph0-13\" x=\"558.326172\" y=\"250.710938\"/>\n",
       "  <use xlink:href=\"#glyph0-7\" x=\"566.112305\" y=\"250.710938\"/>\n",
       "</g>\n",
       "<g style=\"fill:rgb(0%,0%,0%);fill-opacity:1;\">\n",
       "  <use xlink:href=\"#glyph0-1\" x=\"206.101562\" y=\"390.710938\"/>\n",
       "  <use xlink:href=\"#glyph0-13\" x=\"210.763672\" y=\"390.710938\"/>\n",
       "  <use xlink:href=\"#glyph0-4\" x=\"218.549805\" y=\"390.710938\"/>\n",
       "  <use xlink:href=\"#glyph0-5\" x=\"222.439453\" y=\"390.710938\"/>\n",
       "  <use xlink:href=\"#glyph0-2\" x=\"226.329102\" y=\"390.710938\"/>\n",
       "  <use xlink:href=\"#glyph0-8\" x=\"234.115234\" y=\"390.710938\"/>\n",
       "  <use xlink:href=\"#glyph0-7\" x=\"241.901367\" y=\"390.710938\"/>\n",
       "</g>\n",
       "<g style=\"fill:rgb(0%,0%,0%);fill-opacity:1;\">\n",
       "  <use xlink:href=\"#glyph0-1\" x=\"209.996094\" y=\"26.710938\"/>\n",
       "  <use xlink:href=\"#glyph0-13\" x=\"214.658203\" y=\"26.710938\"/>\n",
       "  <use xlink:href=\"#glyph0-4\" x=\"222.444336\" y=\"26.710938\"/>\n",
       "  <use xlink:href=\"#glyph0-5\" x=\"226.333984\" y=\"26.710938\"/>\n",
       "  <use xlink:href=\"#glyph0-14\" x=\"230.223633\" y=\"26.710938\"/>\n",
       "  <use xlink:href=\"#glyph0-7\" x=\"238.009766\" y=\"26.710938\"/>\n",
       "</g>\n",
       "<g style=\"fill:rgb(0%,0%,0%);fill-opacity:1;\">\n",
       "  <use xlink:href=\"#glyph0-1\" x=\"500.839844\" y=\"54.710938\"/>\n",
       "  <use xlink:href=\"#glyph0-2\" x=\"505.501953\" y=\"54.710938\"/>\n",
       "  <use xlink:href=\"#glyph0-13\" x=\"513.288086\" y=\"54.710938\"/>\n",
       "  <use xlink:href=\"#glyph0-4\" x=\"521.074219\" y=\"54.710938\"/>\n",
       "  <use xlink:href=\"#glyph0-5\" x=\"524.963867\" y=\"54.710938\"/>\n",
       "  <use xlink:href=\"#glyph0-2\" x=\"528.853516\" y=\"54.710938\"/>\n",
       "  <use xlink:href=\"#glyph0-7\" x=\"536.639648\" y=\"54.710938\"/>\n",
       "</g>\n",
       "<g style=\"fill:rgb(0%,0%,0%);fill-opacity:1;\">\n",
       "  <use xlink:href=\"#glyph0-1\" x=\"29.261719\" y=\"558.710938\"/>\n",
       "  <use xlink:href=\"#glyph0-9\" x=\"33.923828\" y=\"558.710938\"/>\n",
       "  <use xlink:href=\"#glyph0-4\" x=\"41.709961\" y=\"558.710938\"/>\n",
       "  <use xlink:href=\"#glyph0-5\" x=\"45.599609\" y=\"558.710938\"/>\n",
       "  <use xlink:href=\"#glyph0-2\" x=\"49.489258\" y=\"558.710938\"/>\n",
       "  <use xlink:href=\"#glyph0-11\" x=\"57.275391\" y=\"558.710938\"/>\n",
       "  <use xlink:href=\"#glyph0-7\" x=\"65.061523\" y=\"558.710938\"/>\n",
       "</g>\n",
       "<g style=\"fill:rgb(0%,0%,0%);fill-opacity:1;\">\n",
       "  <use xlink:href=\"#glyph0-1\" x=\"176.628906\" y=\"558.710938\"/>\n",
       "  <use xlink:href=\"#glyph0-6\" x=\"181.291016\" y=\"558.710938\"/>\n",
       "  <use xlink:href=\"#glyph0-4\" x=\"189.077148\" y=\"558.710938\"/>\n",
       "  <use xlink:href=\"#glyph0-5\" x=\"192.966797\" y=\"558.710938\"/>\n",
       "  <use xlink:href=\"#glyph0-2\" x=\"196.856445\" y=\"558.710938\"/>\n",
       "  <use xlink:href=\"#glyph0-11\" x=\"204.642578\" y=\"558.710938\"/>\n",
       "  <use xlink:href=\"#glyph0-7\" x=\"212.428711\" y=\"558.710938\"/>\n",
       "</g>\n",
       "<g style=\"fill:rgb(0%,0%,0%);fill-opacity:1;\">\n",
       "  <use xlink:href=\"#glyph0-1\" x=\"88.207031\" y=\"390.710938\"/>\n",
       "  <use xlink:href=\"#glyph0-3\" x=\"92.869141\" y=\"390.710938\"/>\n",
       "  <use xlink:href=\"#glyph0-4\" x=\"100.655273\" y=\"390.710938\"/>\n",
       "  <use xlink:href=\"#glyph0-5\" x=\"104.544922\" y=\"390.710938\"/>\n",
       "  <use xlink:href=\"#glyph0-2\" x=\"108.43457\" y=\"390.710938\"/>\n",
       "  <use xlink:href=\"#glyph0-8\" x=\"116.220703\" y=\"390.710938\"/>\n",
       "  <use xlink:href=\"#glyph0-7\" x=\"124.006836\" y=\"390.710938\"/>\n",
       "</g>\n",
       "<g style=\"fill:rgb(0%,0%,0%);fill-opacity:1;\">\n",
       "  <use xlink:href=\"#glyph0-1\" x=\"438\" y=\"362.710938\"/>\n",
       "  <use xlink:href=\"#glyph0-2\" x=\"442.662109\" y=\"362.710938\"/>\n",
       "  <use xlink:href=\"#glyph0-10\" x=\"450.448242\" y=\"362.710938\"/>\n",
       "  <use xlink:href=\"#glyph0-4\" x=\"458.234375\" y=\"362.710938\"/>\n",
       "  <use xlink:href=\"#glyph0-5\" x=\"462.124023\" y=\"362.710938\"/>\n",
       "  <use xlink:href=\"#glyph0-2\" x=\"466.013672\" y=\"362.710938\"/>\n",
       "  <use xlink:href=\"#glyph0-9\" x=\"473.799805\" y=\"362.710938\"/>\n",
       "  <use xlink:href=\"#glyph0-7\" x=\"481.585938\" y=\"362.710938\"/>\n",
       "</g>\n",
       "<g style=\"fill:rgb(0%,0%,0%);fill-opacity:1;\">\n",
       "  <use xlink:href=\"#glyph0-1\" x=\"147.15625\" y=\"446.710938\"/>\n",
       "  <use xlink:href=\"#glyph0-10\" x=\"151.818359\" y=\"446.710938\"/>\n",
       "  <use xlink:href=\"#glyph0-4\" x=\"159.604492\" y=\"446.710938\"/>\n",
       "  <use xlink:href=\"#glyph0-5\" x=\"163.494141\" y=\"446.710938\"/>\n",
       "  <use xlink:href=\"#glyph0-2\" x=\"167.383789\" y=\"446.710938\"/>\n",
       "  <use xlink:href=\"#glyph0-12\" x=\"175.169922\" y=\"446.710938\"/>\n",
       "  <use xlink:href=\"#glyph0-7\" x=\"182.956055\" y=\"446.710938\"/>\n",
       "</g>\n",
       "<g style=\"fill:rgb(0%,0%,0%);fill-opacity:1;\">\n",
       "  <use xlink:href=\"#glyph0-1\" x=\"290.628906\" y=\"390.710938\"/>\n",
       "  <use xlink:href=\"#glyph0-2\" x=\"295.291016\" y=\"390.710938\"/>\n",
       "  <use xlink:href=\"#glyph0-2\" x=\"303.077148\" y=\"390.710938\"/>\n",
       "  <use xlink:href=\"#glyph0-4\" x=\"310.863281\" y=\"390.710938\"/>\n",
       "  <use xlink:href=\"#glyph0-5\" x=\"314.75293\" y=\"390.710938\"/>\n",
       "  <use xlink:href=\"#glyph0-2\" x=\"318.642578\" y=\"390.710938\"/>\n",
       "  <use xlink:href=\"#glyph0-8\" x=\"326.428711\" y=\"390.710938\"/>\n",
       "  <use xlink:href=\"#glyph0-7\" x=\"334.214844\" y=\"390.710938\"/>\n",
       "</g>\n",
       "<g style=\"fill:rgb(0%,0%,0%);fill-opacity:1;\">\n",
       "  <use xlink:href=\"#glyph0-1\" x=\"147.15625\" y=\"558.710938\"/>\n",
       "  <use xlink:href=\"#glyph0-10\" x=\"151.818359\" y=\"558.710938\"/>\n",
       "  <use xlink:href=\"#glyph0-4\" x=\"159.604492\" y=\"558.710938\"/>\n",
       "  <use xlink:href=\"#glyph0-5\" x=\"163.494141\" y=\"558.710938\"/>\n",
       "  <use xlink:href=\"#glyph0-2\" x=\"167.383789\" y=\"558.710938\"/>\n",
       "  <use xlink:href=\"#glyph0-11\" x=\"175.169922\" y=\"558.710938\"/>\n",
       "  <use xlink:href=\"#glyph0-7\" x=\"182.956055\" y=\"558.710938\"/>\n",
       "</g>\n",
       "<g style=\"fill:rgb(0%,0%,0%);fill-opacity:1;\">\n",
       "  <use xlink:href=\"#glyph0-1\" x=\"176.628906\" y=\"418.710938\"/>\n",
       "  <use xlink:href=\"#glyph0-6\" x=\"181.291016\" y=\"418.710938\"/>\n",
       "  <use xlink:href=\"#glyph0-4\" x=\"189.077148\" y=\"418.710938\"/>\n",
       "  <use xlink:href=\"#glyph0-5\" x=\"192.966797\" y=\"418.710938\"/>\n",
       "  <use xlink:href=\"#glyph0-2\" x=\"196.856445\" y=\"418.710938\"/>\n",
       "  <use xlink:href=\"#glyph0-3\" x=\"204.642578\" y=\"418.710938\"/>\n",
       "  <use xlink:href=\"#glyph0-7\" x=\"212.428711\" y=\"418.710938\"/>\n",
       "</g>\n",
       "<g style=\"fill:rgb(0%,0%,0%);fill-opacity:1;\">\n",
       "  <use xlink:href=\"#glyph0-1\" x=\"320.105469\" y=\"418.710938\"/>\n",
       "  <use xlink:href=\"#glyph0-2\" x=\"324.767578\" y=\"418.710938\"/>\n",
       "  <use xlink:href=\"#glyph0-9\" x=\"332.553711\" y=\"418.710938\"/>\n",
       "  <use xlink:href=\"#glyph0-4\" x=\"340.339844\" y=\"418.710938\"/>\n",
       "  <use xlink:href=\"#glyph0-5\" x=\"344.229492\" y=\"418.710938\"/>\n",
       "  <use xlink:href=\"#glyph0-2\" x=\"348.119141\" y=\"418.710938\"/>\n",
       "  <use xlink:href=\"#glyph0-3\" x=\"355.905273\" y=\"418.710938\"/>\n",
       "  <use xlink:href=\"#glyph0-7\" x=\"363.691406\" y=\"418.710938\"/>\n",
       "</g>\n",
       "<g style=\"fill:rgb(0%,0%,0%);fill-opacity:1;\">\n",
       "  <use xlink:href=\"#glyph0-1\" x=\"441.890625\" y=\"82.710938\"/>\n",
       "  <use xlink:href=\"#glyph0-2\" x=\"446.552734\" y=\"82.710938\"/>\n",
       "  <use xlink:href=\"#glyph0-10\" x=\"454.338867\" y=\"82.710938\"/>\n",
       "  <use xlink:href=\"#glyph0-4\" x=\"462.125\" y=\"82.710938\"/>\n",
       "  <use xlink:href=\"#glyph0-5\" x=\"466.014648\" y=\"82.710938\"/>\n",
       "  <use xlink:href=\"#glyph0-9\" x=\"469.904297\" y=\"82.710938\"/>\n",
       "  <use xlink:href=\"#glyph0-7\" x=\"477.69043\" y=\"82.710938\"/>\n",
       "</g>\n",
       "<g style=\"fill:rgb(0%,0%,0%);fill-opacity:1;\">\n",
       "  <use xlink:href=\"#glyph0-1\" x=\"151.046875\" y=\"166.710938\"/>\n",
       "  <use xlink:href=\"#glyph0-10\" x=\"155.708984\" y=\"166.710938\"/>\n",
       "  <use xlink:href=\"#glyph0-4\" x=\"163.495117\" y=\"166.710938\"/>\n",
       "  <use xlink:href=\"#glyph0-5\" x=\"167.384766\" y=\"166.710938\"/>\n",
       "  <use xlink:href=\"#glyph0-12\" x=\"171.274414\" y=\"166.710938\"/>\n",
       "  <use xlink:href=\"#glyph0-7\" x=\"179.060547\" y=\"166.710938\"/>\n",
       "</g>\n",
       "<g style=\"fill:rgb(0%,0%,0%);fill-opacity:1;\">\n",
       "  <use xlink:href=\"#glyph0-1\" x=\"121.574219\" y=\"110.710938\"/>\n",
       "  <use xlink:href=\"#glyph0-12\" x=\"126.236328\" y=\"110.710938\"/>\n",
       "  <use xlink:href=\"#glyph0-4\" x=\"134.022461\" y=\"110.710938\"/>\n",
       "  <use xlink:href=\"#glyph0-5\" x=\"137.912109\" y=\"110.710938\"/>\n",
       "  <use xlink:href=\"#glyph0-8\" x=\"141.801758\" y=\"110.710938\"/>\n",
       "  <use xlink:href=\"#glyph0-7\" x=\"149.587891\" y=\"110.710938\"/>\n",
       "</g>\n",
       "<g style=\"fill:rgb(0%,0%,0%);fill-opacity:1;\">\n",
       "  <use xlink:href=\"#glyph0-1\" x=\"265.050781\" y=\"166.710938\"/>\n",
       "  <use xlink:href=\"#glyph0-2\" x=\"269.712891\" y=\"166.710938\"/>\n",
       "  <use xlink:href=\"#glyph0-14\" x=\"277.499023\" y=\"166.710938\"/>\n",
       "  <use xlink:href=\"#glyph0-4\" x=\"285.285156\" y=\"166.710938\"/>\n",
       "  <use xlink:href=\"#glyph0-5\" x=\"289.174805\" y=\"166.710938\"/>\n",
       "  <use xlink:href=\"#glyph0-12\" x=\"293.064453\" y=\"166.710938\"/>\n",
       "  <use xlink:href=\"#glyph0-7\" x=\"300.850586\" y=\"166.710938\"/>\n",
       "</g>\n",
       "<g style=\"fill:rgb(0%,0%,0%);fill-opacity:1;\">\n",
       "  <use xlink:href=\"#glyph0-1\" x=\"206.101562\" y=\"474.710938\"/>\n",
       "  <use xlink:href=\"#glyph0-13\" x=\"210.763672\" y=\"474.710938\"/>\n",
       "  <use xlink:href=\"#glyph0-4\" x=\"218.549805\" y=\"474.710938\"/>\n",
       "  <use xlink:href=\"#glyph0-5\" x=\"222.439453\" y=\"474.710938\"/>\n",
       "  <use xlink:href=\"#glyph0-2\" x=\"226.329102\" y=\"474.710938\"/>\n",
       "  <use xlink:href=\"#glyph0-10\" x=\"234.115234\" y=\"474.710938\"/>\n",
       "  <use xlink:href=\"#glyph0-7\" x=\"241.901367\" y=\"474.710938\"/>\n",
       "</g>\n",
       "<g style=\"fill:rgb(0%,0%,0%);fill-opacity:1;\">\n",
       "  <use xlink:href=\"#glyph0-1\" x=\"294.523438\" y=\"250.710938\"/>\n",
       "  <use xlink:href=\"#glyph0-2\" x=\"299.185547\" y=\"250.710938\"/>\n",
       "  <use xlink:href=\"#glyph0-2\" x=\"306.97168\" y=\"250.710938\"/>\n",
       "  <use xlink:href=\"#glyph0-4\" x=\"314.757812\" y=\"250.710938\"/>\n",
       "  <use xlink:href=\"#glyph0-5\" x=\"318.647461\" y=\"250.710938\"/>\n",
       "  <use xlink:href=\"#glyph0-13\" x=\"322.537109\" y=\"250.710938\"/>\n",
       "  <use xlink:href=\"#glyph0-7\" x=\"330.323242\" y=\"250.710938\"/>\n",
       "</g>\n",
       "<g style=\"fill:rgb(0%,0%,0%);fill-opacity:1;\">\n",
       "  <use xlink:href=\"#glyph0-1\" x=\"441.890625\" y=\"250.710938\"/>\n",
       "  <use xlink:href=\"#glyph0-2\" x=\"446.552734\" y=\"250.710938\"/>\n",
       "  <use xlink:href=\"#glyph0-10\" x=\"454.338867\" y=\"250.710938\"/>\n",
       "  <use xlink:href=\"#glyph0-4\" x=\"462.125\" y=\"250.710938\"/>\n",
       "  <use xlink:href=\"#glyph0-5\" x=\"466.014648\" y=\"250.710938\"/>\n",
       "  <use xlink:href=\"#glyph0-13\" x=\"469.904297\" y=\"250.710938\"/>\n",
       "  <use xlink:href=\"#glyph0-7\" x=\"477.69043\" y=\"250.710938\"/>\n",
       "</g>\n",
       "<g style=\"fill:rgb(0%,0%,0%);fill-opacity:1;\">\n",
       "  <use xlink:href=\"#glyph0-1\" x=\"530.3125\" y=\"166.710938\"/>\n",
       "  <use xlink:href=\"#glyph0-2\" x=\"534.974609\" y=\"166.710938\"/>\n",
       "  <use xlink:href=\"#glyph0-11\" x=\"542.760742\" y=\"166.710938\"/>\n",
       "  <use xlink:href=\"#glyph0-4\" x=\"550.546875\" y=\"166.710938\"/>\n",
       "  <use xlink:href=\"#glyph0-5\" x=\"554.436523\" y=\"166.710938\"/>\n",
       "  <use xlink:href=\"#glyph0-12\" x=\"558.326172\" y=\"166.710938\"/>\n",
       "  <use xlink:href=\"#glyph0-7\" x=\"566.112305\" y=\"166.710938\"/>\n",
       "</g>\n",
       "<g style=\"fill:rgb(0%,0%,0%);fill-opacity:1;\">\n",
       "  <use xlink:href=\"#glyph0-1\" x=\"-0.214844\" y=\"530.710938\"/>\n",
       "  <use xlink:href=\"#glyph0-2\" x=\"4.447266\" y=\"530.710938\"/>\n",
       "  <use xlink:href=\"#glyph0-4\" x=\"12.233398\" y=\"530.710938\"/>\n",
       "  <use xlink:href=\"#glyph0-5\" x=\"16.123047\" y=\"530.710938\"/>\n",
       "  <use xlink:href=\"#glyph0-2\" x=\"20.012695\" y=\"530.710938\"/>\n",
       "  <use xlink:href=\"#glyph0-13\" x=\"27.798828\" y=\"530.710938\"/>\n",
       "  <use xlink:href=\"#glyph0-7\" x=\"35.584961\" y=\"530.710938\"/>\n",
       "</g>\n",
       "<g style=\"fill:rgb(0%,0%,0%);fill-opacity:1;\">\n",
       "  <use xlink:href=\"#glyph0-1\" x=\"412.417969\" y=\"194.710938\"/>\n",
       "  <use xlink:href=\"#glyph0-2\" x=\"417.080078\" y=\"194.710938\"/>\n",
       "  <use xlink:href=\"#glyph0-12\" x=\"424.866211\" y=\"194.710938\"/>\n",
       "  <use xlink:href=\"#glyph0-4\" x=\"432.652344\" y=\"194.710938\"/>\n",
       "  <use xlink:href=\"#glyph0-5\" x=\"436.541992\" y=\"194.710938\"/>\n",
       "  <use xlink:href=\"#glyph0-10\" x=\"440.431641\" y=\"194.710938\"/>\n",
       "  <use xlink:href=\"#glyph0-7\" x=\"448.217773\" y=\"194.710938\"/>\n",
       "</g>\n",
       "<g style=\"fill:rgb(0%,0%,0%);fill-opacity:1;\">\n",
       "  <use xlink:href=\"#glyph0-1\" x=\"3.679688\" y=\"222.710938\"/>\n",
       "  <use xlink:href=\"#glyph0-2\" x=\"8.341797\" y=\"222.710938\"/>\n",
       "  <use xlink:href=\"#glyph0-4\" x=\"16.12793\" y=\"222.710938\"/>\n",
       "  <use xlink:href=\"#glyph0-5\" x=\"20.017578\" y=\"222.710938\"/>\n",
       "  <use xlink:href=\"#glyph0-6\" x=\"23.907227\" y=\"222.710938\"/>\n",
       "  <use xlink:href=\"#glyph0-7\" x=\"31.693359\" y=\"222.710938\"/>\n",
       "</g>\n",
       "<g style=\"fill:rgb(0%,0%,0%);fill-opacity:1;\">\n",
       "  <use xlink:href=\"#glyph0-1\" x=\"62.625\" y=\"138.710938\"/>\n",
       "  <use xlink:href=\"#glyph0-8\" x=\"67.287109\" y=\"138.710938\"/>\n",
       "  <use xlink:href=\"#glyph0-4\" x=\"75.073242\" y=\"138.710938\"/>\n",
       "  <use xlink:href=\"#glyph0-5\" x=\"78.962891\" y=\"138.710938\"/>\n",
       "  <use xlink:href=\"#glyph0-3\" x=\"82.852539\" y=\"138.710938\"/>\n",
       "  <use xlink:href=\"#glyph0-7\" x=\"90.638672\" y=\"138.710938\"/>\n",
       "</g>\n",
       "<g style=\"fill:rgb(0%,0%,0%);fill-opacity:1;\">\n",
       "  <use xlink:href=\"#glyph0-1\" x=\"92.101562\" y=\"222.710938\"/>\n",
       "  <use xlink:href=\"#glyph0-3\" x=\"96.763672\" y=\"222.710938\"/>\n",
       "  <use xlink:href=\"#glyph0-4\" x=\"104.549805\" y=\"222.710938\"/>\n",
       "  <use xlink:href=\"#glyph0-5\" x=\"108.439453\" y=\"222.710938\"/>\n",
       "  <use xlink:href=\"#glyph0-6\" x=\"112.329102\" y=\"222.710938\"/>\n",
       "  <use xlink:href=\"#glyph0-7\" x=\"120.115234\" y=\"222.710938\"/>\n",
       "</g>\n",
       "<g style=\"fill:rgb(0%,0%,0%);fill-opacity:1;\">\n",
       "  <use xlink:href=\"#glyph0-1\" x=\"471.363281\" y=\"166.710938\"/>\n",
       "  <use xlink:href=\"#glyph0-2\" x=\"476.025391\" y=\"166.710938\"/>\n",
       "  <use xlink:href=\"#glyph0-6\" x=\"483.811523\" y=\"166.710938\"/>\n",
       "  <use xlink:href=\"#glyph0-4\" x=\"491.597656\" y=\"166.710938\"/>\n",
       "  <use xlink:href=\"#glyph0-5\" x=\"495.487305\" y=\"166.710938\"/>\n",
       "  <use xlink:href=\"#glyph0-12\" x=\"499.376953\" y=\"166.710938\"/>\n",
       "  <use xlink:href=\"#glyph0-7\" x=\"507.163086\" y=\"166.710938\"/>\n",
       "</g>\n",
       "<g style=\"fill:rgb(0%,0%,0%);fill-opacity:1;\">\n",
       "  <use xlink:href=\"#glyph0-1\" x=\"88.207031\" y=\"530.710938\"/>\n",
       "  <use xlink:href=\"#glyph0-3\" x=\"92.869141\" y=\"530.710938\"/>\n",
       "  <use xlink:href=\"#glyph0-4\" x=\"100.655273\" y=\"530.710938\"/>\n",
       "  <use xlink:href=\"#glyph0-5\" x=\"104.544922\" y=\"530.710938\"/>\n",
       "  <use xlink:href=\"#glyph0-2\" x=\"108.43457\" y=\"530.710938\"/>\n",
       "  <use xlink:href=\"#glyph0-13\" x=\"116.220703\" y=\"530.710938\"/>\n",
       "  <use xlink:href=\"#glyph0-7\" x=\"124.006836\" y=\"530.710938\"/>\n",
       "</g>\n",
       "<g style=\"fill:rgb(0%,0%,0%);fill-opacity:1;\">\n",
       "  <use xlink:href=\"#glyph0-1\" x=\"294.523438\" y=\"82.710938\"/>\n",
       "  <use xlink:href=\"#glyph0-2\" x=\"299.185547\" y=\"82.710938\"/>\n",
       "  <use xlink:href=\"#glyph0-2\" x=\"306.97168\" y=\"82.710938\"/>\n",
       "  <use xlink:href=\"#glyph0-4\" x=\"314.757812\" y=\"82.710938\"/>\n",
       "  <use xlink:href=\"#glyph0-5\" x=\"318.647461\" y=\"82.710938\"/>\n",
       "  <use xlink:href=\"#glyph0-9\" x=\"322.537109\" y=\"82.710938\"/>\n",
       "  <use xlink:href=\"#glyph0-7\" x=\"330.323242\" y=\"82.710938\"/>\n",
       "</g>\n",
       "<g style=\"fill:rgb(0%,0%,0%);fill-opacity:1;\">\n",
       "  <use xlink:href=\"#glyph0-1\" x=\"471.363281\" y=\"110.710938\"/>\n",
       "  <use xlink:href=\"#glyph0-2\" x=\"476.025391\" y=\"110.710938\"/>\n",
       "  <use xlink:href=\"#glyph0-6\" x=\"483.811523\" y=\"110.710938\"/>\n",
       "  <use xlink:href=\"#glyph0-4\" x=\"491.597656\" y=\"110.710938\"/>\n",
       "  <use xlink:href=\"#glyph0-5\" x=\"495.487305\" y=\"110.710938\"/>\n",
       "  <use xlink:href=\"#glyph0-8\" x=\"499.376953\" y=\"110.710938\"/>\n",
       "  <use xlink:href=\"#glyph0-7\" x=\"507.163086\" y=\"110.710938\"/>\n",
       "</g>\n",
       "<g style=\"fill:rgb(0%,0%,0%);fill-opacity:1;\">\n",
       "  <use xlink:href=\"#glyph0-1\" x=\"412.417969\" y=\"250.710938\"/>\n",
       "  <use xlink:href=\"#glyph0-2\" x=\"417.080078\" y=\"250.710938\"/>\n",
       "  <use xlink:href=\"#glyph0-12\" x=\"424.866211\" y=\"250.710938\"/>\n",
       "  <use xlink:href=\"#glyph0-4\" x=\"432.652344\" y=\"250.710938\"/>\n",
       "  <use xlink:href=\"#glyph0-5\" x=\"436.541992\" y=\"250.710938\"/>\n",
       "  <use xlink:href=\"#glyph0-13\" x=\"440.431641\" y=\"250.710938\"/>\n",
       "  <use xlink:href=\"#glyph0-7\" x=\"448.217773\" y=\"250.710938\"/>\n",
       "</g>\n",
       "<g style=\"fill:rgb(0%,0%,0%);fill-opacity:1;\">\n",
       "  <use xlink:href=\"#glyph0-1\" x=\"353.46875\" y=\"250.710938\"/>\n",
       "  <use xlink:href=\"#glyph0-2\" x=\"358.130859\" y=\"250.710938\"/>\n",
       "  <use xlink:href=\"#glyph0-8\" x=\"365.916992\" y=\"250.710938\"/>\n",
       "  <use xlink:href=\"#glyph0-4\" x=\"373.703125\" y=\"250.710938\"/>\n",
       "  <use xlink:href=\"#glyph0-5\" x=\"377.592773\" y=\"250.710938\"/>\n",
       "  <use xlink:href=\"#glyph0-13\" x=\"381.482422\" y=\"250.710938\"/>\n",
       "  <use xlink:href=\"#glyph0-7\" x=\"389.268555\" y=\"250.710938\"/>\n",
       "</g>\n",
       "<g style=\"fill:rgb(0%,0%,0%);fill-opacity:1;\">\n",
       "  <use xlink:href=\"#glyph0-1\" x=\"58.734375\" y=\"418.710938\"/>\n",
       "  <use xlink:href=\"#glyph0-8\" x=\"63.396484\" y=\"418.710938\"/>\n",
       "  <use xlink:href=\"#glyph0-4\" x=\"71.182617\" y=\"418.710938\"/>\n",
       "  <use xlink:href=\"#glyph0-5\" x=\"75.072266\" y=\"418.710938\"/>\n",
       "  <use xlink:href=\"#glyph0-2\" x=\"78.961914\" y=\"418.710938\"/>\n",
       "  <use xlink:href=\"#glyph0-3\" x=\"86.748047\" y=\"418.710938\"/>\n",
       "  <use xlink:href=\"#glyph0-7\" x=\"94.53418\" y=\"418.710938\"/>\n",
       "</g>\n",
       "<g style=\"fill:rgb(0%,0%,0%);fill-opacity:1;\">\n",
       "  <use xlink:href=\"#glyph0-1\" x=\"408.523438\" y=\"530.710938\"/>\n",
       "  <use xlink:href=\"#glyph0-2\" x=\"413.185547\" y=\"530.710938\"/>\n",
       "  <use xlink:href=\"#glyph0-12\" x=\"420.97168\" y=\"530.710938\"/>\n",
       "  <use xlink:href=\"#glyph0-4\" x=\"428.757812\" y=\"530.710938\"/>\n",
       "  <use xlink:href=\"#glyph0-5\" x=\"432.647461\" y=\"530.710938\"/>\n",
       "  <use xlink:href=\"#glyph0-2\" x=\"436.537109\" y=\"530.710938\"/>\n",
       "  <use xlink:href=\"#glyph0-13\" x=\"444.323242\" y=\"530.710938\"/>\n",
       "  <use xlink:href=\"#glyph0-7\" x=\"452.109375\" y=\"530.710938\"/>\n",
       "</g>\n",
       "<g style=\"fill:rgb(0%,0%,0%);fill-opacity:1;\">\n",
       "  <use xlink:href=\"#glyph0-1\" x=\"290.628906\" y=\"530.710938\"/>\n",
       "  <use xlink:href=\"#glyph0-2\" x=\"295.291016\" y=\"530.710938\"/>\n",
       "  <use xlink:href=\"#glyph0-2\" x=\"303.077148\" y=\"530.710938\"/>\n",
       "  <use xlink:href=\"#glyph0-4\" x=\"310.863281\" y=\"530.710938\"/>\n",
       "  <use xlink:href=\"#glyph0-5\" x=\"314.75293\" y=\"530.710938\"/>\n",
       "  <use xlink:href=\"#glyph0-2\" x=\"318.642578\" y=\"530.710938\"/>\n",
       "  <use xlink:href=\"#glyph0-13\" x=\"326.428711\" y=\"530.710938\"/>\n",
       "  <use xlink:href=\"#glyph0-7\" x=\"334.214844\" y=\"530.710938\"/>\n",
       "</g>\n",
       "<g style=\"fill:rgb(0%,0%,0%);fill-opacity:1;\">\n",
       "  <use xlink:href=\"#glyph0-1\" x=\"555.894531\" y=\"390.710938\"/>\n",
       "  <use xlink:href=\"#glyph0-9\" x=\"560.556641\" y=\"390.710938\"/>\n",
       "  <use xlink:href=\"#glyph0-14\" x=\"568.342773\" y=\"390.710938\"/>\n",
       "  <use xlink:href=\"#glyph0-4\" x=\"576.128906\" y=\"390.710938\"/>\n",
       "  <use xlink:href=\"#glyph0-5\" x=\"580.018555\" y=\"390.710938\"/>\n",
       "  <use xlink:href=\"#glyph0-2\" x=\"583.908203\" y=\"390.710938\"/>\n",
       "  <use xlink:href=\"#glyph0-8\" x=\"591.694336\" y=\"390.710938\"/>\n",
       "  <use xlink:href=\"#glyph0-7\" x=\"599.480469\" y=\"390.710938\"/>\n",
       "</g>\n",
       "<g style=\"fill:rgb(0%,0%,0%);fill-opacity:1;\">\n",
       "  <use xlink:href=\"#glyph0-1\" x=\"235.574219\" y=\"306.710938\"/>\n",
       "  <use xlink:href=\"#glyph0-11\" x=\"240.236328\" y=\"306.710938\"/>\n",
       "  <use xlink:href=\"#glyph0-4\" x=\"248.022461\" y=\"306.710938\"/>\n",
       "  <use xlink:href=\"#glyph0-5\" x=\"251.912109\" y=\"306.710938\"/>\n",
       "  <use xlink:href=\"#glyph0-2\" x=\"255.801758\" y=\"306.710938\"/>\n",
       "  <use xlink:href=\"#glyph0-14\" x=\"263.587891\" y=\"306.710938\"/>\n",
       "  <use xlink:href=\"#glyph0-7\" x=\"271.374023\" y=\"306.710938\"/>\n",
       "</g>\n",
       "<g style=\"fill:rgb(0%,0%,0%);fill-opacity:1;\">\n",
       "  <use xlink:href=\"#glyph0-1\" x=\"206.101562\" y=\"502.710938\"/>\n",
       "  <use xlink:href=\"#glyph0-13\" x=\"210.763672\" y=\"502.710938\"/>\n",
       "  <use xlink:href=\"#glyph0-4\" x=\"218.549805\" y=\"502.710938\"/>\n",
       "  <use xlink:href=\"#glyph0-5\" x=\"222.439453\" y=\"502.710938\"/>\n",
       "  <use xlink:href=\"#glyph0-2\" x=\"226.329102\" y=\"502.710938\"/>\n",
       "  <use xlink:href=\"#glyph0-6\" x=\"234.115234\" y=\"502.710938\"/>\n",
       "  <use xlink:href=\"#glyph0-7\" x=\"241.901367\" y=\"502.710938\"/>\n",
       "</g>\n",
       "<g style=\"fill:rgb(0%,0%,0%);fill-opacity:1;\">\n",
       "  <use xlink:href=\"#glyph0-1\" x=\"176.628906\" y=\"446.710938\"/>\n",
       "  <use xlink:href=\"#glyph0-6\" x=\"181.291016\" y=\"446.710938\"/>\n",
       "  <use xlink:href=\"#glyph0-4\" x=\"189.077148\" y=\"446.710938\"/>\n",
       "  <use xlink:href=\"#glyph0-5\" x=\"192.966797\" y=\"446.710938\"/>\n",
       "  <use xlink:href=\"#glyph0-2\" x=\"196.856445\" y=\"446.710938\"/>\n",
       "  <use xlink:href=\"#glyph0-12\" x=\"204.642578\" y=\"446.710938\"/>\n",
       "  <use xlink:href=\"#glyph0-7\" x=\"212.428711\" y=\"446.710938\"/>\n",
       "</g>\n",
       "<g style=\"fill:rgb(0%,0%,0%);fill-opacity:1;\">\n",
       "  <use xlink:href=\"#glyph0-1\" x=\"379.050781\" y=\"334.710938\"/>\n",
       "  <use xlink:href=\"#glyph0-2\" x=\"383.712891\" y=\"334.710938\"/>\n",
       "  <use xlink:href=\"#glyph0-3\" x=\"391.499023\" y=\"334.710938\"/>\n",
       "  <use xlink:href=\"#glyph0-4\" x=\"399.285156\" y=\"334.710938\"/>\n",
       "  <use xlink:href=\"#glyph0-5\" x=\"403.174805\" y=\"334.710938\"/>\n",
       "  <use xlink:href=\"#glyph0-2\" x=\"407.064453\" y=\"334.710938\"/>\n",
       "  <use xlink:href=\"#glyph0-2\" x=\"414.850586\" y=\"334.710938\"/>\n",
       "  <use xlink:href=\"#glyph0-7\" x=\"422.636719\" y=\"334.710938\"/>\n",
       "</g>\n",
       "<g style=\"fill:rgb(0%,0%,0%);fill-opacity:1;\">\n",
       "  <use xlink:href=\"#glyph0-1\" x=\"290.628906\" y=\"502.710938\"/>\n",
       "  <use xlink:href=\"#glyph0-2\" x=\"295.291016\" y=\"502.710938\"/>\n",
       "  <use xlink:href=\"#glyph0-2\" x=\"303.077148\" y=\"502.710938\"/>\n",
       "  <use xlink:href=\"#glyph0-4\" x=\"310.863281\" y=\"502.710938\"/>\n",
       "  <use xlink:href=\"#glyph0-5\" x=\"314.75293\" y=\"502.710938\"/>\n",
       "  <use xlink:href=\"#glyph0-2\" x=\"318.642578\" y=\"502.710938\"/>\n",
       "  <use xlink:href=\"#glyph0-6\" x=\"326.428711\" y=\"502.710938\"/>\n",
       "  <use xlink:href=\"#glyph0-7\" x=\"334.214844\" y=\"502.710938\"/>\n",
       "</g>\n",
       "<g style=\"fill:rgb(0%,0%,0%);fill-opacity:1;\">\n",
       "  <use xlink:href=\"#glyph0-1\" x=\"92.101562\" y=\"110.710938\"/>\n",
       "  <use xlink:href=\"#glyph0-3\" x=\"96.763672\" y=\"110.710938\"/>\n",
       "  <use xlink:href=\"#glyph0-4\" x=\"104.549805\" y=\"110.710938\"/>\n",
       "  <use xlink:href=\"#glyph0-5\" x=\"108.439453\" y=\"110.710938\"/>\n",
       "  <use xlink:href=\"#glyph0-8\" x=\"112.329102\" y=\"110.710938\"/>\n",
       "  <use xlink:href=\"#glyph0-7\" x=\"120.115234\" y=\"110.710938\"/>\n",
       "</g>\n",
       "<g style=\"fill:rgb(0%,0%,0%);fill-opacity:1;\">\n",
       "  <use xlink:href=\"#glyph0-1\" x=\"29.261719\" y=\"446.710938\"/>\n",
       "  <use xlink:href=\"#glyph0-9\" x=\"33.923828\" y=\"446.710938\"/>\n",
       "  <use xlink:href=\"#glyph0-4\" x=\"41.709961\" y=\"446.710938\"/>\n",
       "  <use xlink:href=\"#glyph0-5\" x=\"45.599609\" y=\"446.710938\"/>\n",
       "  <use xlink:href=\"#glyph0-2\" x=\"49.489258\" y=\"446.710938\"/>\n",
       "  <use xlink:href=\"#glyph0-12\" x=\"57.275391\" y=\"446.710938\"/>\n",
       "  <use xlink:href=\"#glyph0-7\" x=\"65.061523\" y=\"446.710938\"/>\n",
       "</g>\n",
       "</g>\n",
       "</svg>\n"
      ],
      "text/plain": [
       "<igraph.drawing.Plot at 0x1073a1950>"
      ]
     },
     "execution_count": 25,
     "metadata": {},
     "output_type": "execute_result"
    }
   ],
   "source": [
    "from IPython.core.display import display, SVG\n",
    "import cairocffi as cairo\n",
    "import igraph\n",
    "\n",
    "dictlist = []\n",
    "for key, value in layout_old.iteritems():\n",
    "    dictlist.append(key)\n",
    "    \n",
    "igraph.plot(g, layout=g.vs['position'], vertex_label=g.vs['name'] )"
   ]
  },
  {
   "cell_type": "code",
   "execution_count": 26,
   "metadata": {},
   "outputs": [
    {
     "name": "stdout",
     "output_type": "stream",
     "text": [
      "IGRAPH UN-- 80 16 --\n",
      "+ attr: index (v), name (v), position (v)\n",
      "+ edges (vertex names):\n",
      "(3, 4)--(3, 4), (19, 11)--(19, 11), (14, 4)--(14, 4), (8, 0)--(8, 0), (12,\n",
      "11)--(12, 11), (4, 15)--(15, 7), (16, 2)--(3, 14), (6, 4)--(11, 18), (5,\n",
      "8)--(12, 18), (6, 19)--(12, 14), (9, 16)--(15, 8), (12, 12)--(12, 17), (3,\n",
      "7)--(16, 12), (8, 13)--(6, 5), (14, 17)--(10, 14), (9, 19)--(16, 10)\n"
     ]
    }
   ],
   "source": [
    "print g"
   ]
  },
  {
   "cell_type": "code",
   "execution_count": 27,
   "metadata": {},
   "outputs": [
    {
     "name": "stdout",
     "output_type": "stream",
     "text": [
      "{(14, 17): 'NaN', (14, 4): [(14, 5), (13, 4)], (13, 4): [(14, 4)], (12, 12): [(13, 12), (12, 11)], (6, 9): 'NaN', (3, 7): 'NaN', (5, 8): 'NaN', (5, 5): [(6, 5)], (12, 17): [(12, 18), (11, 17)], (8, 15): [(8, 16), (7, 15)], (10, 13): [(11, 13)], (9, 16): [(8, 16)], (12, 11): [(12, 12)], (3, 12): [(4, 12)], (4, 15): 'NaN', (9, 9): 'NaN', (10, 14): [(10, 13)], (9, 19): 'NaN', (12, 8): [(13, 8), (11, 8)], (1, 15): [(2, 15)], (8, 9): [(9, 9), (8, 10)], (4, 12): 'NaN', (3, 17): 'NaN', (16, 7): [(16, 8), (15, 7)], (7, 15): [(8, 15), (6, 15), (7, 14)], (14, 5): 'NaN', (16, 10): 'NaN', (19, 11): 'NaN', (18, 16): 'NaN', (1, 10): 'NaN', (6, 4): [(6, 5)], (12, 18): [(11, 18), (12, 17)], (15, 7): [(16, 7), (15, 8), (15, 6)], (5, 10): 'NaN', (4, 17): [(4, 18), (3, 17)], (14, 12): [(14, 11)], (11, 20): 'NaN', (19, 1): [(18, 1)], (19, 8): 'NaN', (8, 13): 'NaN', (8, 0): 'NaN', (18, 1): 'NaN', (2, 19): 'NaN', (7, 19): [(8, 19), (6, 19)], (4, 13): [(4, 12)], (8, 16): [(9, 16)], (6, 15): [(7, 15)], (11, 13): [(11, 14), (10, 13)], (6, 19): [(7, 19)], (7, 14): [(7, 15)], (12, 14): [(11, 14)], (16, 2): 'NaN', (6, 5): [(5, 5), (6, 4)], (5, 3): [(4, 3)], (10, 5): 'NaN', (11, 8): [(12, 8)], (16, 8): [(15, 8), (16, 7)], (19, 5): 'NaN', (1, 18): 'NaN', (15, 6): [(15, 7)], (1, 7): 'NaN', (3, 4): 'NaN', (4, 7): [(3, 7)], (17, 5): 'NaN', (4, 18): [(4, 17)], (11, 2): 'NaN', (17, 3): 'NaN', (15, 8): [(16, 8), (15, 7)], (13, 8): [(12, 8)], (3, 14): 'NaN', (15, 18): 'NaN', (11, 18): [(12, 18), (11, 17)], (20, 13): 'NaN', (9, 10): [(9, 9)], (8, 17): [(8, 16)], (16, 12): 'NaN', (14, 11): 'NaN', (11, 17): [(12, 17), (11, 18)], (4, 3): 'NaN', (2, 15): 'NaN'}\n"
     ]
    }
   ],
   "source": [
    "#LEFT OFF TRYING TO FIX THE NEIGHBORING EDGE PROBLEM..\n",
    "#TO DO: write a new funciton that uses neighbor_tracking dict and adds edges to those nodes only\n",
    "print neighbor_tracking"
   ]
  },
  {
   "cell_type": "code",
   "execution_count": null,
   "metadata": {},
   "outputs": [],
   "source": []
  },
  {
   "cell_type": "code",
   "execution_count": null,
   "metadata": {},
   "outputs": [],
   "source": []
  },
  {
   "cell_type": "code",
   "execution_count": null,
   "metadata": {},
   "outputs": [],
   "source": []
  },
  {
   "cell_type": "code",
   "execution_count": null,
   "metadata": {},
   "outputs": [],
   "source": []
  },
  {
   "cell_type": "code",
   "execution_count": null,
   "metadata": {},
   "outputs": [],
   "source": []
  },
  {
   "cell_type": "code",
   "execution_count": null,
   "metadata": {},
   "outputs": [],
   "source": []
  },
  {
   "cell_type": "code",
   "execution_count": null,
   "metadata": {},
   "outputs": [],
   "source": [
    "# [move, bind, self_bind, dissociate]\n",
    "rxn_results.sum(axis=0)"
   ]
  },
  {
   "cell_type": "code",
   "execution_count": null,
   "metadata": {},
   "outputs": [],
   "source": [
    "#at 28% filled \n",
    "#total_rxn = np.zeros(shape=(10,4))\n",
    "total_rxn[9] = rxn_results.sum(axis=0)"
   ]
  },
  {
   "cell_type": "code",
   "execution_count": null,
   "metadata": {},
   "outputs": [],
   "source": [
    "#total_rxn=np.delete(total_rxn, 3, axis=1)\n",
    "#total_rxn=np.delete(total_rxn, 0, axis=1)\n",
    "total_rxn=total_rxn/np.sum(total_rxn)"
   ]
  },
  {
   "cell_type": "code",
   "execution_count": null,
   "metadata": {},
   "outputs": [],
   "source": []
  },
  {
   "cell_type": "code",
   "execution_count": null,
   "metadata": {},
   "outputs": [],
   "source": [
    "# Create a figure instance\n",
    "import matplotlib\n",
    "import matplotlib.pyplot as plt\n",
    "%matplotlib inline \n",
    "\n",
    "fig = plt.figure(1, figsize=(5, 5))\n",
    "fig.suptitle('Test', fontsize=12, fontweight='bold')\n",
    "\n",
    "\n",
    "# Create an axes instance\n",
    "ax = fig.add_subplot(111)\n",
    "ax.set_ylabel('test')\n",
    "\n",
    "\n",
    "\n",
    "# Create the boxplot\n",
    "bp = ax.boxplot(total_rxn )\n",
    "fig.savefig('total_rxn_28.pdf', bbox_inches='tight')"
   ]
  },
  {
   "cell_type": "code",
   "execution_count": null,
   "metadata": {},
   "outputs": [],
   "source": [
    "#at 5% filled \n",
    "#total_rxn_5 = np.zeros(shape=(10,4))\n",
    "#total_rxn_5[0] = rxn_results.sum(axis=0)\n",
    "total_rxn_5\n",
    "\n",
    "total_rxn_5=np.delete(total_rxn_5, 3, axis=1)\n",
    "total_rxn_5=np.delete(total_rxn_5, 0, axis=1)\n",
    "total_rxn_5=total_rxn_5/np.sum(total_rxn_5)"
   ]
  },
  {
   "cell_type": "code",
   "execution_count": null,
   "metadata": {},
   "outputs": [],
   "source": [
    "fig = plt.figure(1, figsize=(5, 5))\n",
    "fig.suptitle('Test', fontsize=12, fontweight='bold')\n",
    "\n",
    "\n",
    "# Create an axes instance\n",
    "ax = fig.add_subplot(111)\n",
    "ax.set_ylabel('test')\n",
    "\n",
    "\n",
    "\n",
    "# Create the boxplot\n",
    "bp = ax.boxplot(total_rxn_5 )\n",
    "fig.savefig('fig_5.pdf', bbox_inches='tight')"
   ]
  },
  {
   "cell_type": "code",
   "execution_count": null,
   "metadata": {},
   "outputs": [],
   "source": [
    "#at 60% filled \n",
    "#total_rxn_60 = np.zeros(shape=(10,4))\n",
    "\n",
    "total_rxn_60=np.delete(total_rxn_60, 3, axis=1)\n",
    "total_rxn_60=np.delete(total_rxn_60, 0, axis=1)\n",
    "total_rxn_60=total_rxn_60/np.sum(total_rxn_60)\n",
    "print total_rxn_60"
   ]
  },
  {
   "cell_type": "code",
   "execution_count": null,
   "metadata": {},
   "outputs": [],
   "source": [
    "fig = plt.figure(1, figsize=(5, 5))\n",
    "fig.suptitle('Test', fontsize=12, fontweight='bold')\n",
    "\n",
    "\n",
    "# Create an axes instance\n",
    "ax = fig.add_subplot(111)\n",
    "ax.set_ylabel('test')\n",
    "\n",
    "\n",
    "\n",
    "# Create the boxplot\n",
    "bp = ax.boxplot(total_rxn_60 )\n",
    "fig.savefig('fig_60.pdf', bbox_inches='tight')"
   ]
  },
  {
   "cell_type": "code",
   "execution_count": null,
   "metadata": {},
   "outputs": [],
   "source": []
  },
  {
   "cell_type": "code",
   "execution_count": null,
   "metadata": {},
   "outputs": [],
   "source": []
  },
  {
   "cell_type": "code",
   "execution_count": null,
   "metadata": {
    "scrolled": true
   },
   "outputs": [],
   "source": [
    "from __future__ import division\n",
    "\n",
    "k_move = 1e-1\n",
    "k_bind = 1e5 \n",
    "k_off = 1e1\n",
    "len_factor = 1\n",
    "tau = 1e-3\n",
    "\n",
    "# movement\n",
    "move = sum(move_count.values() )\n",
    "move_k = move * k_move\n",
    "\n",
    "# bind (intermolecular)\n",
    "num_of_intermolc = rxn_results.sum(axis=0)[1]\n",
    "bind_k = num_of_intermolc * k_bind\n",
    "\n",
    "# self-bind (intramolecular)\n",
    "self_bind_k = k_bind\n",
    "\n",
    "# dissociate\n",
    "dissociate = len(g.get_edgelist())\n",
    "dissociate_k = k_off\n",
    "\n",
    "print move_k, bind_k, self_bind_k, dissociate_k\n",
    "\n",
    "    \n",
    "k_0 = move_k + bind_k + self_bind_k + dissociate_k\n",
    "\n",
    "print '……'\n",
    "print k_0\n",
    "print move_k/k_0\n",
    "print bind_k/k_0\n",
    "print self_bind_k/k_0\n",
    "print dissociate_k/k_0\n",
    "    \n",
    "for i in range(50):\n",
    "    print allRxn(move_k, bind_k, self_bind_k, dissociate_k)\n",
    "\n",
    "\n",
    "#options = numpy.zeros((4, 1))\n",
    "#options[0] = move/k_0\n",
    "#options[1] = bind/k_0\n",
    "#options[2] = self_bind/k_0\n",
    "#options[3] = dissociate/k_0\n",
    "#print options\n",
    "#print move/k_0"
   ]
  },
  {
   "cell_type": "code",
   "execution_count": null,
   "metadata": {},
   "outputs": [],
   "source": [
    "myList=options\n",
    "myNumber=0.01\n",
    "out_val = min(myList, key=lambda x:abs(x-myNumber))\n",
    "\n",
    "if out_val == options[0]:\n",
    "    print 'move'\n",
    "if out_val == options[1]:\n",
    "    print 'bind'\n",
    "if out_val == options[2]:\n",
    "    print 'self_bind'\n",
    "if out_val == options[3]:\n",
    "    print 'dissociate'"
   ]
  },
  {
   "cell_type": "code",
   "execution_count": null,
   "metadata": {},
   "outputs": [],
   "source": []
  },
  {
   "cell_type": "code",
   "execution_count": null,
   "metadata": {},
   "outputs": [],
   "source": []
  },
  {
   "cell_type": "code",
   "execution_count": null,
   "metadata": {},
   "outputs": [],
   "source": []
  },
  {
   "cell_type": "code",
   "execution_count": null,
   "metadata": {},
   "outputs": [],
   "source": []
  },
  {
   "cell_type": "code",
   "execution_count": 401,
   "metadata": {},
   "outputs": [
    {
     "data": {
      "text/plain": [
       "2.96e-05"
      ]
     },
     "execution_count": 401,
     "metadata": {},
     "output_type": "execute_result"
    }
   ],
   "source": [
    "sum(bind_count.values()) *1e-4*tau\n",
    "dissociate = len(g.get_edgelist())                            # dissociation\n",
    "dissociate_k = dissociate * k_off * tau"
   ]
  },
  {
   "cell_type": "code",
   "execution_count": 406,
   "metadata": {},
   "outputs": [
    {
     "data": {
      "text/plain": [
       "0.0"
      ]
     },
     "execution_count": 406,
     "metadata": {},
     "output_type": "execute_result"
    }
   ],
   "source": []
  },
  {
   "cell_type": "code",
   "execution_count": 394,
   "metadata": {},
   "outputs": [
    {
     "name": "stdout",
     "output_type": "stream",
     "text": [
      "0.0398\n",
      "29600.0\n",
      "0.0\n"
     ]
    }
   ],
   "source": [
    "print move_k\n",
    "print bind_k\n",
    "print dissociate_k"
   ]
  },
  {
   "cell_type": "code",
   "execution_count": 326,
   "metadata": {
    "scrolled": false
   },
   "outputs": [
    {
     "data": {
      "text/plain": [
       "Counter({'bind': 2, 'dissociate': 2, 'move': 64, 'self_bind': 4932})"
      ]
     },
     "execution_count": 326,
     "metadata": {},
     "output_type": "execute_result"
    }
   ],
   "source": [
    "k_move = 1e-3\n",
    "k_bind = 1e-4\n",
    "k_off = 1e-1\n",
    "len_factor = 0.01\n",
    "tau = 1e-3\n",
    "times = []\n",
    "        \n",
    "move = sum(move_count.values() )                              # movement\n",
    "move_k = move * k_move * tau\n",
    "\n",
    "bind = sum(bind_count.values() )                              # binding\n",
    "bind_k = bind * k_bind * tau\n",
    "\n",
    "rxn_type = []\n",
    "for i in range(5000):\n",
    "    rxn_type.append( allRxn(move_k, bind_k, self_bind_k, dissociate_k) )\n",
    "collections.Counter(rxn_type)"
   ]
  },
  {
   "cell_type": "code",
   "execution_count": 345,
   "metadata": {},
   "outputs": [
    {
     "data": {
      "text/plain": [
       "7.3e-06"
      ]
     },
     "execution_count": 345,
     "metadata": {},
     "output_type": "execute_result"
    }
   ],
   "source": [
    "2.92e-07/0.04"
   ]
  },
  {
   "cell_type": "code",
   "execution_count": 357,
   "metadata": {},
   "outputs": [
    {
     "data": {
      "text/plain": [
       "array([  4.,   0., 997.,   0.])"
      ]
     },
     "execution_count": 357,
     "metadata": {},
     "output_type": "execute_result"
    }
   ],
   "source": []
  },
  {
   "cell_type": "code",
   "execution_count": null,
   "metadata": {},
   "outputs": [],
   "source": []
  },
  {
   "cell_type": "code",
   "execution_count": 354,
   "metadata": {},
   "outputs": [
    {
     "data": {
      "text/plain": [
       "Counter({1: 842, 2: 457})"
      ]
     },
     "execution_count": 354,
     "metadata": {},
     "output_type": "execute_result"
    }
   ],
   "source": [
    "collections.Counter(binding_result)"
   ]
  },
  {
   "cell_type": "code",
   "execution_count": 137,
   "metadata": {},
   "outputs": [],
   "source": [
    "(715, 33) 6183, 79\n",
    "(559, 0)  5610, 40\n",
    "607, 0\n",
    "\n",
    "d = {'col1': [1, 2], 'col2': [3, 4]}"
   ]
  },
  {
   "cell_type": "code",
   "execution_count": 139,
   "metadata": {},
   "outputs": [],
   "source": []
  },
  {
   "cell_type": "code",
   "execution_count": null,
   "metadata": {},
   "outputs": [],
   "source": []
  },
  {
   "cell_type": "markdown",
   "metadata": {},
   "source": [
    "## Plot results"
   ]
  },
  {
   "cell_type": "code",
   "execution_count": 33,
   "metadata": {},
   "outputs": [],
   "source": [
    "import matplotlib\n",
    "import matplotlib.pyplot as plt\n",
    "%matplotlib inline "
   ]
  },
  {
   "cell_type": "code",
   "execution_count": 34,
   "metadata": {},
   "outputs": [],
   "source": [
    "binding_result = []\n",
    "for i in range(len(g.get_edgelist() ) ):\n",
    "    # store tuple in online fashion\n",
    "    to_check = g.get_edgelist()[i]\n",
    "    # count the number of times this index repeats. \n",
    "    # If it is once, then it is a higer level binder. If it is two it is a self binder\n",
    "    binding_result.append( to_check.count(to_check[0]) )"
   ]
  },
  {
   "cell_type": "code",
   "execution_count": null,
   "metadata": {},
   "outputs": [],
   "source": []
  },
  {
   "cell_type": "markdown",
   "metadata": {},
   "source": [
    "## Example of interaction as a function of density (500/55x55)"
   ]
  },
  {
   "cell_type": "code",
   "execution_count": 35,
   "metadata": {},
   "outputs": [
    {
     "name": "stdout",
     "output_type": "stream",
     "text": [
      "Counter()\n"
     ]
    }
   ],
   "source": [
    "print collections.Counter(binding_result)"
   ]
  },
  {
   "cell_type": "code",
   "execution_count": 294,
   "metadata": {},
   "outputs": [
    {
     "ename": "TypeError",
     "evalue": "list indices must be integers, not tuple",
     "output_type": "error",
     "traceback": [
      "\u001b[0;31m---------------------------------------------------------------------------\u001b[0m",
      "\u001b[0;31mTypeError\u001b[0m                                 Traceback (most recent call last)",
      "\u001b[0;32m<ipython-input-294-f7f4d84b83de>\u001b[0m in \u001b[0;36m<module>\u001b[0;34m()\u001b[0m\n\u001b[1;32m      2\u001b[0m \u001b[0;31m#inter_molc = summarized_results[:,1]\u001b[0m\u001b[0;34m\u001b[0m\u001b[0;34m\u001b[0m\u001b[0m\n\u001b[1;32m      3\u001b[0m \u001b[0;34m\u001b[0m\u001b[0m\n\u001b[0;32m----> 4\u001b[0;31m \u001b[0mintra_molc\u001b[0m \u001b[0;34m=\u001b[0m \u001b[0mbinding_result\u001b[0m\u001b[0;34m[\u001b[0m\u001b[0;34m:\u001b[0m\u001b[0;34m,\u001b[0m \u001b[0;36m0\u001b[0m\u001b[0;34m]\u001b[0m\u001b[0;34m\u001b[0m\u001b[0m\n\u001b[0m\u001b[1;32m      5\u001b[0m \u001b[0minter_molc\u001b[0m \u001b[0;34m=\u001b[0m \u001b[0mbinding_result\u001b[0m\u001b[0;34m[\u001b[0m\u001b[0;34m:\u001b[0m\u001b[0;34m,\u001b[0m \u001b[0;36m1\u001b[0m\u001b[0;34m]\u001b[0m\u001b[0;34m\u001b[0m\u001b[0m\n\u001b[1;32m      6\u001b[0m \u001b[0;34m\u001b[0m\u001b[0m\n",
      "\u001b[0;31mTypeError\u001b[0m: list indices must be integers, not tuple"
     ]
    }
   ],
   "source": [
    "#intra_molc = summarized_results[:,0]\n",
    "#inter_molc = summarized_results[:,1]\n",
    "\n",
    "intra_molc = binding_result[:, 0]\n",
    "inter_molc = binding_result[:, 1]\n",
    "\n",
    "plt.scatter(times, intra_molc, s =1,alpha=.5, c ='orange')\n",
    "plt.scatter(times, [0]*len(times), s =1,alpha=.5, c='blue')\n",
    "\n",
    "plt.ylabel('Amount of Product',  fontsize=9)\n",
    "plt.xlabel('Time',  fontsize=9)\n",
    "\n",
    "plt.show()"
   ]
  },
  {
   "cell_type": "code",
   "execution_count": 295,
   "metadata": {},
   "outputs": [
    {
     "data": {
      "text/plain": [
       "<matplotlib.collections.PathCollection at 0x1122ced50>"
      ]
     },
     "execution_count": 295,
     "metadata": {},
     "output_type": "execute_result"
    },
    {
     "data": {
      "image/png": "[encoded data removed]",
      "text/plain": [
       "<Figure size 432x288 with 1 Axes>"
      ]
     },
     "metadata": {
      "needs_background": "light"
     },
     "output_type": "display_data"
    }
   ],
   "source": [
    "plt.scatter(inter_molc, intra_molc, s =1,alpha=.5, c ='red')"
   ]
  },
  {
   "cell_type": "markdown",
   "metadata": {},
   "source": [
    "## Example of interaction as a function of density (2800/55x55)"
   ]
  },
  {
   "cell_type": "code",
   "execution_count": 409,
   "metadata": {
    "scrolled": true
   },
   "outputs": [
    {
     "data": {
      "image/png": "[encoded data removed]",
      "text/plain": [
       "<Figure size 432x288 with 1 Axes>"
      ]
     },
     "metadata": {
      "needs_background": "light"
     },
     "output_type": "display_data"
    }
   ],
   "source": [
    "intra_molc = summarized_results[:,0]\n",
    "inter_molc = summarized_results[:,1]\n",
    "\n",
    "plt.scatter(times, intra_molc, s =1,alpha=.5, c='orange')\n",
    "plt.scatter(times, inter_molc, s =1,alpha=.5, c='blue')\n",
    "\n",
    "plt.ylabel('Amount of Product',  fontsize=9)\n",
    "plt.xlabel('Time',  fontsize=9)\n",
    "\n",
    "plt.show()"
   ]
  },
  {
   "cell_type": "markdown",
   "metadata": {},
   "source": [
    "##  Example of interaction as a function of density (1400/55x55)"
   ]
  },
  {
   "cell_type": "code",
   "execution_count": 477,
   "metadata": {},
   "outputs": [
    {
     "name": "stdout",
     "output_type": "stream",
     "text": [
      "Counter({2: 13747, 1: 1222})\n"
     ]
    }
   ],
   "source": [
    "# 2 is INTRA, 1 is INTER\n",
    "print collections.Counter(binding_result)"
   ]
  },
  {
   "cell_type": "code",
   "execution_count": 478,
   "metadata": {},
   "outputs": [
    {
     "data": {
      "image/png": "[encoded data removed]",
      "text/plain": [
       "<Figure size 432x288 with 1 Axes>"
      ]
     },
     "metadata": {
      "needs_background": "light"
     },
     "output_type": "display_data"
    }
   ],
   "source": [
    "intra_molc = summarized_results[:,0]\n",
    "inter_molc = summarized_results[:,1]\n",
    "\n",
    "plt.scatter(times, intra_molc, s =1,alpha=.5, c='orange')\n",
    "plt.scatter(times, inter_molc, s =1,alpha=.5, c='blue')\n",
    "\n",
    "plt.ylabel('Amount of Product',  fontsize=9)\n",
    "plt.xlabel('Time',  fontsize=9)\n",
    "\n",
    "plt.show()"
   ]
  },
  {
   "cell_type": "markdown",
   "metadata": {},
   "source": [
    "## Example of interaction as a function of density (2000/55x55)"
   ]
  },
  {
   "cell_type": "code",
   "execution_count": 468,
   "metadata": {},
   "outputs": [
    {
     "name": "stdout",
     "output_type": "stream",
     "text": [
      "Counter({2: 22391, 1: 1659})\n"
     ]
    }
   ],
   "source": [
    "# 2 is INTRA, 1 is INTER\n",
    "print collections.Counter(binding_result)"
   ]
  },
  {
   "cell_type": "code",
   "execution_count": 469,
   "metadata": {},
   "outputs": [
    {
     "data": {
      "image/png": "[encoded data removed]",
      "text/plain": [
       "<Figure size 432x288 with 1 Axes>"
      ]
     },
     "metadata": {
      "needs_background": "light"
     },
     "output_type": "display_data"
    }
   ],
   "source": [
    "intra_molc = summarized_results[:,0]\n",
    "inter_molc = summarized_results[:,1]\n",
    "\n",
    "plt.scatter(times, intra_molc, s =1,alpha=.5, c='orange')\n",
    "plt.scatter(times, inter_molc, s =1,alpha=.5, c='blue')\n",
    "\n",
    "plt.ylabel('Amount of Product',  fontsize=9)\n",
    "plt.xlabel('Time',  fontsize=9)\n",
    "\n",
    "plt.show()"
   ]
  },
  {
   "cell_type": "code",
   "execution_count": null,
   "metadata": {},
   "outputs": [],
   "source": []
  }
 ],
 "metadata": {
  "kernelspec": {
   "display_name": "Python 2",
   "language": "python",
   "name": "python2"
  },
  "language_info": {
   "codemirror_mode": {
    "name": "ipython",
    "version": 2
   },
   "file_extension": ".py",
   "mimetype": "text/x-python",
   "name": "python",
   "nbconvert_exporter": "python",
   "pygments_lexer": "ipython2",
   "version": "2.7.16"
  }
 },
 "nbformat": 4,
 "nbformat_minor": 2
}
